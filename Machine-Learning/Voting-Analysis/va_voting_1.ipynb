{
  "cells": [
    {
      "cell_type": "markdown",
      "metadata": {
        "id": "view-in-github",
        "colab_type": "text"
      },
      "source": [
        "<a href=\"https://colab.research.google.com/github/amolaka/DS-3001---Voting-Project/blob/main/va_voting_1.ipynb\" target=\"_parent\"><img src=\"https://colab.research.google.com/assets/colab-badge.svg\" alt=\"Open In Colab\"/></a>"
      ]
    },
    {
      "cell_type": "markdown",
      "id": "5bb76472-e13d-4118-af79-b29410cec8ba",
      "metadata": {
        "id": "5bb76472-e13d-4118-af79-b29410cec8ba"
      },
      "source": [
        "# Voting in Virginia Starter Notebook"
      ]
    },
    {
      "cell_type": "markdown",
      "id": "f55965d2-50c6-4d2f-ad88-8d9fbe6f90c0",
      "metadata": {
        "id": "f55965d2-50c6-4d2f-ad88-8d9fbe6f90c0"
      },
      "source": [
        "This is just a starter notebook with some \"heatmap\"/choropleth plots of Virginia and the 2020 election."
      ]
    },
    {
      "cell_type": "code",
      "source": [
        "! pip3 install mapclassify"
      ],
      "metadata": {
        "id": "5z5ZDg8CGY40",
        "outputId": "86b74c78-0967-40e4-f7e5-9be96ee03b50",
        "colab": {
          "base_uri": "https://localhost:8080/"
        }
      },
      "id": "5z5ZDg8CGY40",
      "execution_count": null,
      "outputs": [
        {
          "output_type": "stream",
          "name": "stdout",
          "text": [
            "Collecting mapclassify\n",
            "  Downloading mapclassify-2.6.1-py3-none-any.whl (38 kB)\n",
            "Requirement already satisfied: networkx>=2.7 in /usr/local/lib/python3.10/dist-packages (from mapclassify) (3.3)\n",
            "Requirement already satisfied: numpy>=1.23 in /usr/local/lib/python3.10/dist-packages (from mapclassify) (1.25.2)\n",
            "Requirement already satisfied: pandas!=1.5.0,>=1.4 in /usr/local/lib/python3.10/dist-packages (from mapclassify) (2.0.3)\n",
            "Requirement already satisfied: scikit-learn>=1.0 in /usr/local/lib/python3.10/dist-packages (from mapclassify) (1.2.2)\n",
            "Requirement already satisfied: scipy>=1.8 in /usr/local/lib/python3.10/dist-packages (from mapclassify) (1.11.4)\n",
            "Requirement already satisfied: python-dateutil>=2.8.2 in /usr/local/lib/python3.10/dist-packages (from pandas!=1.5.0,>=1.4->mapclassify) (2.8.2)\n",
            "Requirement already satisfied: pytz>=2020.1 in /usr/local/lib/python3.10/dist-packages (from pandas!=1.5.0,>=1.4->mapclassify) (2023.4)\n",
            "Requirement already satisfied: tzdata>=2022.1 in /usr/local/lib/python3.10/dist-packages (from pandas!=1.5.0,>=1.4->mapclassify) (2024.1)\n",
            "Requirement already satisfied: joblib>=1.1.1 in /usr/local/lib/python3.10/dist-packages (from scikit-learn>=1.0->mapclassify) (1.4.0)\n",
            "Requirement already satisfied: threadpoolctl>=2.0.0 in /usr/local/lib/python3.10/dist-packages (from scikit-learn>=1.0->mapclassify) (3.5.0)\n",
            "Requirement already satisfied: six>=1.5 in /usr/local/lib/python3.10/dist-packages (from python-dateutil>=2.8.2->pandas!=1.5.0,>=1.4->mapclassify) (1.16.0)\n",
            "Installing collected packages: mapclassify\n",
            "Successfully installed mapclassify-2.6.1\n"
          ]
        }
      ]
    },
    {
      "cell_type": "code",
      "source": [
        "pip install --upgrade pip\n"
      ],
      "metadata": {
        "id": "f2Zkty-ROKnY",
        "outputId": "45287beb-4764-4c04-ac1e-e1f6fbf5b0da",
        "colab": {
          "base_uri": "https://localhost:8080/"
        }
      },
      "id": "f2Zkty-ROKnY",
      "execution_count": null,
      "outputs": [
        {
          "output_type": "stream",
          "name": "stdout",
          "text": [
            "Requirement already satisfied: pip in /usr/local/lib/python3.10/dist-packages (23.1.2)\n",
            "Collecting pip\n",
            "  Downloading pip-24.0-py3-none-any.whl (2.1 MB)\n",
            "\u001b[2K     \u001b[90m━━━━━━━━━━━━━━━━━━━━━━━━━━━━━━━━━━━━━━━━\u001b[0m \u001b[32m2.1/2.1 MB\u001b[0m \u001b[31m8.5 MB/s\u001b[0m eta \u001b[36m0:00:00\u001b[0m\n",
            "\u001b[?25hInstalling collected packages: pip\n",
            "  Attempting uninstall: pip\n",
            "    Found existing installation: pip 23.1.2\n",
            "    Uninstalling pip-23.1.2:\n",
            "      Successfully uninstalled pip-23.1.2\n",
            "Successfully installed pip-24.0\n"
          ]
        }
      ]
    },
    {
      "cell_type": "code",
      "source": [
        "pip install --upgrade geopandas fiona gdal\n"
      ],
      "metadata": {
        "id": "wLHpg9EvOMKV",
        "outputId": "d5a82c8e-70ec-49e0-f87b-8b1c695b083a",
        "colab": {
          "base_uri": "https://localhost:8080/"
        }
      },
      "id": "wLHpg9EvOMKV",
      "execution_count": null,
      "outputs": [
        {
          "output_type": "stream",
          "name": "stdout",
          "text": [
            "Requirement already satisfied: geopandas in /usr/local/lib/python3.10/dist-packages (0.13.2)\n",
            "Collecting geopandas\n",
            "  Downloading geopandas-0.14.4-py3-none-any.whl.metadata (1.5 kB)\n",
            "Requirement already satisfied: fiona in /usr/local/lib/python3.10/dist-packages (1.9.6)\n",
            "Requirement already satisfied: gdal in /usr/local/lib/python3.10/dist-packages (3.6.4)\n",
            "Collecting gdal\n",
            "  Downloading GDAL-3.8.5.tar.gz (802 kB)\n",
            "\u001b[2K     \u001b[90m━━━━━━━━━━━━━━━━━━━━━━━━━━━━━━━━━━━━━━━━\u001b[0m \u001b[32m802.6/802.6 kB\u001b[0m \u001b[31m5.5 MB/s\u001b[0m eta \u001b[36m0:00:00\u001b[0m\n",
            "\u001b[?25h  \u001b[1;31merror\u001b[0m: \u001b[1msubprocess-exited-with-error\u001b[0m\n",
            "  \n",
            "  \u001b[31m×\u001b[0m \u001b[32mpython setup.py egg_info\u001b[0m did not run successfully.\n",
            "  \u001b[31m│\u001b[0m exit code: \u001b[1;36m1\u001b[0m\n",
            "  \u001b[31m╰─>\u001b[0m See above for output.\n",
            "  \n",
            "  \u001b[1;35mnote\u001b[0m: This error originates from a subprocess, and is likely not a problem with pip.\n",
            "  Preparing metadata (setup.py) ... \u001b[?25l\u001b[?25herror\n",
            "\u001b[1;31merror\u001b[0m: \u001b[1mmetadata-generation-failed\u001b[0m\n",
            "\n",
            "\u001b[31m×\u001b[0m Encountered error while generating package metadata.\n",
            "\u001b[31m╰─>\u001b[0m See above for output.\n",
            "\n",
            "\u001b[1;35mnote\u001b[0m: This is an issue with the package mentioned above, not pip.\n",
            "\u001b[1;36mhint\u001b[0m: See above for details.\n"
          ]
        }
      ]
    },
    {
      "cell_type": "code",
      "execution_count": null,
      "id": "9227b57f-75e6-4ac5-8ae8-35682574e5d7",
      "metadata": {
        "id": "9227b57f-75e6-4ac5-8ae8-35682574e5d7",
        "outputId": "4f94d737-195d-456a-8386-72ca0bad40d2",
        "colab": {
          "base_uri": "https://localhost:8080/",
          "height": 622
        }
      },
      "outputs": [
        {
          "output_type": "stream",
          "name": "stderr",
          "text": [
            "ERROR:fiona._env:./VirginiaCounty_ClippedToShoreline.shx: No such file or directory\n"
          ]
        },
        {
          "output_type": "error",
          "ename": "DriverError",
          "evalue": "./VirginiaCounty_ClippedToShoreline.shx: No such file or directory",
          "traceback": [
            "\u001b[0;31m---------------------------------------------------------------------------\u001b[0m",
            "\u001b[0;31mCPLE_OpenFailedError\u001b[0m                      Traceback (most recent call last)",
            "\u001b[0;32mfiona/ogrext.pyx\u001b[0m in \u001b[0;36mfiona.ogrext.gdal_open_vector\u001b[0;34m()\u001b[0m\n",
            "\u001b[0;32mfiona/_err.pyx\u001b[0m in \u001b[0;36mfiona._err.exc_wrap_pointer\u001b[0;34m()\u001b[0m\n",
            "\u001b[0;31mCPLE_OpenFailedError\u001b[0m: ./VirginiaCounty_ClippedToShoreline.shx: No such file or directory",
            "\nDuring handling of the above exception, another exception occurred:\n",
            "\u001b[0;31mDriverError\u001b[0m                               Traceback (most recent call last)",
            "\u001b[0;32m<ipython-input-5-328b512ebe3a>\u001b[0m in \u001b[0;36m<cell line: 10>\u001b[0;34m()\u001b[0m\n\u001b[1;32m      8\u001b[0m \u001b[0;34m\u001b[0m\u001b[0m\n\u001b[1;32m      9\u001b[0m \u001b[0;31m# Load data\u001b[0m\u001b[0;34m\u001b[0m\u001b[0;34m\u001b[0m\u001b[0m\n\u001b[0;32m---> 10\u001b[0;31m \u001b[0mgdf\u001b[0m \u001b[0;34m=\u001b[0m \u001b[0mgpd\u001b[0m\u001b[0;34m.\u001b[0m\u001b[0mread_file\u001b[0m\u001b[0;34m(\u001b[0m\u001b[0;34m'./VirginiaCounty_ClippedToShoreline.shx'\u001b[0m\u001b[0;34m)\u001b[0m \u001b[0;31m# Load Virginia shapefile for maps\u001b[0m\u001b[0;34m\u001b[0m\u001b[0;34m\u001b[0m\u001b[0m\n\u001b[0m\u001b[1;32m     11\u001b[0m \u001b[0mvdf\u001b[0m \u001b[0;34m=\u001b[0m \u001b[0mpd\u001b[0m\u001b[0;34m.\u001b[0m\u001b[0mread_csv\u001b[0m\u001b[0;34m(\u001b[0m\u001b[0;34m'./voting_VA.csv'\u001b[0m\u001b[0;34m)\u001b[0m \u001b[0;31m# Load historical voting data\u001b[0m\u001b[0;34m\u001b[0m\u001b[0;34m\u001b[0m\u001b[0m\n\u001b[1;32m     12\u001b[0m \u001b[0mcdf\u001b[0m \u001b[0;34m=\u001b[0m \u001b[0mpd\u001b[0m\u001b[0;34m.\u001b[0m\u001b[0mread_csv\u001b[0m\u001b[0;34m(\u001b[0m\u001b[0;34m'./county_adjacencies.csv'\u001b[0m\u001b[0;34m)\u001b[0m \u001b[0;31m# Load county adjacency data and population data\u001b[0m\u001b[0;34m\u001b[0m\u001b[0;34m\u001b[0m\u001b[0m\n",
            "\u001b[0;32m/usr/local/lib/python3.10/dist-packages/geopandas/io/file.py\u001b[0m in \u001b[0;36m_read_file\u001b[0;34m(filename, bbox, mask, rows, engine, **kwargs)\u001b[0m\n\u001b[1;32m    279\u001b[0m             \u001b[0mpath_or_bytes\u001b[0m \u001b[0;34m=\u001b[0m \u001b[0mfilename\u001b[0m\u001b[0;34m\u001b[0m\u001b[0;34m\u001b[0m\u001b[0m\n\u001b[1;32m    280\u001b[0m \u001b[0;34m\u001b[0m\u001b[0m\n\u001b[0;32m--> 281\u001b[0;31m         return _read_file_fiona(\n\u001b[0m\u001b[1;32m    282\u001b[0m             \u001b[0mpath_or_bytes\u001b[0m\u001b[0;34m,\u001b[0m \u001b[0mfrom_bytes\u001b[0m\u001b[0;34m,\u001b[0m \u001b[0mbbox\u001b[0m\u001b[0;34m=\u001b[0m\u001b[0mbbox\u001b[0m\u001b[0;34m,\u001b[0m \u001b[0mmask\u001b[0m\u001b[0;34m=\u001b[0m\u001b[0mmask\u001b[0m\u001b[0;34m,\u001b[0m \u001b[0mrows\u001b[0m\u001b[0;34m=\u001b[0m\u001b[0mrows\u001b[0m\u001b[0;34m,\u001b[0m \u001b[0;34m**\u001b[0m\u001b[0mkwargs\u001b[0m\u001b[0;34m\u001b[0m\u001b[0;34m\u001b[0m\u001b[0m\n\u001b[1;32m    283\u001b[0m         )\n",
            "\u001b[0;32m/usr/local/lib/python3.10/dist-packages/geopandas/io/file.py\u001b[0m in \u001b[0;36m_read_file_fiona\u001b[0;34m(path_or_bytes, from_bytes, bbox, mask, rows, where, **kwargs)\u001b[0m\n\u001b[1;32m    320\u001b[0m \u001b[0;34m\u001b[0m\u001b[0m\n\u001b[1;32m    321\u001b[0m     \u001b[0;32mwith\u001b[0m \u001b[0mfiona_env\u001b[0m\u001b[0;34m(\u001b[0m\u001b[0;34m)\u001b[0m\u001b[0;34m:\u001b[0m\u001b[0;34m\u001b[0m\u001b[0;34m\u001b[0m\u001b[0m\n\u001b[0;32m--> 322\u001b[0;31m         \u001b[0;32mwith\u001b[0m \u001b[0mreader\u001b[0m\u001b[0;34m(\u001b[0m\u001b[0mpath_or_bytes\u001b[0m\u001b[0;34m,\u001b[0m \u001b[0;34m**\u001b[0m\u001b[0mkwargs\u001b[0m\u001b[0;34m)\u001b[0m \u001b[0;32mas\u001b[0m \u001b[0mfeatures\u001b[0m\u001b[0;34m:\u001b[0m\u001b[0;34m\u001b[0m\u001b[0;34m\u001b[0m\u001b[0m\n\u001b[0m\u001b[1;32m    323\u001b[0m             \u001b[0mcrs\u001b[0m \u001b[0;34m=\u001b[0m \u001b[0mfeatures\u001b[0m\u001b[0;34m.\u001b[0m\u001b[0mcrs_wkt\u001b[0m\u001b[0;34m\u001b[0m\u001b[0;34m\u001b[0m\u001b[0m\n\u001b[1;32m    324\u001b[0m             \u001b[0;31m# attempt to get EPSG code\u001b[0m\u001b[0;34m\u001b[0m\u001b[0;34m\u001b[0m\u001b[0m\n",
            "\u001b[0;32m/usr/local/lib/python3.10/dist-packages/fiona/env.py\u001b[0m in \u001b[0;36mwrapper\u001b[0;34m(*args, **kwds)\u001b[0m\n\u001b[1;32m    455\u001b[0m \u001b[0;34m\u001b[0m\u001b[0m\n\u001b[1;32m    456\u001b[0m         \u001b[0;32mwith\u001b[0m \u001b[0menv_ctor\u001b[0m\u001b[0;34m(\u001b[0m\u001b[0msession\u001b[0m\u001b[0;34m=\u001b[0m\u001b[0msession\u001b[0m\u001b[0;34m)\u001b[0m\u001b[0;34m:\u001b[0m\u001b[0;34m\u001b[0m\u001b[0;34m\u001b[0m\u001b[0m\n\u001b[0;32m--> 457\u001b[0;31m             \u001b[0;32mreturn\u001b[0m \u001b[0mf\u001b[0m\u001b[0;34m(\u001b[0m\u001b[0;34m*\u001b[0m\u001b[0margs\u001b[0m\u001b[0;34m,\u001b[0m \u001b[0;34m**\u001b[0m\u001b[0mkwds\u001b[0m\u001b[0;34m)\u001b[0m\u001b[0;34m\u001b[0m\u001b[0;34m\u001b[0m\u001b[0m\n\u001b[0m\u001b[1;32m    458\u001b[0m \u001b[0;34m\u001b[0m\u001b[0m\n\u001b[1;32m    459\u001b[0m     \u001b[0;32mreturn\u001b[0m \u001b[0mwrapper\u001b[0m\u001b[0;34m\u001b[0m\u001b[0;34m\u001b[0m\u001b[0m\n",
            "\u001b[0;32m/usr/local/lib/python3.10/dist-packages/fiona/__init__.py\u001b[0m in \u001b[0;36mopen\u001b[0;34m(fp, mode, driver, schema, crs, encoding, layer, vfs, enabled_drivers, crs_wkt, allow_unsupported_drivers, **kwargs)\u001b[0m\n\u001b[1;32m    290\u001b[0m \u001b[0;34m\u001b[0m\u001b[0m\n\u001b[1;32m    291\u001b[0m         \u001b[0;32mif\u001b[0m \u001b[0mmode\u001b[0m \u001b[0;32min\u001b[0m \u001b[0;34m(\u001b[0m\u001b[0;34m\"a\"\u001b[0m\u001b[0;34m,\u001b[0m \u001b[0;34m\"r\"\u001b[0m\u001b[0;34m)\u001b[0m\u001b[0;34m:\u001b[0m\u001b[0;34m\u001b[0m\u001b[0;34m\u001b[0m\u001b[0m\n\u001b[0;32m--> 292\u001b[0;31m             colxn = Collection(\n\u001b[0m\u001b[1;32m    293\u001b[0m                 \u001b[0mpath\u001b[0m\u001b[0;34m,\u001b[0m\u001b[0;34m\u001b[0m\u001b[0;34m\u001b[0m\u001b[0m\n\u001b[1;32m    294\u001b[0m                 \u001b[0mmode\u001b[0m\u001b[0;34m,\u001b[0m\u001b[0;34m\u001b[0m\u001b[0;34m\u001b[0m\u001b[0m\n",
            "\u001b[0;32m/usr/local/lib/python3.10/dist-packages/fiona/collection.py\u001b[0m in \u001b[0;36m__init__\u001b[0;34m(self, path, mode, driver, schema, crs, encoding, layer, vsi, archive, enabled_drivers, crs_wkt, ignore_fields, ignore_geometry, include_fields, wkt_version, allow_unsupported_drivers, **kwargs)\u001b[0m\n\u001b[1;32m    241\u001b[0m             \u001b[0;32mif\u001b[0m \u001b[0mself\u001b[0m\u001b[0;34m.\u001b[0m\u001b[0mmode\u001b[0m \u001b[0;34m==\u001b[0m \u001b[0;34m\"r\"\u001b[0m\u001b[0;34m:\u001b[0m\u001b[0;34m\u001b[0m\u001b[0;34m\u001b[0m\u001b[0m\n\u001b[1;32m    242\u001b[0m                 \u001b[0mself\u001b[0m\u001b[0;34m.\u001b[0m\u001b[0msession\u001b[0m \u001b[0;34m=\u001b[0m \u001b[0mSession\u001b[0m\u001b[0;34m(\u001b[0m\u001b[0;34m)\u001b[0m\u001b[0;34m\u001b[0m\u001b[0;34m\u001b[0m\u001b[0m\n\u001b[0;32m--> 243\u001b[0;31m                 \u001b[0mself\u001b[0m\u001b[0;34m.\u001b[0m\u001b[0msession\u001b[0m\u001b[0;34m.\u001b[0m\u001b[0mstart\u001b[0m\u001b[0;34m(\u001b[0m\u001b[0mself\u001b[0m\u001b[0;34m,\u001b[0m \u001b[0;34m**\u001b[0m\u001b[0mkwargs\u001b[0m\u001b[0;34m)\u001b[0m\u001b[0;34m\u001b[0m\u001b[0;34m\u001b[0m\u001b[0m\n\u001b[0m\u001b[1;32m    244\u001b[0m             \u001b[0;32melif\u001b[0m \u001b[0mself\u001b[0m\u001b[0;34m.\u001b[0m\u001b[0mmode\u001b[0m \u001b[0;32min\u001b[0m \u001b[0;34m(\u001b[0m\u001b[0;34m\"a\"\u001b[0m\u001b[0;34m,\u001b[0m \u001b[0;34m\"w\"\u001b[0m\u001b[0;34m)\u001b[0m\u001b[0;34m:\u001b[0m\u001b[0;34m\u001b[0m\u001b[0;34m\u001b[0m\u001b[0m\n\u001b[1;32m    245\u001b[0m                 \u001b[0mself\u001b[0m\u001b[0;34m.\u001b[0m\u001b[0msession\u001b[0m \u001b[0;34m=\u001b[0m \u001b[0mWritingSession\u001b[0m\u001b[0;34m(\u001b[0m\u001b[0;34m)\u001b[0m\u001b[0;34m\u001b[0m\u001b[0;34m\u001b[0m\u001b[0m\n",
            "\u001b[0;32mfiona/ogrext.pyx\u001b[0m in \u001b[0;36mfiona.ogrext.Session.start\u001b[0;34m()\u001b[0m\n",
            "\u001b[0;32mfiona/ogrext.pyx\u001b[0m in \u001b[0;36mfiona.ogrext.gdal_open_vector\u001b[0;34m()\u001b[0m\n",
            "\u001b[0;31mDriverError\u001b[0m: ./VirginiaCounty_ClippedToShoreline.shx: No such file or directory"
          ]
        }
      ],
      "source": [
        "import geopandas as gpd\n",
        "import mapclassify\n",
        "import pandas as pd\n",
        "import matplotlib\n",
        "import matplotlib.pyplot as plt\n",
        "import numpy as np\n",
        "from mpl_toolkits.axes_grid1 import make_axes_locatable\n",
        "\n",
        "# Load data\n",
        "gdf = gpd.read_file('./VirginiaCounty_ClippedToShoreline.shx') # Load Virginia shapefile for maps\n",
        "vdf = pd.read_csv('./voting_VA.csv') # Load historical voting data\n",
        "cdf = pd.read_csv('./county_adjacencies.csv') # Load county adjacency data and population data\n",
        "\n",
        "# Merge shapefile data and county adjacency data:\n",
        "gdf['FIPS_left'] = pd.to_numeric(gdf['STCOFIPS'])\n",
        "df = gdf.merge(cdf,left_on='FIPS_left',right_on='FIPS')  # merge county population and adjacency data into df\n",
        "del gdf, cdf"
      ]
    },
    {
      "cell_type": "markdown",
      "id": "352bd173-d892-4992-af62-7fc31fd6b45e",
      "metadata": {
        "id": "352bd173-d892-4992-af62-7fc31fd6b45e"
      },
      "source": [
        "# Population Data"
      ]
    },
    {
      "cell_type": "markdown",
      "id": "21ebfc7b-1b03-4d1c-a6d2-aaeb38ff7ea8",
      "metadata": {
        "id": "21ebfc7b-1b03-4d1c-a6d2-aaeb38ff7ea8"
      },
      "source": [
        "Here is code to make choropleth maps:"
      ]
    },
    {
      "cell_type": "code",
      "execution_count": null,
      "id": "9125a72d-73bc-4c55-9b1c-09c1b096dad7",
      "metadata": {
        "id": "9125a72d-73bc-4c55-9b1c-09c1b096dad7"
      },
      "outputs": [],
      "source": [
        "fig = plt.figure()\n",
        "ax = fig.add_axes([0, 0, 2, 2])\n",
        "divider = make_axes_locatable(ax)\n",
        "ax.axis('off')\n",
        "cax = divider.append_axes(\"right\", size=\"2%\", pad=0.08)\n",
        "df.plot(ax=ax,column='Population2022',legend=True,cax=cax)"
      ]
    },
    {
      "cell_type": "markdown",
      "id": "20341a81-63c3-4e00-86a7-ae71044e1f3d",
      "metadata": {
        "id": "20341a81-63c3-4e00-86a7-ae71044e1f3d"
      },
      "source": [
        "# Voting Districts"
      ]
    },
    {
      "cell_type": "markdown",
      "id": "32711acc-62fa-47ab-bcd8-6527d1c6d15b",
      "metadata": {
        "id": "32711acc-62fa-47ab-bcd8-6527d1c6d15b"
      },
      "source": [
        "My map:"
      ]
    },
    {
      "cell_type": "code",
      "execution_count": null,
      "id": "8b0d6951-e3e2-461e-9b57-d311351a706e",
      "metadata": {
        "id": "8b0d6951-e3e2-461e-9b57-d311351a706e"
      },
      "outputs": [],
      "source": [
        "fig = plt.figure()\n",
        "ax = fig.add_axes([0, 0, 2, 2])\n",
        "divider = make_axes_locatable(ax)\n",
        "ax.axis('off')\n",
        "#cax = divider.append_axes(\"right\", size=\"2%\", pad=0.08)\n",
        "df['Districts'] = df['District'].astype(str)\n",
        "df.plot(ax=ax,column='Districts',legend=True)#,cax=cax"
      ]
    },
    {
      "cell_type": "markdown",
      "id": "aabf551b-0b1f-470b-b1c8-f581249b5a37",
      "metadata": {
        "id": "aabf551b-0b1f-470b-b1c8-f581249b5a37"
      },
      "source": [
        "Actual map:"
      ]
    },
    {
      "cell_type": "markdown",
      "id": "aaf48376-1b3c-4dd6-9fcf-192294bf59bf",
      "metadata": {
        "id": "aaf48376-1b3c-4dd6-9fcf-192294bf59bf"
      },
      "source": [
        "<img src=\"https://github.com/phillipsophie/project_voting/blob/main/va_map.jpeg?raw=1\" width=\"1350\" >"
      ]
    },
    {
      "cell_type": "markdown",
      "id": "8eacc815-dc58-45f7-b3cc-df5c1439e3b3",
      "metadata": {
        "id": "8eacc815-dc58-45f7-b3cc-df5c1439e3b3"
      },
      "source": [
        "This is close but there are some issues to work out."
      ]
    },
    {
      "cell_type": "markdown",
      "id": "b6fc69b4-23c6-4309-b356-974b367aa5f3",
      "metadata": {
        "id": "b6fc69b4-23c6-4309-b356-974b367aa5f3"
      },
      "source": [
        "## Voting from 2020"
      ]
    },
    {
      "cell_type": "markdown",
      "id": "9f1c2d23-5ba4-49a1-96ca-ae25917c7a42",
      "metadata": {
        "id": "9f1c2d23-5ba4-49a1-96ca-ae25917c7a42"
      },
      "source": [
        "Clean vote data and merge into the df we're using to make maps:"
      ]
    },
    {
      "cell_type": "code",
      "execution_count": null,
      "id": "4b0cf47e-69de-46b3-a06e-9293ade32f35",
      "metadata": {
        "id": "4b0cf47e-69de-46b3-a06e-9293ade32f35"
      },
      "outputs": [],
      "source": [
        "df20 = vdf.loc[ vdf['year']==2020,:] # Only the 2020 data\n",
        "\n",
        "Dvotes = df20.loc[(df20['party']=='DEMOCRAT'),:].groupby('county_fips')['candidatevotes'].sum()\n",
        "Dvotes = Dvotes.rename('dem_votes_2020')\n",
        "df = df.merge(Dvotes,left_on='FIPS_left',right_on='county_fips') #df1.merge(df2, left_on='lkey', right_on='rkey\n",
        "\n",
        "Rvotes = df20.loc[(df20['party']=='REPUBLICAN'),:].groupby('county_fips')['candidatevotes'].sum()\n",
        "Rvotes = Rvotes.rename('rep_votes_2020')\n",
        "df = df.merge(Rvotes,left_on='FIPS_left',right_on='county_fips') #df1.merge(df2, left_on='lkey', right_on='rkey"
      ]
    },
    {
      "cell_type": "markdown",
      "id": "ba282a33-8a25-47af-9c0c-21839c4b3e81",
      "metadata": {
        "id": "ba282a33-8a25-47af-9c0c-21839c4b3e81"
      },
      "source": [
        "Raw 2020 Democrat votes:"
      ]
    },
    {
      "cell_type": "code",
      "execution_count": null,
      "id": "520a32ab-ac0d-4838-a60a-d93e9afb0187",
      "metadata": {
        "id": "520a32ab-ac0d-4838-a60a-d93e9afb0187"
      },
      "outputs": [],
      "source": [
        "fig = plt.figure()\n",
        "ax = fig.add_axes([0, 0, 2, 2])\n",
        "divider = make_axes_locatable(ax)\n",
        "ax.axis('off')\n",
        "cax = divider.append_axes(\"right\", size=\"2%\", pad=0.08)\n",
        "df.plot(ax=ax,column='dem_votes_2020',legend=True,cax=cax)"
      ]
    },
    {
      "cell_type": "markdown",
      "id": "d21a65ef-ed63-4ec1-a3ac-fc4581bcb251",
      "metadata": {
        "id": "d21a65ef-ed63-4ec1-a3ac-fc4581bcb251"
      },
      "source": [
        "Raw Republican votes:"
      ]
    },
    {
      "cell_type": "code",
      "execution_count": null,
      "id": "4c36c14b-0f99-4f26-8d2e-83019c921ff4",
      "metadata": {
        "id": "4c36c14b-0f99-4f26-8d2e-83019c921ff4"
      },
      "outputs": [],
      "source": [
        "fig = plt.figure()\n",
        "ax = fig.add_axes([0, 0, 2, 2])\n",
        "divider = make_axes_locatable(ax)\n",
        "ax.axis('off')\n",
        "cax = divider.append_axes(\"right\", size=\"2%\", pad=0.08)\n",
        "df.plot(ax=ax,column='rep_votes_2020',legend=True,cax=cax)"
      ]
    },
    {
      "cell_type": "markdown",
      "id": "8a55c9cc-cacd-4c14-9826-3be6fe67a453",
      "metadata": {
        "id": "8a55c9cc-cacd-4c14-9826-3be6fe67a453"
      },
      "source": [
        "Since both more D's and R's live places where more people live, you get really similar maps. But if you look at the scales, they're very different. We need to represent not just the raw levels, but the vote margins between the two parties."
      ]
    },
    {
      "cell_type": "markdown",
      "id": "49d3994f-2792-4d9b-a067-0e4d6f1a32e4",
      "metadata": {
        "id": "49d3994f-2792-4d9b-a067-0e4d6f1a32e4"
      },
      "source": [
        "Difference in Dem and Rep votes:"
      ]
    },
    {
      "cell_type": "code",
      "execution_count": null,
      "id": "b9578f49-4621-4759-983d-41b5399d6437",
      "metadata": {
        "id": "b9578f49-4621-4759-983d-41b5399d6437"
      },
      "outputs": [],
      "source": [
        "df['vote_diff'] = df['rep_votes_2020']-df['dem_votes_2020']\n",
        "\n",
        "fig = plt.figure()\n",
        "ax = fig.add_axes([0, 0, 2, 2])\n",
        "divider = make_axes_locatable(ax)\n",
        "ax.axis('off')\n",
        "cax = divider.append_axes(\"right\", size=\"2%\", pad=0.08)\n",
        "df.plot(ax=ax,column='vote_diff',legend=True,cax=cax,cmap='bwr',edgecolor='k')"
      ]
    },
    {
      "cell_type": "markdown",
      "id": "be4cd7d7-8611-4d72-b4c3-ab7fdf7ead55",
      "metadata": {
        "id": "be4cd7d7-8611-4d72-b4c3-ab7fdf7ead55"
      },
      "source": [
        "That plot is somewhat misleading because the \"white\" color values don't correspond to zero, but rather -100,000, making the state look more red than it is. Because of the psychology of the visualization, it's probably better not to pick red/blue colors:"
      ]
    },
    {
      "cell_type": "code",
      "execution_count": null,
      "id": "8076f957-ab6b-43ea-8992-823237a8e95a",
      "metadata": {
        "id": "8076f957-ab6b-43ea-8992-823237a8e95a"
      },
      "outputs": [],
      "source": [
        "df['vote_diff'] = df['rep_votes_2020']-df['dem_votes_2020']\n",
        "\n",
        "fig = plt.figure()\n",
        "ax = fig.add_axes([0, 0, 2, 2])\n",
        "divider = make_axes_locatable(ax)\n",
        "ax.axis('off')\n",
        "cax = divider.append_axes(\"right\", size=\"2%\", pad=0.08)\n",
        "df.plot(ax=ax,column='vote_diff',legend=True,cax=cax,edgecolor='w')"
      ]
    },
    {
      "cell_type": "markdown",
      "id": "47f71140-26a1-41dd-b4ec-0ef0eeff2485",
      "metadata": {
        "id": "47f71140-26a1-41dd-b4ec-0ef0eeff2485"
      },
      "source": [
        "Here's a way to discretize the scale:"
      ]
    },
    {
      "cell_type": "code",
      "execution_count": null,
      "id": "0474bc73-71ff-4ff4-bd9c-a52637ed6038",
      "metadata": {
        "id": "0474bc73-71ff-4ff4-bd9c-a52637ed6038"
      },
      "outputs": [],
      "source": [
        "df['vote_diff'] = df['rep_votes_2020']-df['dem_votes_2020']\n",
        "\n",
        "fig = plt.figure()\n",
        "ax = fig.add_axes([0, 0, 2, 2])\n",
        "divider = make_axes_locatable(ax)\n",
        "ax.axis('off')\n",
        "#cax = divider.append_axes(\"right\", size=\"2%\", pad=0.08)\n",
        "df.plot(ax=ax,column='vote_diff',legend=True,cmap='bwr',edgecolor='k',scheme='Quantiles',k=7)"
      ]
    },
    {
      "cell_type": "markdown",
      "id": "118d5311-6e36-4062-81d4-54ae59678b22",
      "metadata": {
        "id": "118d5311-6e36-4062-81d4-54ae59678b22"
      },
      "source": [
        "Slightly better, still not perfect.\n",
        "\n",
        "That is a very long tail. Support for the Democrats is extremely strong in the north-northeast and southeast parts of the state.\n",
        "\n",
        "Let's take the inverse hyperbolic sine of the difference to resolve some of the \"long tail\" issues:"
      ]
    },
    {
      "cell_type": "code",
      "execution_count": null,
      "id": "55854be6-faf2-4114-bd79-6e407e14b58c",
      "metadata": {
        "id": "55854be6-faf2-4114-bd79-6e407e14b58c"
      },
      "outputs": [],
      "source": [
        "df['vote_diff_ihs'] = np.arcsinh(df['vote_diff'])\n",
        "\n",
        "fig = plt.figure()\n",
        "ax = fig.add_axes([0, 0, 2, 2])\n",
        "divider = make_axes_locatable(ax)\n",
        "ax.axis('off')\n",
        "cax = divider.append_axes(\"right\", size=\"2%\", pad=0.08)\n",
        "df.plot(ax=ax,column='vote_diff_ihs',legend=True,cax=cax,cmap='bwr',edgecolor='k')"
      ]
    },
    {
      "cell_type": "markdown",
      "id": "4fb2b668-65f8-4a8b-9650-0debfa63138c",
      "metadata": {
        "id": "4fb2b668-65f8-4a8b-9650-0debfa63138c"
      },
      "source": [
        "This is pretty good. This gives a little more information about where Democrat strongholds are, versus Republican strongholds, and the intensities are in \"log votes\" rather than percentages, so the picture is easier to interpret."
      ]
    },
    {
      "cell_type": "markdown",
      "id": "3b403b15-59c1-4715-9fcb-87d541bd510c",
      "metadata": {
        "id": "3b403b15-59c1-4715-9fcb-87d541bd510c"
      },
      "source": [
        "We could also compute the percent difference:\n",
        "$$\n",
        "\\dfrac{Dem - Rep}{Rep}\n",
        "$$\n"
      ]
    },
    {
      "cell_type": "code",
      "execution_count": null,
      "id": "570abb7d-5ed8-4ffd-828b-6e8129ab53ec",
      "metadata": {
        "id": "570abb7d-5ed8-4ffd-828b-6e8129ab53ec"
      },
      "outputs": [],
      "source": [
        "df['pct_diff'] = -df['vote_diff']/df['rep_votes_2020']\n",
        "\n",
        "fig = plt.figure()\n",
        "ax = fig.add_axes([0, 0, 2, 2])\n",
        "divider = make_axes_locatable(ax)\n",
        "ax.axis('off')\n",
        "cax = divider.append_axes(\"right\", size=\"2%\", pad=0.08)\n",
        "df.plot(ax=ax,column='pct_diff',legend=True,cax=cax)"
      ]
    },
    {
      "cell_type": "markdown",
      "id": "db6e8328-a97f-4a81-b06c-6806aa75762f",
      "metadata": {
        "id": "db6e8328-a97f-4a81-b06c-6806aa75762f"
      },
      "source": [
        "Can you see Charlottesville, Richmond, Fairfax, and Petersburg? The danger in looking at percent difference, though, is that a small place might overwhelmingly prefer one party, but they don't have enough votes to carry the election if they are merged with a nearby political unit that is much larger and more purple. That's why looking at the arcsinh of vote differences gives a pretty useful guide not just to the intensity of support in terms of local opinion, but the vote margin as well.\n",
        "\n",
        "Notice that if we compute the percent difference in the opposite direction, the pictures seems to tell a slightly different story?"
      ]
    },
    {
      "cell_type": "code",
      "execution_count": null,
      "id": "4e875558-6902-4785-bb72-9de21e542afd",
      "metadata": {
        "id": "4e875558-6902-4785-bb72-9de21e542afd"
      },
      "outputs": [],
      "source": [
        "df['pct_diff'] = df['vote_diff']/df['dem_votes_2020']\n",
        "\n",
        "fig = plt.figure()\n",
        "ax = fig.add_axes([0, 0, 2, 2])\n",
        "divider = make_axes_locatable(ax)\n",
        "ax.axis('off')\n",
        "cax = divider.append_axes(\"right\", size=\"2%\", pad=0.08)\n",
        "df.plot(ax=ax,column='pct_diff',legend=True,cax=cax)"
      ]
    },
    {
      "cell_type": "markdown",
      "id": "ba9c17af-756c-48d7-bcf6-e49fb125c03d",
      "metadata": {
        "id": "ba9c17af-756c-48d7-bcf6-e49fb125c03d"
      },
      "source": [
        "So these maps are fun, but you have to be careful to understand what you're looking at before jumping to conclusions."
      ]
    }
  ],
  "metadata": {
    "kernelspec": {
      "display_name": "Python 3 (ipykernel)",
      "language": "python",
      "name": "python3"
    },
    "language_info": {
      "codemirror_mode": {
        "name": "ipython",
        "version": 3
      },
      "file_extension": ".py",
      "mimetype": "text/x-python",
      "name": "python",
      "nbconvert_exporter": "python",
      "pygments_lexer": "ipython3",
      "version": "3.11.4"
    },
    "colab": {
      "provenance": [],
      "include_colab_link": true
    }
  },
  "nbformat": 4,
  "nbformat_minor": 5
}