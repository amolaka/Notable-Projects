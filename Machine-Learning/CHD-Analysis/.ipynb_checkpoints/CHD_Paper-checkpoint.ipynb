{
 "cells": [
  {
   "cell_type": "markdown",
   "metadata": {
    "id": "7CgEyeyBdz_0"
   },
   "source": [
    "# **Coronary Heart Diease Project Paper**\n",
    "## Predictive modeling of CHD\n",
    "\n",
    "Anwita Molaka, Emily Rothrock, Livvy Yurish, Sophie Phillips"
   ]
  },
  {
   "cell_type": "markdown",
   "metadata": {
    "id": "cP8BGUtVmpy7"
   },
   "source": [
    "\n",
    "\n",
    "# **Summary**\n"
   ]
  },
  {
   "cell_type": "markdown",
   "metadata": {
    "id": "3477W79YnzIe"
   },
   "source": [
    "Coronary Heart Disease (CHD) is a type of heart disease where the arteries fail to deliver enough oxygenated blood to the heart, possibly leading to symptoms ranging from chest pain to heart attacks. It is usually caused by a build-up of plaque in the vessel wall that causes the coronary arteries to narrow, limiting blood flow. The purpose of this project is to build a predictive algorithm that can predict the likelihood a person develops CHD.\n",
    "\n",
    "\n",
    "These models will be built using a subset of data from the Framingham Heart Study, split into a training and testing set. Tools learned in class such as k nearest neighbor, linear regression, and decision trees were explored to assess which model was the most viable. Through cleaning data, transforming variables, and building models, we attempted to uncover the highest possible R-squared value, or the model that is most suitable for a clinical setting. The idea of this approach is to train the model on the variable attributes/factors most correlated with developing CHD. Then, the model will be tested on its accuracy of prediciting the risk of CHD from an input of those specific variables from a different testing dataset.\n",
    "\n",
    "\n",
    "Results: After running these various models, we found that _____ performed the best, with an R-squared value of _____ (or RMSE). This model used _____(variables/method) to predict the risk of CHD.\n",
    "\n"
   ]
  },
  {
   "cell_type": "markdown",
   "metadata": {
    "id": "6EC6KoCgtFS6"
   },
   "source": [
    "# **Data**"
   ]
  },
  {
   "cell_type": "markdown",
   "metadata": {
    "id": "OTJdj3x5tG4u"
   },
   "source": [
    "The data included the following 16 variables:\n",
    "\n",
    "* sex : the recorded sex of the observationsm with 1 denoting an participant\n",
    "coded as male\n",
    "* age : Age at the time of medical examination in years.\n",
    "* education: A categorical variable of the participants education, with the levels: Some high school (1), high school/GED (2), some college/vocational school (3), college (4)\n",
    "* currentSmoker: Current cigarette smoking at the time of examinations\n",
    "* cigsPerDay: Number of cigarettes smoked each day\n",
    "* BPmeds: Use of Anti-hypertensive medication at exam\n",
    "* prevalentStroke: Prevalent Stroke (0 = free of disease)\n",
    "* prevalentHyp: Prevalent Hypertensive. Subject was defined as hypertensive if treated\n",
    "* diabetes: Diabetic according to criteria of first exam treated\n",
    "* totChol: Total cholesterol (mg/dL)\n",
    "* sysBP: Systolic Blood Pressure (mmHg)\n",
    "* diaBP: Diastolic blood pressure (mmHg)\n",
    "* BMI: Body Mass Index, weight (kg)/height (m)^2\n",
    "* heartRate: Heart rate (beats/minute)\n",
    "* glucose: Blood glucose level (mg/dL)\n",
    "* TenYearCHD : The 10 year risk of coronary heart disease (CHD)\n",
    "\n",
    "After further looking at these variables, the data could be categorized to a combination of behavioral variables, clinical attributes, and the 10 year risk of developing CHD. After categorizing these variables, it seems best to predict based on clinical attributes, rather than behavioral ones because that can be complicated as they can be intercorrelated with other clinical attributes."
   ]
  },
  {
   "cell_type": "markdown",
   "metadata": {
    "id": "nARrqz84tlox"
   },
   "source": [
    "## Key Variables"
   ]
  },
  {
   "cell_type": "markdown",
   "metadata": {
    "id": "Np1EQPwXu2XB"
   },
   "source": [
    "The key variables used for modeling were determined by first finding which were most strongly correlated.\n",
    "The highest correlations were found to come from age, prevalentHyp, sysBP, glucose, diaBP and totChol, with the highest being age and sysBP. Their correlations are with the 10 year risk of coronary heart disease (TenYearCHD) is as follows:\n",
    "\n",
    "*   Age (.235883)\n",
    "*   prevalentHyp (0.220643)\n",
    "* sysBP (0.251709)\n",
    "* diaBP ((0.180052)\n",
    "\n",
    "These specifc variables were the ones that we further analyzed when going on to create the models."
   ]
  },
  {
   "cell_type": "code",
   "execution_count": null,
   "metadata": {
    "id": "FGx3S0MOuxec"
   },
   "outputs": [],
   "source": []
  },
  {
   "cell_type": "markdown",
   "metadata": {
    "id": "ksx4HFnMuKBF"
   },
   "source": [
    "## Analysis Preparation and Challenges"
   ]
  },
  {
   "cell_type": "markdown",
   "metadata": {
    "id": "sdJfOWcquPX7"
   },
   "source": [
    "We tried multiple methods to clean and improve our dataset in order to increase the accuracy of models we created. This included getting rid of NaN values, replacing NaN values with the average of other values for that column, normalizing variables, and scaling variables both with the sklearn preprocessing StandardScaler library and with logarithms. Scaling with the StandardScaler library for our linear regression model ended up making our model peform worse than just using the average on the given dataset, so that was adbandonded."
   ]
  },
  {
   "cell_type": "markdown",
   "metadata": {
    "id": "xfKyg6vczMWp"
   },
   "source": [
    "# **Results**"
   ]
  },
  {
   "cell_type": "markdown",
   "metadata": {
    "id": "KWzKfX4lzRcm"
   },
   "source": [
    "## kNN Model\n",
    "\n",
    "When performing the kNN model, the highest correlations were found to come from age, prevalentHyp, sysBP, and diaBP. Using the elbow method, we determined the optimal k value was found to be 24. Using the variables above and  k=24 as parameters for the model, the resulting score was found to be 0.05853, so pretty inaccurate.\n",
    "\n",
    "* INSERT explanation on results interpretation/implications"
   ]
  },
  {
   "cell_type": "code",
   "execution_count": 1,
   "metadata": {
    "id": "o7iVDgIB0W1-"
   },
   "outputs": [],
   "source": [
    "import pandas as pd\n",
    "import numpy as np\n",
    "from sklearn.model_selection import train_test_split\n",
    "from sklearn.neighbors import KNeighborsRegressor\n",
    "import matplotlib.pyplot as plt"
   ]
  },
  {
   "cell_type": "code",
   "execution_count": 2,
   "metadata": {
    "id": "EKVNALBxnCa3"
   },
   "outputs": [],
   "source": [
    "# reading in training and testing data\n",
    "train_data = pd.read_csv('fhs_train_cleaned.csv')\n",
    "train_data = train_data.drop('Unnamed: 0',axis=1)"
   ]
  },
  {
   "cell_type": "code",
   "execution_count": 3,
   "metadata": {
    "id": "ZFk_6-nmnCa3",
    "outputId": "93decea9-2c90-4b27-edb2-fa7c2157b522"
   },
   "outputs": [
    {
     "data": {
      "text/html": [
       "<div>\n",
       "<style scoped>\n",
       "    .dataframe tbody tr th:only-of-type {\n",
       "        vertical-align: middle;\n",
       "    }\n",
       "\n",
       "    .dataframe tbody tr th {\n",
       "        vertical-align: top;\n",
       "    }\n",
       "\n",
       "    .dataframe thead th {\n",
       "        text-align: right;\n",
       "    }\n",
       "</style>\n",
       "<table border=\"1\" class=\"dataframe\">\n",
       "  <thead>\n",
       "    <tr style=\"text-align: right;\">\n",
       "      <th></th>\n",
       "      <th>sex</th>\n",
       "      <th>age</th>\n",
       "      <th>education</th>\n",
       "      <th>currentSmoker</th>\n",
       "      <th>cigsPerDay</th>\n",
       "      <th>BPMeds</th>\n",
       "      <th>prevalentStroke</th>\n",
       "      <th>prevalentHyp</th>\n",
       "      <th>diabetes</th>\n",
       "      <th>totChol</th>\n",
       "      <th>sysBP</th>\n",
       "      <th>diaBP</th>\n",
       "      <th>BMI</th>\n",
       "      <th>heartRate</th>\n",
       "      <th>glucose</th>\n",
       "      <th>TEN_YEAR_CHD</th>\n",
       "    </tr>\n",
       "  </thead>\n",
       "  <tbody>\n",
       "    <tr>\n",
       "      <th>1</th>\n",
       "      <td>0</td>\n",
       "      <td>51</td>\n",
       "      <td>3.0</td>\n",
       "      <td>0</td>\n",
       "      <td>0.0</td>\n",
       "      <td>0.0</td>\n",
       "      <td>0</td>\n",
       "      <td>0</td>\n",
       "      <td>0</td>\n",
       "      <td>264.0</td>\n",
       "      <td>135.0</td>\n",
       "      <td>83.0</td>\n",
       "      <td>26.68</td>\n",
       "      <td>60.0</td>\n",
       "      <td>74.0</td>\n",
       "      <td>0</td>\n",
       "    </tr>\n",
       "    <tr>\n",
       "      <th>4</th>\n",
       "      <td>1</td>\n",
       "      <td>58</td>\n",
       "      <td>2.0</td>\n",
       "      <td>1</td>\n",
       "      <td>20.0</td>\n",
       "      <td>0.0</td>\n",
       "      <td>0</td>\n",
       "      <td>0</td>\n",
       "      <td>0</td>\n",
       "      <td>207.0</td>\n",
       "      <td>110.0</td>\n",
       "      <td>80.0</td>\n",
       "      <td>23.55</td>\n",
       "      <td>78.0</td>\n",
       "      <td>78.0</td>\n",
       "      <td>0</td>\n",
       "    </tr>\n",
       "    <tr>\n",
       "      <th>5</th>\n",
       "      <td>1</td>\n",
       "      <td>53</td>\n",
       "      <td>1.0</td>\n",
       "      <td>0</td>\n",
       "      <td>0.0</td>\n",
       "      <td>0.0</td>\n",
       "      <td>0</td>\n",
       "      <td>1</td>\n",
       "      <td>0</td>\n",
       "      <td>202.0</td>\n",
       "      <td>140.5</td>\n",
       "      <td>90.0</td>\n",
       "      <td>25.82</td>\n",
       "      <td>85.0</td>\n",
       "      <td>74.0</td>\n",
       "      <td>0</td>\n",
       "    </tr>\n",
       "    <tr>\n",
       "      <th>6</th>\n",
       "      <td>1</td>\n",
       "      <td>41</td>\n",
       "      <td>2.0</td>\n",
       "      <td>1</td>\n",
       "      <td>5.0</td>\n",
       "      <td>0.0</td>\n",
       "      <td>0</td>\n",
       "      <td>0</td>\n",
       "      <td>0</td>\n",
       "      <td>218.0</td>\n",
       "      <td>129.5</td>\n",
       "      <td>93.0</td>\n",
       "      <td>27.80</td>\n",
       "      <td>58.0</td>\n",
       "      <td>83.0</td>\n",
       "      <td>0</td>\n",
       "    </tr>\n",
       "    <tr>\n",
       "      <th>7</th>\n",
       "      <td>1</td>\n",
       "      <td>50</td>\n",
       "      <td>4.0</td>\n",
       "      <td>1</td>\n",
       "      <td>35.0</td>\n",
       "      <td>0.0</td>\n",
       "      <td>0</td>\n",
       "      <td>0</td>\n",
       "      <td>0</td>\n",
       "      <td>236.0</td>\n",
       "      <td>102.0</td>\n",
       "      <td>69.0</td>\n",
       "      <td>21.98</td>\n",
       "      <td>70.0</td>\n",
       "      <td>73.0</td>\n",
       "      <td>0</td>\n",
       "    </tr>\n",
       "    <tr>\n",
       "      <th>...</th>\n",
       "      <td>...</td>\n",
       "      <td>...</td>\n",
       "      <td>...</td>\n",
       "      <td>...</td>\n",
       "      <td>...</td>\n",
       "      <td>...</td>\n",
       "      <td>...</td>\n",
       "      <td>...</td>\n",
       "      <td>...</td>\n",
       "      <td>...</td>\n",
       "      <td>...</td>\n",
       "      <td>...</td>\n",
       "      <td>...</td>\n",
       "      <td>...</td>\n",
       "      <td>...</td>\n",
       "      <td>...</td>\n",
       "    </tr>\n",
       "    <tr>\n",
       "      <th>1054</th>\n",
       "      <td>0</td>\n",
       "      <td>54</td>\n",
       "      <td>1.0</td>\n",
       "      <td>1</td>\n",
       "      <td>20.0</td>\n",
       "      <td>0.0</td>\n",
       "      <td>0</td>\n",
       "      <td>0</td>\n",
       "      <td>0</td>\n",
       "      <td>274.0</td>\n",
       "      <td>116.0</td>\n",
       "      <td>79.0</td>\n",
       "      <td>24.77</td>\n",
       "      <td>72.0</td>\n",
       "      <td>65.0</td>\n",
       "      <td>0</td>\n",
       "    </tr>\n",
       "    <tr>\n",
       "      <th>1055</th>\n",
       "      <td>0</td>\n",
       "      <td>63</td>\n",
       "      <td>2.0</td>\n",
       "      <td>0</td>\n",
       "      <td>0.0</td>\n",
       "      <td>0.0</td>\n",
       "      <td>0</td>\n",
       "      <td>1</td>\n",
       "      <td>0</td>\n",
       "      <td>184.0</td>\n",
       "      <td>196.0</td>\n",
       "      <td>101.0</td>\n",
       "      <td>28.27</td>\n",
       "      <td>86.0</td>\n",
       "      <td>82.0</td>\n",
       "      <td>1</td>\n",
       "    </tr>\n",
       "    <tr>\n",
       "      <th>1056</th>\n",
       "      <td>1</td>\n",
       "      <td>42</td>\n",
       "      <td>4.0</td>\n",
       "      <td>0</td>\n",
       "      <td>0.0</td>\n",
       "      <td>0.0</td>\n",
       "      <td>0</td>\n",
       "      <td>0</td>\n",
       "      <td>0</td>\n",
       "      <td>195.0</td>\n",
       "      <td>112.0</td>\n",
       "      <td>74.5</td>\n",
       "      <td>23.37</td>\n",
       "      <td>58.0</td>\n",
       "      <td>110.0</td>\n",
       "      <td>0</td>\n",
       "    </tr>\n",
       "    <tr>\n",
       "      <th>1057</th>\n",
       "      <td>1</td>\n",
       "      <td>63</td>\n",
       "      <td>3.0</td>\n",
       "      <td>0</td>\n",
       "      <td>0.0</td>\n",
       "      <td>0.0</td>\n",
       "      <td>0</td>\n",
       "      <td>1</td>\n",
       "      <td>0</td>\n",
       "      <td>161.0</td>\n",
       "      <td>196.0</td>\n",
       "      <td>102.0</td>\n",
       "      <td>28.43</td>\n",
       "      <td>56.0</td>\n",
       "      <td>88.0</td>\n",
       "      <td>0</td>\n",
       "    </tr>\n",
       "    <tr>\n",
       "      <th>1058</th>\n",
       "      <td>0</td>\n",
       "      <td>55</td>\n",
       "      <td>3.0</td>\n",
       "      <td>0</td>\n",
       "      <td>0.0</td>\n",
       "      <td>0.0</td>\n",
       "      <td>0</td>\n",
       "      <td>0</td>\n",
       "      <td>0</td>\n",
       "      <td>260.0</td>\n",
       "      <td>136.5</td>\n",
       "      <td>87.5</td>\n",
       "      <td>25.41</td>\n",
       "      <td>75.0</td>\n",
       "      <td>60.0</td>\n",
       "      <td>0</td>\n",
       "    </tr>\n",
       "  </tbody>\n",
       "</table>\n",
       "<p>914 rows × 16 columns</p>\n",
       "</div>"
      ],
      "text/plain": [
       "      sex  age  education  currentSmoker  cigsPerDay  BPMeds  prevalentStroke  \\\n",
       "1       0   51        3.0              0         0.0     0.0                0   \n",
       "4       1   58        2.0              1        20.0     0.0                0   \n",
       "5       1   53        1.0              0         0.0     0.0                0   \n",
       "6       1   41        2.0              1         5.0     0.0                0   \n",
       "7       1   50        4.0              1        35.0     0.0                0   \n",
       "...   ...  ...        ...            ...         ...     ...              ...   \n",
       "1054    0   54        1.0              1        20.0     0.0                0   \n",
       "1055    0   63        2.0              0         0.0     0.0                0   \n",
       "1056    1   42        4.0              0         0.0     0.0                0   \n",
       "1057    1   63        3.0              0         0.0     0.0                0   \n",
       "1058    0   55        3.0              0         0.0     0.0                0   \n",
       "\n",
       "      prevalentHyp  diabetes  totChol  sysBP  diaBP    BMI  heartRate  \\\n",
       "1                0         0    264.0  135.0   83.0  26.68       60.0   \n",
       "4                0         0    207.0  110.0   80.0  23.55       78.0   \n",
       "5                1         0    202.0  140.5   90.0  25.82       85.0   \n",
       "6                0         0    218.0  129.5   93.0  27.80       58.0   \n",
       "7                0         0    236.0  102.0   69.0  21.98       70.0   \n",
       "...            ...       ...      ...    ...    ...    ...        ...   \n",
       "1054             0         0    274.0  116.0   79.0  24.77       72.0   \n",
       "1055             1         0    184.0  196.0  101.0  28.27       86.0   \n",
       "1056             0         0    195.0  112.0   74.5  23.37       58.0   \n",
       "1057             1         0    161.0  196.0  102.0  28.43       56.0   \n",
       "1058             0         0    260.0  136.5   87.5  25.41       75.0   \n",
       "\n",
       "      glucose  TEN_YEAR_CHD  \n",
       "1        74.0             0  \n",
       "4        78.0             0  \n",
       "5        74.0             0  \n",
       "6        83.0             0  \n",
       "7        73.0             0  \n",
       "...       ...           ...  \n",
       "1054     65.0             0  \n",
       "1055     82.0             1  \n",
       "1056    110.0             0  \n",
       "1057     88.0             0  \n",
       "1058     60.0             0  \n",
       "\n",
       "[914 rows x 16 columns]"
      ]
     },
     "execution_count": 3,
     "metadata": {},
     "output_type": "execute_result"
    }
   ],
   "source": [
    "test_data = pd.read_csv('fhs_test.csv')\n",
    "test_data = test_data.rename(columns={'TenYearCHD': 'TEN_YEAR_CHD'}) # renames column\n",
    "test_data = test_data.drop('Unnamed: 0',axis=1) # unnamed column that was some index that isn't needed\n",
    "test_data = test_data[~test_data.isnull().any(axis=1)] # gets rid of all rows with np.nan values\n",
    "test_data"
   ]
  },
  {
   "cell_type": "code",
   "execution_count": 4,
   "metadata": {
    "id": "4i3DUuKCnCa4",
    "outputId": "e2831c1b-395a-4ba9-bdb9-28d2bbf10d6b"
   },
   "outputs": [
    {
     "data": {
      "text/html": [
       "<div>\n",
       "<style scoped>\n",
       "    .dataframe tbody tr th:only-of-type {\n",
       "        vertical-align: middle;\n",
       "    }\n",
       "\n",
       "    .dataframe tbody tr th {\n",
       "        vertical-align: top;\n",
       "    }\n",
       "\n",
       "    .dataframe thead th {\n",
       "        text-align: right;\n",
       "    }\n",
       "</style>\n",
       "<table border=\"1\" class=\"dataframe\">\n",
       "  <thead>\n",
       "    <tr style=\"text-align: right;\">\n",
       "      <th></th>\n",
       "      <th>sex</th>\n",
       "      <th>age</th>\n",
       "      <th>education</th>\n",
       "      <th>currentSmoker</th>\n",
       "      <th>cigsPerDay</th>\n",
       "      <th>BPMeds</th>\n",
       "      <th>prevalentStroke</th>\n",
       "      <th>prevalentHyp</th>\n",
       "      <th>diabetes</th>\n",
       "      <th>totChol</th>\n",
       "      <th>sysBP</th>\n",
       "      <th>diaBP</th>\n",
       "      <th>BMI</th>\n",
       "      <th>heartRate</th>\n",
       "      <th>glucose</th>\n",
       "      <th>TEN_YEAR_CHD</th>\n",
       "    </tr>\n",
       "  </thead>\n",
       "  <tbody>\n",
       "    <tr>\n",
       "      <th>sex</th>\n",
       "      <td>1.000000</td>\n",
       "      <td>-0.008184</td>\n",
       "      <td>0.059335</td>\n",
       "      <td>0.209998</td>\n",
       "      <td>0.310308</td>\n",
       "      <td>-0.074139</td>\n",
       "      <td>-0.056433</td>\n",
       "      <td>-0.025371</td>\n",
       "      <td>0.004769</td>\n",
       "      <td>-0.051571</td>\n",
       "      <td>-0.084723</td>\n",
       "      <td>0.031030</td>\n",
       "      <td>0.064621</td>\n",
       "      <td>-0.128771</td>\n",
       "      <td>-0.025377</td>\n",
       "      <td>0.063633</td>\n",
       "    </tr>\n",
       "    <tr>\n",
       "      <th>age</th>\n",
       "      <td>-0.008184</td>\n",
       "      <td>1.000000</td>\n",
       "      <td>-0.139154</td>\n",
       "      <td>-0.205061</td>\n",
       "      <td>-0.170595</td>\n",
       "      <td>0.154252</td>\n",
       "      <td>0.032935</td>\n",
       "      <td>0.343572</td>\n",
       "      <td>0.145716</td>\n",
       "      <td>0.265086</td>\n",
       "      <td>0.393690</td>\n",
       "      <td>0.206948</td>\n",
       "      <td>0.118287</td>\n",
       "      <td>0.021491</td>\n",
       "      <td>0.158242</td>\n",
       "      <td>0.235883</td>\n",
       "    </tr>\n",
       "    <tr>\n",
       "      <th>education</th>\n",
       "      <td>0.059335</td>\n",
       "      <td>-0.139154</td>\n",
       "      <td>1.000000</td>\n",
       "      <td>0.040483</td>\n",
       "      <td>0.029951</td>\n",
       "      <td>-0.009616</td>\n",
       "      <td>-0.050864</td>\n",
       "      <td>-0.089315</td>\n",
       "      <td>-0.028616</td>\n",
       "      <td>-0.010134</td>\n",
       "      <td>-0.113686</td>\n",
       "      <td>-0.048286</td>\n",
       "      <td>-0.090300</td>\n",
       "      <td>-0.001512</td>\n",
       "      <td>-0.012671</td>\n",
       "      <td>-0.075425</td>\n",
       "    </tr>\n",
       "    <tr>\n",
       "      <th>currentSmoker</th>\n",
       "      <td>0.209998</td>\n",
       "      <td>-0.205061</td>\n",
       "      <td>0.040483</td>\n",
       "      <td>1.000000</td>\n",
       "      <td>0.786340</td>\n",
       "      <td>-0.034987</td>\n",
       "      <td>-0.031994</td>\n",
       "      <td>-0.108659</td>\n",
       "      <td>-0.074039</td>\n",
       "      <td>-0.120069</td>\n",
       "      <td>-0.113899</td>\n",
       "      <td>-0.116214</td>\n",
       "      <td>-0.104552</td>\n",
       "      <td>0.060502</td>\n",
       "      <td>-0.044028</td>\n",
       "      <td>0.053774</td>\n",
       "    </tr>\n",
       "    <tr>\n",
       "      <th>cigsPerDay</th>\n",
       "      <td>0.310308</td>\n",
       "      <td>-0.170595</td>\n",
       "      <td>0.029951</td>\n",
       "      <td>0.786340</td>\n",
       "      <td>1.000000</td>\n",
       "      <td>-0.041831</td>\n",
       "      <td>-0.044021</td>\n",
       "      <td>-0.069470</td>\n",
       "      <td>-0.052453</td>\n",
       "      <td>-0.070802</td>\n",
       "      <td>-0.091859</td>\n",
       "      <td>-0.079421</td>\n",
       "      <td>-0.065074</td>\n",
       "      <td>0.051819</td>\n",
       "      <td>-0.036637</td>\n",
       "      <td>0.056246</td>\n",
       "    </tr>\n",
       "    <tr>\n",
       "      <th>BPMeds</th>\n",
       "      <td>-0.074139</td>\n",
       "      <td>0.154252</td>\n",
       "      <td>-0.009616</td>\n",
       "      <td>-0.034987</td>\n",
       "      <td>-0.041831</td>\n",
       "      <td>1.000000</td>\n",
       "      <td>0.084397</td>\n",
       "      <td>0.285782</td>\n",
       "      <td>0.052511</td>\n",
       "      <td>0.111419</td>\n",
       "      <td>0.285149</td>\n",
       "      <td>0.176543</td>\n",
       "      <td>0.145520</td>\n",
       "      <td>0.066804</td>\n",
       "      <td>0.117862</td>\n",
       "      <td>0.070681</td>\n",
       "    </tr>\n",
       "    <tr>\n",
       "      <th>prevalentStroke</th>\n",
       "      <td>-0.056433</td>\n",
       "      <td>0.032935</td>\n",
       "      <td>-0.050864</td>\n",
       "      <td>-0.031994</td>\n",
       "      <td>-0.044021</td>\n",
       "      <td>0.084397</td>\n",
       "      <td>1.000000</td>\n",
       "      <td>0.106582</td>\n",
       "      <td>0.095174</td>\n",
       "      <td>0.038876</td>\n",
       "      <td>0.062074</td>\n",
       "      <td>0.073557</td>\n",
       "      <td>0.118421</td>\n",
       "      <td>0.009396</td>\n",
       "      <td>0.069377</td>\n",
       "      <td>0.066650</td>\n",
       "    </tr>\n",
       "    <tr>\n",
       "      <th>prevalentHyp</th>\n",
       "      <td>-0.025371</td>\n",
       "      <td>0.343572</td>\n",
       "      <td>-0.089315</td>\n",
       "      <td>-0.108659</td>\n",
       "      <td>-0.069470</td>\n",
       "      <td>0.285782</td>\n",
       "      <td>0.106582</td>\n",
       "      <td>1.000000</td>\n",
       "      <td>0.071383</td>\n",
       "      <td>0.178641</td>\n",
       "      <td>0.724027</td>\n",
       "      <td>0.617213</td>\n",
       "      <td>0.279844</td>\n",
       "      <td>0.150517</td>\n",
       "      <td>0.095514</td>\n",
       "      <td>0.220643</td>\n",
       "    </tr>\n",
       "    <tr>\n",
       "      <th>diabetes</th>\n",
       "      <td>0.004769</td>\n",
       "      <td>0.145716</td>\n",
       "      <td>-0.028616</td>\n",
       "      <td>-0.074039</td>\n",
       "      <td>-0.052453</td>\n",
       "      <td>0.052511</td>\n",
       "      <td>0.095174</td>\n",
       "      <td>0.071383</td>\n",
       "      <td>1.000000</td>\n",
       "      <td>0.036626</td>\n",
       "      <td>0.130404</td>\n",
       "      <td>0.070201</td>\n",
       "      <td>0.097631</td>\n",
       "      <td>0.081612</td>\n",
       "      <td>0.641001</td>\n",
       "      <td>0.072371</td>\n",
       "    </tr>\n",
       "    <tr>\n",
       "      <th>totChol</th>\n",
       "      <td>-0.051571</td>\n",
       "      <td>0.265086</td>\n",
       "      <td>-0.010134</td>\n",
       "      <td>-0.120069</td>\n",
       "      <td>-0.070802</td>\n",
       "      <td>0.111419</td>\n",
       "      <td>0.038876</td>\n",
       "      <td>0.178641</td>\n",
       "      <td>0.036626</td>\n",
       "      <td>1.000000</td>\n",
       "      <td>0.227760</td>\n",
       "      <td>0.230341</td>\n",
       "      <td>0.143764</td>\n",
       "      <td>0.129860</td>\n",
       "      <td>0.089138</td>\n",
       "      <td>0.024272</td>\n",
       "    </tr>\n",
       "    <tr>\n",
       "      <th>sysBP</th>\n",
       "      <td>-0.084723</td>\n",
       "      <td>0.393690</td>\n",
       "      <td>-0.113686</td>\n",
       "      <td>-0.113899</td>\n",
       "      <td>-0.091859</td>\n",
       "      <td>0.285149</td>\n",
       "      <td>0.062074</td>\n",
       "      <td>0.724027</td>\n",
       "      <td>0.130404</td>\n",
       "      <td>0.227760</td>\n",
       "      <td>1.000000</td>\n",
       "      <td>0.769587</td>\n",
       "      <td>0.322399</td>\n",
       "      <td>0.232088</td>\n",
       "      <td>0.180901</td>\n",
       "      <td>0.251709</td>\n",
       "    </tr>\n",
       "    <tr>\n",
       "      <th>diaBP</th>\n",
       "      <td>0.031030</td>\n",
       "      <td>0.206948</td>\n",
       "      <td>-0.048286</td>\n",
       "      <td>-0.116214</td>\n",
       "      <td>-0.079421</td>\n",
       "      <td>0.176543</td>\n",
       "      <td>0.073557</td>\n",
       "      <td>0.617213</td>\n",
       "      <td>0.070201</td>\n",
       "      <td>0.230341</td>\n",
       "      <td>0.769587</td>\n",
       "      <td>1.000000</td>\n",
       "      <td>0.363207</td>\n",
       "      <td>0.226444</td>\n",
       "      <td>0.087109</td>\n",
       "      <td>0.180052</td>\n",
       "    </tr>\n",
       "    <tr>\n",
       "      <th>BMI</th>\n",
       "      <td>0.064621</td>\n",
       "      <td>0.118287</td>\n",
       "      <td>-0.090300</td>\n",
       "      <td>-0.104552</td>\n",
       "      <td>-0.065074</td>\n",
       "      <td>0.145520</td>\n",
       "      <td>0.118421</td>\n",
       "      <td>0.279844</td>\n",
       "      <td>0.097631</td>\n",
       "      <td>0.143764</td>\n",
       "      <td>0.322399</td>\n",
       "      <td>0.363207</td>\n",
       "      <td>1.000000</td>\n",
       "      <td>0.060247</td>\n",
       "      <td>0.084029</td>\n",
       "      <td>0.105934</td>\n",
       "    </tr>\n",
       "    <tr>\n",
       "      <th>heartRate</th>\n",
       "      <td>-0.128771</td>\n",
       "      <td>0.021491</td>\n",
       "      <td>-0.001512</td>\n",
       "      <td>0.060502</td>\n",
       "      <td>0.051819</td>\n",
       "      <td>0.066804</td>\n",
       "      <td>0.009396</td>\n",
       "      <td>0.150517</td>\n",
       "      <td>0.081612</td>\n",
       "      <td>0.129860</td>\n",
       "      <td>0.232088</td>\n",
       "      <td>0.226444</td>\n",
       "      <td>0.060247</td>\n",
       "      <td>1.000000</td>\n",
       "      <td>0.145971</td>\n",
       "      <td>0.013051</td>\n",
       "    </tr>\n",
       "    <tr>\n",
       "      <th>glucose</th>\n",
       "      <td>-0.025377</td>\n",
       "      <td>0.158242</td>\n",
       "      <td>-0.012671</td>\n",
       "      <td>-0.044028</td>\n",
       "      <td>-0.036637</td>\n",
       "      <td>0.117862</td>\n",
       "      <td>0.069377</td>\n",
       "      <td>0.095514</td>\n",
       "      <td>0.641001</td>\n",
       "      <td>0.089138</td>\n",
       "      <td>0.180901</td>\n",
       "      <td>0.087109</td>\n",
       "      <td>0.084029</td>\n",
       "      <td>0.145971</td>\n",
       "      <td>1.000000</td>\n",
       "      <td>0.129105</td>\n",
       "    </tr>\n",
       "    <tr>\n",
       "      <th>TEN_YEAR_CHD</th>\n",
       "      <td>0.063633</td>\n",
       "      <td>0.235883</td>\n",
       "      <td>-0.075425</td>\n",
       "      <td>0.053774</td>\n",
       "      <td>0.056246</td>\n",
       "      <td>0.070681</td>\n",
       "      <td>0.066650</td>\n",
       "      <td>0.220643</td>\n",
       "      <td>0.072371</td>\n",
       "      <td>0.024272</td>\n",
       "      <td>0.251709</td>\n",
       "      <td>0.180052</td>\n",
       "      <td>0.105934</td>\n",
       "      <td>0.013051</td>\n",
       "      <td>0.129105</td>\n",
       "      <td>1.000000</td>\n",
       "    </tr>\n",
       "  </tbody>\n",
       "</table>\n",
       "</div>"
      ],
      "text/plain": [
       "                      sex       age  education  currentSmoker  cigsPerDay  \\\n",
       "sex              1.000000 -0.008184   0.059335       0.209998    0.310308   \n",
       "age             -0.008184  1.000000  -0.139154      -0.205061   -0.170595   \n",
       "education        0.059335 -0.139154   1.000000       0.040483    0.029951   \n",
       "currentSmoker    0.209998 -0.205061   0.040483       1.000000    0.786340   \n",
       "cigsPerDay       0.310308 -0.170595   0.029951       0.786340    1.000000   \n",
       "BPMeds          -0.074139  0.154252  -0.009616      -0.034987   -0.041831   \n",
       "prevalentStroke -0.056433  0.032935  -0.050864      -0.031994   -0.044021   \n",
       "prevalentHyp    -0.025371  0.343572  -0.089315      -0.108659   -0.069470   \n",
       "diabetes         0.004769  0.145716  -0.028616      -0.074039   -0.052453   \n",
       "totChol         -0.051571  0.265086  -0.010134      -0.120069   -0.070802   \n",
       "sysBP           -0.084723  0.393690  -0.113686      -0.113899   -0.091859   \n",
       "diaBP            0.031030  0.206948  -0.048286      -0.116214   -0.079421   \n",
       "BMI              0.064621  0.118287  -0.090300      -0.104552   -0.065074   \n",
       "heartRate       -0.128771  0.021491  -0.001512       0.060502    0.051819   \n",
       "glucose         -0.025377  0.158242  -0.012671      -0.044028   -0.036637   \n",
       "TEN_YEAR_CHD     0.063633  0.235883  -0.075425       0.053774    0.056246   \n",
       "\n",
       "                   BPMeds  prevalentStroke  prevalentHyp  diabetes   totChol  \\\n",
       "sex             -0.074139        -0.056433     -0.025371  0.004769 -0.051571   \n",
       "age              0.154252         0.032935      0.343572  0.145716  0.265086   \n",
       "education       -0.009616        -0.050864     -0.089315 -0.028616 -0.010134   \n",
       "currentSmoker   -0.034987        -0.031994     -0.108659 -0.074039 -0.120069   \n",
       "cigsPerDay      -0.041831        -0.044021     -0.069470 -0.052453 -0.070802   \n",
       "BPMeds           1.000000         0.084397      0.285782  0.052511  0.111419   \n",
       "prevalentStroke  0.084397         1.000000      0.106582  0.095174  0.038876   \n",
       "prevalentHyp     0.285782         0.106582      1.000000  0.071383  0.178641   \n",
       "diabetes         0.052511         0.095174      0.071383  1.000000  0.036626   \n",
       "totChol          0.111419         0.038876      0.178641  0.036626  1.000000   \n",
       "sysBP            0.285149         0.062074      0.724027  0.130404  0.227760   \n",
       "diaBP            0.176543         0.073557      0.617213  0.070201  0.230341   \n",
       "BMI              0.145520         0.118421      0.279844  0.097631  0.143764   \n",
       "heartRate        0.066804         0.009396      0.150517  0.081612  0.129860   \n",
       "glucose          0.117862         0.069377      0.095514  0.641001  0.089138   \n",
       "TEN_YEAR_CHD     0.070681         0.066650      0.220643  0.072371  0.024272   \n",
       "\n",
       "                    sysBP     diaBP       BMI  heartRate   glucose  \\\n",
       "sex             -0.084723  0.031030  0.064621  -0.128771 -0.025377   \n",
       "age              0.393690  0.206948  0.118287   0.021491  0.158242   \n",
       "education       -0.113686 -0.048286 -0.090300  -0.001512 -0.012671   \n",
       "currentSmoker   -0.113899 -0.116214 -0.104552   0.060502 -0.044028   \n",
       "cigsPerDay      -0.091859 -0.079421 -0.065074   0.051819 -0.036637   \n",
       "BPMeds           0.285149  0.176543  0.145520   0.066804  0.117862   \n",
       "prevalentStroke  0.062074  0.073557  0.118421   0.009396  0.069377   \n",
       "prevalentHyp     0.724027  0.617213  0.279844   0.150517  0.095514   \n",
       "diabetes         0.130404  0.070201  0.097631   0.081612  0.641001   \n",
       "totChol          0.227760  0.230341  0.143764   0.129860  0.089138   \n",
       "sysBP            1.000000  0.769587  0.322399   0.232088  0.180901   \n",
       "diaBP            0.769587  1.000000  0.363207   0.226444  0.087109   \n",
       "BMI              0.322399  0.363207  1.000000   0.060247  0.084029   \n",
       "heartRate        0.232088  0.226444  0.060247   1.000000  0.145971   \n",
       "glucose          0.180901  0.087109  0.084029   0.145971  1.000000   \n",
       "TEN_YEAR_CHD     0.251709  0.180052  0.105934   0.013051  0.129105   \n",
       "\n",
       "                 TEN_YEAR_CHD  \n",
       "sex                  0.063633  \n",
       "age                  0.235883  \n",
       "education           -0.075425  \n",
       "currentSmoker        0.053774  \n",
       "cigsPerDay           0.056246  \n",
       "BPMeds               0.070681  \n",
       "prevalentStroke      0.066650  \n",
       "prevalentHyp         0.220643  \n",
       "diabetes             0.072371  \n",
       "totChol              0.024272  \n",
       "sysBP                0.251709  \n",
       "diaBP                0.180052  \n",
       "BMI                  0.105934  \n",
       "heartRate            0.013051  \n",
       "glucose              0.129105  \n",
       "TEN_YEAR_CHD         1.000000  "
      ]
     },
     "execution_count": 4,
     "metadata": {},
     "output_type": "execute_result"
    }
   ],
   "source": [
    "test_data.corr() # looks to see correlation between various variables"
   ]
  },
  {
   "cell_type": "code",
   "execution_count": 5,
   "metadata": {
    "id": "-UUeH2hWnCa5",
    "outputId": "e9e0faf7-6ff4-4625-dd2d-25b9707b7589"
   },
   "outputs": [
    {
     "name": "stdout",
     "output_type": "stream",
     "text": [
      "    TEN_YEAR_CHD                                              \n",
      "           count      mean       std  min  25%  50%   75%  max\n",
      "age                                                           \n",
      "34           4.0  0.000000  0.000000  0.0  0.0  0.0  0.00  0.0\n",
      "35          10.0  0.000000  0.000000  0.0  0.0  0.0  0.00  0.0\n",
      "36          22.0  0.000000  0.000000  0.0  0.0  0.0  0.00  0.0\n",
      "37          27.0  0.074074  0.266880  0.0  0.0  0.0  0.00  1.0\n",
      "38          27.0  0.000000  0.000000  0.0  0.0  0.0  0.00  0.0\n",
      "39          40.0  0.050000  0.220721  0.0  0.0  0.0  0.00  1.0\n",
      "40          44.0  0.113636  0.321038  0.0  0.0  0.0  0.00  1.0\n",
      "41          30.0  0.066667  0.253708  0.0  0.0  0.0  0.00  1.0\n",
      "42          38.0  0.078947  0.273276  0.0  0.0  0.0  0.00  1.0\n",
      "43          36.0  0.055556  0.232311  0.0  0.0  0.0  0.00  1.0\n",
      "44          42.0  0.047619  0.215540  0.0  0.0  0.0  0.00  1.0\n",
      "45          31.0  0.096774  0.300537  0.0  0.0  0.0  0.00  1.0\n",
      "46          42.0  0.119048  0.327770  0.0  0.0  0.0  0.00  1.0\n",
      "47          26.0  0.115385  0.325813  0.0  0.0  0.0  0.00  1.0\n",
      "48          26.0  0.115385  0.325813  0.0  0.0  0.0  0.00  1.0\n",
      "49          29.0  0.137931  0.350931  0.0  0.0  0.0  0.00  1.0\n",
      "50          36.0  0.138889  0.350736  0.0  0.0  0.0  0.00  1.0\n",
      "51          37.0  0.216216  0.417342  0.0  0.0  0.0  0.00  1.0\n",
      "52          34.0  0.264706  0.447811  0.0  0.0  0.0  0.75  1.0\n",
      "53          29.0  0.137931  0.350931  0.0  0.0  0.0  0.00  1.0\n",
      "54          27.0  0.185185  0.395847  0.0  0.0  0.0  0.00  1.0\n",
      "55          27.0  0.185185  0.395847  0.0  0.0  0.0  0.00  1.0\n",
      "56          23.0  0.130435  0.344350  0.0  0.0  0.0  0.00  1.0\n",
      "57          35.0  0.171429  0.382385  0.0  0.0  0.0  0.00  1.0\n",
      "58          24.0  0.208333  0.414851  0.0  0.0  0.0  0.00  1.0\n",
      "59          30.0  0.266667  0.449776  0.0  0.0  0.0  0.75  1.0\n",
      "60          16.0  0.125000  0.341565  0.0  0.0  0.0  0.00  1.0\n",
      "61          19.0  0.210526  0.418854  0.0  0.0  0.0  0.00  1.0\n",
      "62          23.0  0.260870  0.448978  0.0  0.0  0.0  0.50  1.0\n",
      "63          20.0  0.350000  0.489360  0.0  0.0  0.0  1.00  1.0\n",
      "64          22.0  0.181818  0.394771  0.0  0.0  0.0  0.00  1.0\n",
      "65           7.0  0.571429  0.534522  0.0  0.0  1.0  1.00  1.0\n",
      "66           8.0  0.125000  0.353553  0.0  0.0  0.0  0.00  1.0\n",
      "67          13.0  0.538462  0.518875  0.0  0.0  1.0  1.00  1.0\n",
      "68           7.0  0.571429  0.534522  0.0  0.0  1.0  1.00  1.0\n",
      "69           3.0  0.000000  0.000000  0.0  0.0  0.0  0.00  0.0\n",
      "             TEN_YEAR_CHD                                             \n",
      "                    count      mean       std  min  25%  50%  75%  max\n",
      "prevalentHyp                                                          \n",
      "0                   659.0  0.097117  0.296342  0.0  0.0  0.0  0.0  1.0\n",
      "1                   255.0  0.270588  0.445137  0.0  0.0  0.0  1.0  1.0\n",
      "      TEN_YEAR_CHD                                          \n",
      "             count mean       std  min   25%  50%   75%  max\n",
      "sysBP                                                       \n",
      "92.5           1.0  1.0       NaN  1.0  1.00  1.0  1.00  1.0\n",
      "94.0           1.0  0.0       NaN  0.0  0.00  0.0  0.00  0.0\n",
      "95.0           1.0  0.0       NaN  0.0  0.00  0.0  0.00  0.0\n",
      "95.5           1.0  0.0       NaN  0.0  0.00  0.0  0.00  0.0\n",
      "96.0           1.0  0.0       NaN  0.0  0.00  0.0  0.00  0.0\n",
      "...            ...  ...       ...  ...   ...  ...   ...  ...\n",
      "207.0          1.0  0.0       NaN  0.0  0.00  0.0  0.00  0.0\n",
      "207.5          1.0  1.0       NaN  1.0  1.00  1.0  1.00  1.0\n",
      "210.0          2.0  0.5  0.707107  0.0  0.25  0.5  0.75  1.0\n",
      "213.0          1.0  0.0       NaN  0.0  0.00  0.0  0.00  0.0\n",
      "215.0          1.0  1.0       NaN  1.0  1.00  1.0  1.00  1.0\n",
      "\n",
      "[161 rows x 8 columns]\n",
      "      TEN_YEAR_CHD                                          \n",
      "             count mean       std  min   25%  50%   75%  max\n",
      "diaBP                                                       \n",
      "48.0           1.0  1.0       NaN  1.0  1.00  1.0  1.00  1.0\n",
      "53.0           1.0  0.0       NaN  0.0  0.00  0.0  0.00  0.0\n",
      "55.0           1.0  0.0       NaN  0.0  0.00  0.0  0.00  0.0\n",
      "56.0           1.0  0.0       NaN  0.0  0.00  0.0  0.00  0.0\n",
      "57.0           2.0  0.5  0.707107  0.0  0.25  0.5  0.75  1.0\n",
      "...            ...  ...       ...  ...   ...  ...   ...  ...\n",
      "127.5          1.0  0.0       NaN  0.0  0.00  0.0  0.00  0.0\n",
      "130.0          1.0  0.0       NaN  0.0  0.00  0.0  0.00  0.0\n",
      "132.0          1.0  0.0       NaN  0.0  0.00  0.0  0.00  0.0\n",
      "135.0          1.0  1.0       NaN  1.0  1.00  1.0  1.00  1.0\n",
      "140.0          1.0  1.0       NaN  1.0  1.00  1.0  1.00  1.0\n",
      "\n",
      "[115 rows x 8 columns]\n"
     ]
    }
   ],
   "source": [
    "correlated_columns = ['age', 'prevalentHyp', 'sysBP', 'diaBP'] # top four variables for correlation\n",
    "for column in correlated_columns:\n",
    "    print(test_data.loc[:,[column, 'TEN_YEAR_CHD']].groupby(column).describe()) # gets statistics related to the chosen four variables for analysis"
   ]
  },
  {
   "cell_type": "code",
   "execution_count": 6,
   "metadata": {
    "id": "QuauMnDqnCa5"
   },
   "outputs": [],
   "source": [
    "X = test_data.loc[:,correlated_columns] # input values\n",
    "y = test_data['TEN_YEAR_CHD'] # output values"
   ]
  },
  {
   "cell_type": "code",
   "execution_count": 7,
   "metadata": {
    "id": "2SFVoricnCa5"
   },
   "outputs": [],
   "source": [
    "# function to max min normalize the data\n",
    "def maxmin(df):\n",
    "    df_norm = (df-min(df))/(max(df)-min(df))\n",
    "    return df\n",
    "\n",
    "X = X.apply(maxmin)"
   ]
  },
  {
   "cell_type": "code",
   "execution_count": 8,
   "metadata": {
    "id": "hkwsIu-1nCa6"
   },
   "outputs": [],
   "source": [
    "np.random.seed(100)\n",
    "N = X.shape[0]\n",
    "all = np.arange(1,N)\n",
    "train = np.random.choice(N,int(.8*N) )\n",
    "test = [item for item in all if item not in train]\n",
    "\n",
    "X_train = X.iloc[train,:]\n",
    "y_train = y.iloc[train]\n",
    "X_test = X.iloc[test,:]\n",
    "y_test = y.iloc[test]"
   ]
  },
  {
   "cell_type": "code",
   "execution_count": 9,
   "metadata": {
    "id": "EoAD6-IvnCa6",
    "outputId": "63691f4b-0f8b-46d4-ec46-767caa860d80"
   },
   "outputs": [
    {
     "data": {
      "image/png": "[encoded data removed]",
      "text/plain": [
       "<Figure size 640x480 with 1 Axes>"
      ]
     },
     "metadata": {},
     "output_type": "display_data"
    }
   ],
   "source": [
    "# trying to find optimal k\n",
    "k_bar = 50 # max number of k's to try\n",
    "k_grid = np.arange(1,k_bar)\n",
    "SSE = np.zeros(k_bar)\n",
    "\n",
    "for k in range(k_bar): # loops through all k variables\n",
    "    knn = KNeighborsRegressor(n_neighbors=k+1)\n",
    "    predictor = knn.fit(X_train,y_train)\n",
    "    y_hat = knn.predict(X_test)\n",
    "    SSE[k] = np.sum( (y_test-y_hat)**2 )\n",
    "\n",
    "SSE_min = np.min(SSE)\n",
    "min_index = np.where(SSE==SSE_min)\n",
    "k_star = k_grid[min_index]\n",
    "\n",
    "plt.plot(np.arange(0,k_bar),SSE) # plot accuracy by k\n",
    "plt.xlabel(\"k\")\n",
    "plt.title(f\"optimal k:{k_star}, SSE:{SSE_min}\")\n",
    "plt.ylabel('SSE')\n",
    "plt.show()"
   ]
  },
  {
   "cell_type": "code",
   "execution_count": 10,
   "metadata": {
    "id": "cLrBALzjnCa6",
    "outputId": "372a8d0c-4074-4e8f-f61e-60ffa362bee3"
   },
   "outputs": [
    {
     "data": {
      "text/html": [
       "<style>#sk-container-id-1 {color: black;}#sk-container-id-1 pre{padding: 0;}#sk-container-id-1 div.sk-toggleable {background-color: white;}#sk-container-id-1 label.sk-toggleable__label {cursor: pointer;display: block;width: 100%;margin-bottom: 0;padding: 0.3em;box-sizing: border-box;text-align: center;}#sk-container-id-1 label.sk-toggleable__label-arrow:before {content: \"▸\";float: left;margin-right: 0.25em;color: #696969;}#sk-container-id-1 label.sk-toggleable__label-arrow:hover:before {color: black;}#sk-container-id-1 div.sk-estimator:hover label.sk-toggleable__label-arrow:before {color: black;}#sk-container-id-1 div.sk-toggleable__content {max-height: 0;max-width: 0;overflow: hidden;text-align: left;background-color: #f0f8ff;}#sk-container-id-1 div.sk-toggleable__content pre {margin: 0.2em;color: black;border-radius: 0.25em;background-color: #f0f8ff;}#sk-container-id-1 input.sk-toggleable__control:checked~div.sk-toggleable__content {max-height: 200px;max-width: 100%;overflow: auto;}#sk-container-id-1 input.sk-toggleable__control:checked~label.sk-toggleable__label-arrow:before {content: \"▾\";}#sk-container-id-1 div.sk-estimator input.sk-toggleable__control:checked~label.sk-toggleable__label {background-color: #d4ebff;}#sk-container-id-1 div.sk-label input.sk-toggleable__control:checked~label.sk-toggleable__label {background-color: #d4ebff;}#sk-container-id-1 input.sk-hidden--visually {border: 0;clip: rect(1px 1px 1px 1px);clip: rect(1px, 1px, 1px, 1px);height: 1px;margin: -1px;overflow: hidden;padding: 0;position: absolute;width: 1px;}#sk-container-id-1 div.sk-estimator {font-family: monospace;background-color: #f0f8ff;border: 1px dotted black;border-radius: 0.25em;box-sizing: border-box;margin-bottom: 0.5em;}#sk-container-id-1 div.sk-estimator:hover {background-color: #d4ebff;}#sk-container-id-1 div.sk-parallel-item::after {content: \"\";width: 100%;border-bottom: 1px solid gray;flex-grow: 1;}#sk-container-id-1 div.sk-label:hover label.sk-toggleable__label {background-color: #d4ebff;}#sk-container-id-1 div.sk-serial::before {content: \"\";position: absolute;border-left: 1px solid gray;box-sizing: border-box;top: 0;bottom: 0;left: 50%;z-index: 0;}#sk-container-id-1 div.sk-serial {display: flex;flex-direction: column;align-items: center;background-color: white;padding-right: 0.2em;padding-left: 0.2em;position: relative;}#sk-container-id-1 div.sk-item {position: relative;z-index: 1;}#sk-container-id-1 div.sk-parallel {display: flex;align-items: stretch;justify-content: center;background-color: white;position: relative;}#sk-container-id-1 div.sk-item::before, #sk-container-id-1 div.sk-parallel-item::before {content: \"\";position: absolute;border-left: 1px solid gray;box-sizing: border-box;top: 0;bottom: 0;left: 50%;z-index: -1;}#sk-container-id-1 div.sk-parallel-item {display: flex;flex-direction: column;z-index: 1;position: relative;background-color: white;}#sk-container-id-1 div.sk-parallel-item:first-child::after {align-self: flex-end;width: 50%;}#sk-container-id-1 div.sk-parallel-item:last-child::after {align-self: flex-start;width: 50%;}#sk-container-id-1 div.sk-parallel-item:only-child::after {width: 0;}#sk-container-id-1 div.sk-dashed-wrapped {border: 1px dashed gray;margin: 0 0.4em 0.5em 0.4em;box-sizing: border-box;padding-bottom: 0.4em;background-color: white;}#sk-container-id-1 div.sk-label label {font-family: monospace;font-weight: bold;display: inline-block;line-height: 1.2em;}#sk-container-id-1 div.sk-label-container {text-align: center;}#sk-container-id-1 div.sk-container {/* jupyter's `normalize.less` sets `[hidden] { display: none; }` but bootstrap.min.css set `[hidden] { display: none !important; }` so we also need the `!important` here to be able to override the default hidden behavior on the sphinx rendered scikit-learn.org. See: https://github.com/scikit-learn/scikit-learn/issues/21755 */display: inline-block !important;position: relative;}#sk-container-id-1 div.sk-text-repr-fallback {display: none;}</style><div id=\"sk-container-id-1\" class=\"sk-top-container\"><div class=\"sk-text-repr-fallback\"><pre>KNeighborsRegressor(n_neighbors=24)</pre><b>In a Jupyter environment, please rerun this cell to show the HTML representation or trust the notebook. <br />On GitHub, the HTML representation is unable to render, please try loading this page with nbviewer.org.</b></div><div class=\"sk-container\" hidden><div class=\"sk-item\"><div class=\"sk-estimator sk-toggleable\"><input class=\"sk-toggleable__control sk-hidden--visually\" id=\"sk-estimator-id-1\" type=\"checkbox\" checked><label for=\"sk-estimator-id-1\" class=\"sk-toggleable__label sk-toggleable__label-arrow\">KNeighborsRegressor</label><div class=\"sk-toggleable__content\"><pre>KNeighborsRegressor(n_neighbors=24)</pre></div></div></div></div></div>"
      ],
      "text/plain": [
       "KNeighborsRegressor(n_neighbors=24)"
      ]
     },
     "execution_count": 10,
     "metadata": {},
     "output_type": "execute_result"
    }
   ],
   "source": [
    "# RESOURCES\n",
    "# https://towardsdatascience.com/building-a-k-nearest-neighbors-k-nn-model-with-scikit-learn-51209555453a\n",
    "\n",
    "knn = KNeighborsRegressor(n_neighbors = 24) # optimal k is 24 from above plot\n",
    "knn.fit(X_train,y_train)"
   ]
  },
  {
   "cell_type": "code",
   "execution_count": 11,
   "metadata": {
    "id": "4GzfMaeZnCa7",
    "outputId": "a996beb0-2970-4854-de5f-d46c40dc9c42"
   },
   "outputs": [
    {
     "data": {
      "text/plain": [
       "array([0.04166667, 0.25      , 0.16666667, 0.20833333, 0.20833333,\n",
       "       0.29166667, 0.20833333, 0.08333333, 0.125     , 0.125     ,\n",
       "       0.        , 0.04166667, 0.08333333, 0.08333333, 0.25      ,\n",
       "       0.04166667, 0.125     , 0.20833333, 0.375     , 0.16666667,\n",
       "       0.        , 0.04166667, 0.04166667, 0.08333333, 0.04166667,\n",
       "       0.125     , 0.04166667, 0.125     , 0.        , 0.08333333,\n",
       "       0.        , 0.125     , 0.16666667, 0.        , 0.33333333,\n",
       "       0.08333333, 0.125     , 0.        , 0.04166667, 0.        ,\n",
       "       0.        , 0.04166667, 0.04166667, 0.04166667, 0.04166667,\n",
       "       0.08333333, 0.125     , 0.08333333, 0.04166667, 0.16666667,\n",
       "       0.08333333, 0.29166667, 0.08333333, 0.25      , 0.58333333,\n",
       "       0.33333333, 0.        , 0.04166667, 0.16666667, 0.16666667,\n",
       "       0.04166667, 0.        , 0.04166667, 0.04166667, 0.08333333,\n",
       "       0.33333333, 0.08333333, 0.04166667, 0.08333333, 0.04166667,\n",
       "       0.25      , 0.125     , 0.        , 0.125     , 0.29166667,\n",
       "       0.41666667, 0.04166667, 0.25      , 0.08333333, 0.04166667,\n",
       "       0.33333333, 0.20833333, 0.04166667, 0.08333333, 0.08333333,\n",
       "       0.08333333, 0.16666667, 0.04166667, 0.25      , 0.16666667,\n",
       "       0.04166667, 0.25      , 0.04166667, 0.08333333, 0.08333333,\n",
       "       0.        , 0.        , 0.04166667, 0.20833333, 0.20833333,\n",
       "       0.16666667, 0.04166667, 0.125     , 0.08333333, 0.125     ,\n",
       "       0.20833333, 0.04166667, 0.04166667, 0.08333333, 0.04166667,\n",
       "       0.20833333, 0.04166667, 0.20833333, 0.        , 0.04166667,\n",
       "       0.04166667, 0.29166667, 0.04166667, 0.08333333, 0.08333333,\n",
       "       0.08333333, 0.16666667, 0.08333333, 0.08333333, 0.125     ,\n",
       "       0.        , 0.08333333, 0.04166667, 0.08333333, 0.08333333,\n",
       "       0.58333333, 0.04166667, 0.08333333, 0.08333333, 0.08333333,\n",
       "       0.04166667, 0.125     , 0.20833333, 0.        , 0.08333333,\n",
       "       0.125     , 0.41666667, 0.375     , 0.08333333, 0.        ,\n",
       "       0.08333333, 0.125     , 0.29166667, 0.375     , 0.08333333,\n",
       "       0.08333333, 0.04166667, 0.04166667, 0.25      , 0.        ,\n",
       "       0.08333333, 0.08333333, 0.29166667, 0.125     , 0.58333333,\n",
       "       0.04166667, 0.        , 0.        , 0.08333333, 0.08333333,\n",
       "       0.04166667, 0.        , 0.33333333, 0.29166667, 0.        ,\n",
       "       0.16666667, 0.33333333, 0.04166667, 0.04166667, 0.        ,\n",
       "       0.125     , 0.        , 0.04166667, 0.25      , 0.41666667,\n",
       "       0.08333333, 0.16666667, 0.125     , 0.25      , 0.04166667,\n",
       "       0.        , 0.08333333, 0.125     , 0.25      , 0.125     ,\n",
       "       0.5       , 0.08333333, 0.04166667, 0.08333333, 0.20833333,\n",
       "       0.08333333, 0.04166667, 0.33333333, 0.08333333, 0.20833333,\n",
       "       0.375     , 0.        , 0.125     , 0.        , 0.04166667,\n",
       "       0.20833333, 0.25      , 0.08333333, 0.        , 0.        ,\n",
       "       0.08333333, 0.04166667, 0.04166667, 0.04166667, 0.16666667,\n",
       "       0.20833333, 0.04166667, 0.125     , 0.41666667, 0.29166667,\n",
       "       0.        , 0.        , 0.08333333, 0.16666667, 0.04166667,\n",
       "       0.25      , 0.08333333, 0.        , 0.        , 0.08333333,\n",
       "       0.08333333, 0.125     , 0.08333333, 0.04166667, 0.125     ,\n",
       "       0.25      , 0.25      , 0.125     , 0.04166667, 0.08333333,\n",
       "       0.16666667, 0.125     , 0.125     , 0.25      , 0.04166667,\n",
       "       0.        , 0.04166667, 0.04166667, 0.        , 0.04166667,\n",
       "       0.125     , 0.125     , 0.16666667, 0.04166667, 0.08333333,\n",
       "       0.        , 0.375     , 0.04166667, 0.        , 0.29166667,\n",
       "       0.125     , 0.66666667, 0.29166667, 0.125     , 0.04166667,\n",
       "       0.125     , 0.04166667, 0.04166667, 0.125     , 0.08333333,\n",
       "       0.04166667, 0.29166667, 0.04166667, 0.20833333, 0.        ,\n",
       "       0.125     , 0.16666667, 0.        , 0.        , 0.        ,\n",
       "       0.08333333, 0.29166667, 0.16666667, 0.04166667, 0.04166667,\n",
       "       0.08333333, 0.04166667, 0.375     , 0.16666667, 0.04166667,\n",
       "       0.        , 0.08333333, 0.29166667, 0.08333333, 0.04166667,\n",
       "       0.08333333, 0.16666667, 0.08333333, 0.        , 0.125     ,\n",
       "       0.125     , 0.29166667, 0.16666667, 0.20833333, 0.08333333,\n",
       "       0.04166667, 0.375     , 0.16666667, 0.04166667, 0.125     ,\n",
       "       0.04166667, 0.04166667, 0.08333333, 0.08333333, 0.16666667,\n",
       "       0.20833333, 0.33333333, 0.16666667, 0.        , 0.33333333,\n",
       "       0.125     , 0.08333333, 0.08333333, 0.        , 0.08333333,\n",
       "       0.33333333, 0.        , 0.375     , 0.        , 0.        ,\n",
       "       0.08333333, 0.41666667, 0.08333333, 0.04166667, 0.        ,\n",
       "       0.29166667, 0.41666667, 0.08333333, 0.        , 0.16666667,\n",
       "       0.04166667, 0.04166667, 0.375     , 0.16666667, 0.        ,\n",
       "       0.08333333, 0.20833333, 0.20833333, 0.08333333, 0.41666667,\n",
       "       0.125     , 0.29166667, 0.        , 0.04166667, 0.        ,\n",
       "       0.29166667, 0.04166667, 0.25      , 0.20833333, 0.20833333,\n",
       "       0.04166667, 0.25      , 0.29166667, 0.        , 0.125     ,\n",
       "       0.        , 0.08333333, 0.125     , 0.04166667, 0.33333333,\n",
       "       0.04166667, 0.08333333, 0.08333333, 0.04166667, 0.04166667,\n",
       "       0.125     , 0.16666667, 0.375     , 0.375     , 0.08333333,\n",
       "       0.375     , 0.16666667, 0.29166667, 0.125     , 0.04166667,\n",
       "       0.        , 0.125     , 0.04166667, 0.20833333, 0.16666667,\n",
       "       0.08333333, 0.33333333, 0.16666667, 0.        , 0.16666667,\n",
       "       0.25      , 0.        , 0.08333333, 0.04166667, 0.        ,\n",
       "       0.20833333, 0.08333333, 0.16666667, 0.        , 0.04166667,\n",
       "       0.16666667, 0.125     , 0.125     , 0.375     , 0.04166667,\n",
       "       0.20833333, 0.08333333, 0.125     , 0.        , 0.08333333,\n",
       "       0.16666667, 0.125     , 0.        , 0.41666667, 0.04166667,\n",
       "       0.08333333])"
      ]
     },
     "execution_count": 11,
     "metadata": {},
     "output_type": "execute_result"
    }
   ],
   "source": [
    "model = knn.predict(X_test) # making a prediction off the training test data\n",
    "model"
   ]
  },
  {
   "cell_type": "code",
   "execution_count": 12,
   "metadata": {
    "id": "D9PNSyDFnCa7",
    "outputId": "3375b2cd-9690-4ed3-b92b-8813f8df7997"
   },
   "outputs": [
    {
     "data": {
      "text/plain": [
       "0.09597370774512626"
      ]
     },
     "execution_count": 12,
     "metadata": {},
     "output_type": "execute_result"
    }
   ],
   "source": [
    "knn.score(X_test, y_test) # seeing the accuracy"
   ]
  },
  {
   "cell_type": "code",
   "execution_count": 13,
   "metadata": {
    "id": "S_NAg2BjnCa7"
   },
   "outputs": [],
   "source": [
    "real_data_x_test = test_data.loc[:,correlated_columns]\n",
    "real_data_y_test = test_data['TEN_YEAR_CHD']"
   ]
  },
  {
   "cell_type": "code",
   "execution_count": 14,
   "metadata": {
    "id": "2NREm461nCa8",
    "outputId": "7313c75e-87a0-4624-a47b-b726dbaeeb9b"
   },
   "outputs": [],
   "source": [
    "model = knn.predict(real_data_x_test) # making a prediction off the data from the actual test csv file"
   ]
  },
  {
   "cell_type": "code",
   "execution_count": 15,
   "metadata": {
    "id": "s7mjJlqqnCa8",
    "outputId": "f569c272-3f23-43d1-e94d-681fbf201112"
   },
   "outputs": [
    {
     "data": {
      "text/plain": [
       "0.09148190578879978"
      ]
     },
     "execution_count": 15,
     "metadata": {},
     "output_type": "execute_result"
    }
   ],
   "source": [
    "knn.score(real_data_x_test, real_data_y_test) # shows the accuracy of the model"
   ]
  },
  {
   "cell_type": "markdown",
   "metadata": {
    "id": "NH75x5Qq0WNe"
   },
   "source": [
    "## Linear Regression Model\n",
    "\n",
    "When performing linear regression, the four most strongly correlated variables were looked at, as it was found that the use of more variables overfitted the data.\n",
    "\n",
    "A few different combinations of these variables with regressions with and without and intercept were performed. The regression using all 4 of these variables, with and intercept, was found to be the best with and R-squared values of 0.081 and a RMSE fo 0.34."
   ]
  },
  {
   "cell_type": "code",
   "execution_count": 50,
   "metadata": {
    "id": "_LxbjfAAnCa8"
   },
   "outputs": [],
   "source": [
    "import numpy as np\n",
    "import pandas as pd\n",
    "import matplotlib.pyplot as plt\n",
    "import seaborn as sns"
   ]
  },
  {
   "cell_type": "code",
   "execution_count": 51,
   "metadata": {
    "id": "t5ljEbcYnCa9",
    "outputId": "e85b3b59-9731-4bd0-a70e-be99ea7109af"
   },
   "outputs": [
    {
     "data": {
      "text/html": [
       "<div>\n",
       "<style scoped>\n",
       "    .dataframe tbody tr th:only-of-type {\n",
       "        vertical-align: middle;\n",
       "    }\n",
       "\n",
       "    .dataframe tbody tr th {\n",
       "        vertical-align: top;\n",
       "    }\n",
       "\n",
       "    .dataframe thead th {\n",
       "        text-align: right;\n",
       "    }\n",
       "</style>\n",
       "<table border=\"1\" class=\"dataframe\">\n",
       "  <thead>\n",
       "    <tr style=\"text-align: right;\">\n",
       "      <th></th>\n",
       "      <th>age</th>\n",
       "      <th>prevalentHyp</th>\n",
       "      <th>sysBP</th>\n",
       "      <th>diaBP</th>\n",
       "      <th>TenYearCHD</th>\n",
       "    </tr>\n",
       "  </thead>\n",
       "  <tbody>\n",
       "    <tr>\n",
       "      <th>0</th>\n",
       "      <td>58</td>\n",
       "      <td>0</td>\n",
       "      <td>143.0</td>\n",
       "      <td>104.0</td>\n",
       "      <td>1</td>\n",
       "    </tr>\n",
       "    <tr>\n",
       "      <th>1</th>\n",
       "      <td>40</td>\n",
       "      <td>0</td>\n",
       "      <td>122.0</td>\n",
       "      <td>82.0</td>\n",
       "      <td>0</td>\n",
       "    </tr>\n",
       "    <tr>\n",
       "      <th>2</th>\n",
       "      <td>52</td>\n",
       "      <td>0</td>\n",
       "      <td>112.0</td>\n",
       "      <td>71.0</td>\n",
       "      <td>0</td>\n",
       "    </tr>\n",
       "    <tr>\n",
       "      <th>3</th>\n",
       "      <td>38</td>\n",
       "      <td>1</td>\n",
       "      <td>130.0</td>\n",
       "      <td>94.0</td>\n",
       "      <td>0</td>\n",
       "    </tr>\n",
       "    <tr>\n",
       "      <th>4</th>\n",
       "      <td>43</td>\n",
       "      <td>0</td>\n",
       "      <td>124.0</td>\n",
       "      <td>92.0</td>\n",
       "      <td>0</td>\n",
       "    </tr>\n",
       "    <tr>\n",
       "      <th>...</th>\n",
       "      <td>...</td>\n",
       "      <td>...</td>\n",
       "      <td>...</td>\n",
       "      <td>...</td>\n",
       "      <td>...</td>\n",
       "    </tr>\n",
       "    <tr>\n",
       "      <th>3175</th>\n",
       "      <td>36</td>\n",
       "      <td>0</td>\n",
       "      <td>133.0</td>\n",
       "      <td>88.0</td>\n",
       "      <td>0</td>\n",
       "    </tr>\n",
       "    <tr>\n",
       "      <th>3176</th>\n",
       "      <td>47</td>\n",
       "      <td>0</td>\n",
       "      <td>137.0</td>\n",
       "      <td>91.0</td>\n",
       "      <td>0</td>\n",
       "    </tr>\n",
       "    <tr>\n",
       "      <th>3177</th>\n",
       "      <td>52</td>\n",
       "      <td>0</td>\n",
       "      <td>135.0</td>\n",
       "      <td>89.0</td>\n",
       "      <td>1</td>\n",
       "    </tr>\n",
       "    <tr>\n",
       "      <th>3178</th>\n",
       "      <td>48</td>\n",
       "      <td>0</td>\n",
       "      <td>117.0</td>\n",
       "      <td>73.0</td>\n",
       "      <td>0</td>\n",
       "    </tr>\n",
       "    <tr>\n",
       "      <th>3179</th>\n",
       "      <td>60</td>\n",
       "      <td>1</td>\n",
       "      <td>183.0</td>\n",
       "      <td>107.0</td>\n",
       "      <td>0</td>\n",
       "    </tr>\n",
       "  </tbody>\n",
       "</table>\n",
       "<p>3180 rows × 5 columns</p>\n",
       "</div>"
      ],
      "text/plain": [
       "      age  prevalentHyp  sysBP  diaBP  TenYearCHD\n",
       "0      58             0  143.0  104.0           1\n",
       "1      40             0  122.0   82.0           0\n",
       "2      52             0  112.0   71.0           0\n",
       "3      38             1  130.0   94.0           0\n",
       "4      43             0  124.0   92.0           0\n",
       "...   ...           ...    ...    ...         ...\n",
       "3175   36             0  133.0   88.0           0\n",
       "3176   47             0  137.0   91.0           0\n",
       "3177   52             0  135.0   89.0           1\n",
       "3178   48             0  117.0   73.0           0\n",
       "3179   60             1  183.0  107.0           0\n",
       "\n",
       "[3180 rows x 5 columns]"
      ]
     },
     "execution_count": 51,
     "metadata": {},
     "output_type": "execute_result"
    }
   ],
   "source": [
    "df_linear = pd.read_csv('fhs_train.csv')\n",
    "df_linear = df_linear.drop('Unnamed: 0', axis=1) # drops unnecessary index column\n",
    "df_linear_all = df_linear\n",
    "df_linear = df_linear.loc[:, ['age', 'prevalentHyp', 'sysBP', 'diaBP', 'TenYearCHD']] # columns needed for training\n",
    "df_linear"
   ]
  },
  {
   "cell_type": "code",
   "execution_count": 52,
   "metadata": {
    "id": "W0KBfYw8nCa9",
    "outputId": "2bad4287-dae6-4f1e-ae52-4503e35e1acf"
   },
   "outputs": [
    {
     "data": {
      "text/html": [
       "<div>\n",
       "<style scoped>\n",
       "    .dataframe tbody tr th:only-of-type {\n",
       "        vertical-align: middle;\n",
       "    }\n",
       "\n",
       "    .dataframe tbody tr th {\n",
       "        vertical-align: top;\n",
       "    }\n",
       "\n",
       "    .dataframe thead th {\n",
       "        text-align: right;\n",
       "    }\n",
       "</style>\n",
       "<table border=\"1\" class=\"dataframe\">\n",
       "  <thead>\n",
       "    <tr style=\"text-align: right;\">\n",
       "      <th></th>\n",
       "      <th>age</th>\n",
       "      <th>prevalentHyp</th>\n",
       "      <th>sysBP</th>\n",
       "      <th>diaBP</th>\n",
       "      <th>TenYearCHD</th>\n",
       "    </tr>\n",
       "  </thead>\n",
       "  <tbody>\n",
       "    <tr>\n",
       "      <th>0</th>\n",
       "      <td>58</td>\n",
       "      <td>0</td>\n",
       "      <td>126.0</td>\n",
       "      <td>77.0</td>\n",
       "      <td>0</td>\n",
       "    </tr>\n",
       "    <tr>\n",
       "      <th>1</th>\n",
       "      <td>51</td>\n",
       "      <td>0</td>\n",
       "      <td>135.0</td>\n",
       "      <td>83.0</td>\n",
       "      <td>0</td>\n",
       "    </tr>\n",
       "    <tr>\n",
       "      <th>2</th>\n",
       "      <td>44</td>\n",
       "      <td>1</td>\n",
       "      <td>147.5</td>\n",
       "      <td>96.0</td>\n",
       "      <td>1</td>\n",
       "    </tr>\n",
       "    <tr>\n",
       "      <th>3</th>\n",
       "      <td>40</td>\n",
       "      <td>0</td>\n",
       "      <td>138.5</td>\n",
       "      <td>88.0</td>\n",
       "      <td>1</td>\n",
       "    </tr>\n",
       "    <tr>\n",
       "      <th>4</th>\n",
       "      <td>58</td>\n",
       "      <td>0</td>\n",
       "      <td>110.0</td>\n",
       "      <td>80.0</td>\n",
       "      <td>0</td>\n",
       "    </tr>\n",
       "    <tr>\n",
       "      <th>...</th>\n",
       "      <td>...</td>\n",
       "      <td>...</td>\n",
       "      <td>...</td>\n",
       "      <td>...</td>\n",
       "      <td>...</td>\n",
       "    </tr>\n",
       "    <tr>\n",
       "      <th>1055</th>\n",
       "      <td>63</td>\n",
       "      <td>1</td>\n",
       "      <td>196.0</td>\n",
       "      <td>101.0</td>\n",
       "      <td>1</td>\n",
       "    </tr>\n",
       "    <tr>\n",
       "      <th>1056</th>\n",
       "      <td>42</td>\n",
       "      <td>0</td>\n",
       "      <td>112.0</td>\n",
       "      <td>74.5</td>\n",
       "      <td>0</td>\n",
       "    </tr>\n",
       "    <tr>\n",
       "      <th>1057</th>\n",
       "      <td>63</td>\n",
       "      <td>1</td>\n",
       "      <td>196.0</td>\n",
       "      <td>102.0</td>\n",
       "      <td>0</td>\n",
       "    </tr>\n",
       "    <tr>\n",
       "      <th>1058</th>\n",
       "      <td>55</td>\n",
       "      <td>0</td>\n",
       "      <td>136.5</td>\n",
       "      <td>87.5</td>\n",
       "      <td>0</td>\n",
       "    </tr>\n",
       "    <tr>\n",
       "      <th>1059</th>\n",
       "      <td>41</td>\n",
       "      <td>1</td>\n",
       "      <td>136.0</td>\n",
       "      <td>98.0</td>\n",
       "      <td>0</td>\n",
       "    </tr>\n",
       "  </tbody>\n",
       "</table>\n",
       "<p>1060 rows × 5 columns</p>\n",
       "</div>"
      ],
      "text/plain": [
       "      age  prevalentHyp  sysBP  diaBP  TenYearCHD\n",
       "0      58             0  126.0   77.0           0\n",
       "1      51             0  135.0   83.0           0\n",
       "2      44             1  147.5   96.0           1\n",
       "3      40             0  138.5   88.0           1\n",
       "4      58             0  110.0   80.0           0\n",
       "...   ...           ...    ...    ...         ...\n",
       "1055   63             1  196.0  101.0           1\n",
       "1056   42             0  112.0   74.5           0\n",
       "1057   63             1  196.0  102.0           0\n",
       "1058   55             0  136.5   87.5           0\n",
       "1059   41             1  136.0   98.0           0\n",
       "\n",
       "[1060 rows x 5 columns]"
      ]
     },
     "execution_count": 52,
     "metadata": {},
     "output_type": "execute_result"
    }
   ],
   "source": [
    "df_test_linear = pd.read_csv('fhs_test.csv')\n",
    "df_test_linear = df_test_linear.drop('Unnamed: 0', axis=1) # drops unnecessary index column\n",
    "df_linear_test_all = df_test_linear\n",
    "df_test_linear = df_test_linear.loc[:, ['age', 'prevalentHyp', 'sysBP', 'diaBP', 'TenYearCHD']] # columns needed for training\n",
    "df_test_linear"
   ]
  },
  {
   "cell_type": "code",
   "execution_count": 53,
   "metadata": {
    "id": "UBdi7h6nnCa9"
   },
   "outputs": [],
   "source": [
    "def fill_nas(df):\n",
    "    columns = df.columns\n",
    "    for column in columns:\n",
    "        df[column] = df[column].fillna(df[column].mode()[0])\n",
    "    return df"
   ]
  },
  {
   "cell_type": "code",
   "execution_count": 54,
   "metadata": {
    "id": "DSkS8XIZnCa-"
   },
   "outputs": [],
   "source": [
    "# Handle NAs by filling them in with estimated values:\n",
    "df_linear = fill_nas(df_linear)\n",
    "df_test_linear = fill_nas(df_test_linear)"
   ]
  },
  {
   "cell_type": "markdown",
   "metadata": {
    "id": "NH75x5Qq0WNe"
   },
   "source": [
    "### Linear Regression with a MinMax function\n",
    "\n",
    "A few different combinations of these variables with regressions with and without and intercept were performed. The regression using all 4 of these variables, with and intercept, was found to be the best with and R-squared values of 0.081 and a RMSE fo 0.34."
   ]
  },
  {
   "cell_type": "code",
   "execution_count": 55,
   "metadata": {
    "id": "69jPvBfEnCa-",
    "outputId": "13455a1d-80ae-47fa-8a6a-404e183605e2"
   },
   "outputs": [
    {
     "name": "stdout",
     "output_type": "stream",
     "text": [
      "0.07983897236123427\n"
     ]
    }
   ],
   "source": [
    "## Linear Regression:\n",
    "from sklearn.linear_model import LinearRegression\n",
    "from sklearn import preprocessing\n",
    "from sklearn.preprocessing import StandardScaler\n",
    "from sklearn.preprocessing import MinMaxScaler\n",
    "import numpy as np\n",
    "\n",
    "# Preprocess data for random forest:\n",
    "X_train = df_linear.drop('TenYearCHD',axis=1)\n",
    "y_train = df_linear['TenYearCHD']\n",
    "X_test = df_test_linear.drop('TenYearCHD',axis=1)\n",
    "y_test = df_test_linear['TenYearCHD']\n",
    "\n",
    "# min/max scales the data\n",
    "min_max_scaler = preprocessing.MinMaxScaler()\n",
    "X_train_scaled = min_max_scaler.fit_transform(X_train)\n",
    "X_test_scaled = min_max_scaler.transform(X_test)\n",
    "\n",
    "# code used for trying different data transformating techniques\n",
    "model = LinearRegression() # Build a random forest model\n",
    "rf = model.fit(X_train_scaled,y_train) # Fit the rf model\n",
    "y_hat = rf.predict(X_test_scaled) # Model predictions\n",
    "\n",
    "SSE = np.sum( (y_test - y_hat)**2 )\n",
    "TSS = np.sum( (y_test - np.mean(y) )**2 )\n",
    "rsq = 1 - SSE/TSS\n",
    "print(rsq)"
   ]
  },
  {
   "cell_type": "code",
   "execution_count": 56,
   "metadata": {},
   "outputs": [
    {
     "name": "stdout",
     "output_type": "stream",
     "text": [
      "0.07983897236123427\n"
     ]
    }
   ],
   "source": [
    "## Linear Regression:\n",
    "from sklearn.linear_model import LinearRegression\n",
    "from sklearn import preprocessing\n",
    "from sklearn.preprocessing import StandardScaler\n",
    "from sklearn.preprocessing import MinMaxScaler\n",
    "import numpy as np\n",
    "\n",
    "# Preprocess data for random forest:\n",
    "X_train = df_linear.drop('TenYearCHD',axis=1)\n",
    "y_train = df_linear['TenYearCHD']\n",
    "X_test = df_test_linear.drop('TenYearCHD',axis=1)\n",
    "y_test = df_test_linear['TenYearCHD']\n",
    "\n",
    "# Fit model:\n",
    "model = LinearRegression() # Build a random forest model\n",
    "rf = model.fit(X_train,y_train) # Fit the rf model\n",
    "y_hat = rf.predict(X_test) # Model predictions\n",
    "\n",
    "SSE = np.sum( (y_test - y_hat)**2 )\n",
    "TSS = np.sum( (y_test - np.mean(y) )**2 )\n",
    "rsq = 1 - SSE/TSS\n",
    "print(rsq)"
   ]
  },
  {
   "cell_type": "code",
   "execution_count": 57,
   "metadata": {
    "id": "KUkyJd96nCa-",
    "outputId": "7e92cf94-a8f3-4e21-878d-d856e2c1d2b0"
   },
   "outputs": [
    {
     "name": "stdout",
     "output_type": "stream",
     "text": [
      "0.0871269137527616\n"
     ]
    }
   ],
   "source": [
    "import numpy as np\n",
    "import pandas as pd\n",
    "import matplotlib.pyplot as plt\n",
    "import seaborn as sns\n",
    "\n",
    "df_linear = pd.read_csv('fhs_train.csv')\n",
    "df_linear = df_linear.drop('Unnamed: 0', axis=1)\n",
    "df_linear = df_linear.loc[:, ['education', 'age', 'prevalentHyp', 'sysBP', 'glucose', 'diaBP', 'totChol', 'TenYearCHD']]\n",
    "df_test_linear = pd.read_csv('fhs_test.csv')\n",
    "df_test_linear = df_test_linear.drop('Unnamed: 0', axis=1)\n",
    "df_test_linear = df_test_linear.loc[:, ['education', 'age', 'prevalentHyp', 'sysBP', 'glucose', 'diaBP', 'totChol', 'TenYearCHD']]\n",
    "\n",
    "def fill_nas(df):\n",
    "    columns = df.columns\n",
    "    for column in columns:\n",
    "        df[column] = df[column].fillna(df[column].mode()[0])\n",
    "    return df\n",
    "\n",
    "df_linear = fill_nas(df_linear)\n",
    "df_test_linear = fill_nas(df_test_linear)\n",
    "\n",
    "df_linear['totChol_log'] = np.log(df_linear['totChol'])\n",
    "df_linear['glucose_log'] = np.log(df_linear['glucose'])\n",
    "df_linear['diaBP_log'] = np.log(df_linear['diaBP'])\n",
    "df_linear['sysBP_log'] = np.log(df_linear['sysBP'])\n",
    "df_linear['age_log'] = np.log(df_linear['age'])\n",
    "df_linear['education_log'] = np.log(df_linear['education'])\n",
    "\n",
    "df_test_linear['totChol_log'] = np.log(df_test_linear['totChol'])\n",
    "df_test_linear['glucose_log'] = np.log(df_test_linear['glucose'])\n",
    "df_test_linear['diaBP_log'] = np.log(df_test_linear['diaBP'])\n",
    "df_test_linear['sysBP_log'] = np.log(df_test_linear['sysBP'])\n",
    "df_test_linear['age_log'] = np.log(df_test_linear['age'])\n",
    "df_test_linear['education_log'] = np.log(df_test_linear['education'])\n",
    "\n",
    "from sklearn.linear_model import LinearRegression\n",
    "from sklearn.preprocessing import StandardScaler\n",
    "from sklearn.preprocessing import MinMaxScaler\n",
    "import numpy as np\n",
    "\n",
    "X_train = df_linear.drop('TenYearCHD',axis=1)\n",
    "y_train = df_linear['TenYearCHD']\n",
    "X_test = df_test_linear.drop('TenYearCHD',axis=1)\n",
    "y_test = df_test_linear['TenYearCHD']\n",
    "\n",
    "model = LinearRegression() # Build a random forest model\n",
    "rf = model.fit(X_train,y_train) # Fit the rf model\n",
    "y_hat = rf.predict(X_test) # Model predictions\n",
    "\n",
    "SSE = np.sum( (y_test - y_hat)**2 )\n",
    "TSS = np.sum( (y_test - np.mean(y) )**2 )\n",
    "rsq = 1 - SSE/TSS\n",
    "print(rsq)"
   ]
  },
  {
   "cell_type": "markdown",
   "metadata": {
    "id": "ilxP_sgc2RLc"
   },
   "source": [
    "# Decision Tree Model"
   ]
  },
  {
   "cell_type": "markdown",
   "metadata": {
    "id": "DQuE6Kla2UmV"
   },
   "source": [
    "# Random Forest Model"
   ]
  },
  {
   "cell_type": "markdown",
   "metadata": {
    "id": "byqW2QSBoZFV"
   },
   "source": [
    "The random forest model was run on all of the vairables as we wanted to see if the variables the random forest deteremines as important match the highly correlated key variables. The key variables are age, prevalentHyp, sysBP, and diaBP. However, the random forest determined that the most important variables to its models are BMI, sysBP, totChol, age, glucose, diaBP, and heartRate, all with an importance between 0.09 and 0.15. Age, sysBP, and diaBP were both ranked highly, but prevalentHyp was ranked significantly lower in the random forest.\n",
    "\n",
    "\n",
    "For this model, the same train test split was used as the other models and then all NAs were dropped. The random forest model had a R squared value of 0.035, which is a little lower than all of the other models attempted, but in the same range."
   ]
  },
  {
   "cell_type": "code",
   "execution_count": 3,
   "metadata": {
    "id": "b0MesKfonId9"
   },
   "outputs": [],
   "source": [
    "# Import libraries and packages\n",
    "import pandas as pd\n",
    "import numpy as np\n",
    "import matplotlib.pyplot as plt\n",
    "import seaborn as sns\n",
    "from sklearn.ensemble import RandomForestRegressor"
   ]
  },
  {
   "cell_type": "code",
   "execution_count": 4,
   "metadata": {
    "colab": {
     "base_uri": "https://localhost:8080/"
    },
    "id": "vIpjM2U5nNY5",
    "outputId": "f56e64fd-b337-4c08-e8a4-ce9bc11e30bc"
   },
   "outputs": [
    {
     "name": "stdout",
     "output_type": "stream",
     "text": [
      "Cloning into 'project_chd'...\n",
      "remote: Enumerating objects: 16, done.\u001b[K\n",
      "remote: Counting objects: 100% (10/10), done.\u001b[K\n",
      "remote: Compressing objects: 100% (6/6), done.\u001b[K\n",
      "remote: Total 16 (delta 6), reused 6 (delta 4), pack-reused 6\u001b[K\n",
      "Receiving objects: 100% (16/16), 754.81 KiB | 11.27 MiB/s, done.\n",
      "Resolving deltas: 100% (6/6), done.\n"
     ]
    }
   ],
   "source": [
    "# Import dataset\n",
    "#! git clone https://github.com/DS3001/project_chd\n",
    "data = pd.read_csv('/content/project_chd/fhs_train.csv')\n",
    "data = data.drop(\"Unnamed: 0\", axis = 1)\n",
    "test_data = pd.read_csv('/content/project_chd/fhs_test.csv')\n",
    "test_data = test_data.drop(\"Unnamed: 0\", axis = 1)"
   ]
  },
  {
   "cell_type": "code",
   "execution_count": 5,
   "metadata": {
    "id": "6uQWkkxfnQQo"
   },
   "outputs": [],
   "source": [
    "# Drop NAs\n",
    "data = data.dropna()\n",
    "test_data = test_data.dropna()"
   ]
  },
  {
   "cell_type": "code",
   "execution_count": 6,
   "metadata": {
    "id": "qOZK9j6XnQ3G"
   },
   "outputs": [],
   "source": [
    "# Split data into train/test:\n",
    "X_train = data.drop(['TenYearCHD'],axis=1)\n",
    "y_train = data['TenYearCHD']\n",
    "X_test = test_data.drop(['TenYearCHD'],axis=1)\n",
    "y_test = test_data['TenYearCHD']"
   ]
  },
  {
   "cell_type": "code",
   "execution_count": 7,
   "metadata": {
    "id": "4wjXX-gnnThh"
   },
   "outputs": [],
   "source": [
    "# Fit model:\n",
    "model = RandomForestRegressor() # Build a random forest model\n",
    "rf = model.fit(X_train,y_train) # Fit the rf model\n",
    "\n",
    "# Make predictions:\n",
    "y_hat_rf = rf.predict(X_test) # Model predictions"
   ]
  },
  {
   "cell_type": "code",
   "execution_count": 8,
   "metadata": {
    "colab": {
     "base_uri": "https://localhost:8080/",
     "height": 467
    },
    "id": "2ywCbulJnUB9",
    "outputId": "4f9a4d4a-bc42-40a8-888c-49862c0f0090"
   },
   "outputs": [
    {
     "data": {
      "text/plain": [
       "<Axes: xlabel='TenYearCHD'>"
      ]
     },
     "execution_count": 8,
     "metadata": {},
     "output_type": "execute_result"
    },
    {
     "data": {
      "image/png": "[encoded data removed]",
      "text/plain": [
       "<Figure size 640x480 with 1 Axes>"
      ]
     },
     "metadata": {},
     "output_type": "display_data"
    }
   ],
   "source": [
    "# Scatterplot of predicted v. actual:\n",
    "sns.scatterplot(x=y_test, y=y_hat_rf) # Predicted v Actual"
   ]
  },
  {
   "cell_type": "code",
   "execution_count": 9,
   "metadata": {
    "colab": {
     "base_uri": "https://localhost:8080/",
     "height": 467
    },
    "id": "GoJT8bkgnWlC",
    "outputId": "74f35bd8-978b-4427-b346-1898809bb34b"
   },
   "outputs": [
    {
     "data": {
      "text/plain": [
       "<Axes: xlabel='TenYearCHD', ylabel='Density'>"
      ]
     },
     "execution_count": 9,
     "metadata": {},
     "output_type": "execute_result"
    },
    {
     "data": {
      "image/png": "[encoded data removed]",
      "text/plain": [
       "<Figure size 640x480 with 1 Axes>"
      ]
     },
     "metadata": {},
     "output_type": "display_data"
    }
   ],
   "source": [
    "# Residual plot:\n",
    "residual = y_test - y_hat_rf\n",
    "sns.kdeplot(x=residual)"
   ]
  },
  {
   "cell_type": "code",
   "execution_count": 10,
   "metadata": {
    "colab": {
     "base_uri": "https://localhost:8080/"
    },
    "id": "lFbXrPClnYWZ",
    "outputId": "14086e84-c92a-49e0-995c-c251255db281"
   },
   "outputs": [
    {
     "data": {
      "text/plain": [
       "0.037673876753342994"
      ]
     },
     "execution_count": 10,
     "metadata": {},
     "output_type": "execute_result"
    }
   ],
   "source": [
    "rf.score(X_test,y_test) # Rsq measure"
   ]
  },
  {
   "cell_type": "code",
   "execution_count": 11,
   "metadata": {
    "colab": {
     "base_uri": "https://localhost:8080/",
     "height": 545
    },
    "id": "z-BROLz5naH1",
    "outputId": "7545daba-a09d-4451-a99d-e19ee50dc93f"
   },
   "outputs": [
    {
     "data": {
      "text/plain": [
       "<Axes: >"
      ]
     },
     "execution_count": 11,
     "metadata": {},
     "output_type": "execute_result"
    },
    {
     "data": {
      "image/png": "[encoded data removed]",
      "text/plain": [
       "<Figure size 640x480 with 1 Axes>"
      ]
     },
     "metadata": {},
     "output_type": "display_data"
    }
   ],
   "source": [
    "# Variable importance plot:\n",
    "forest_importances = pd.Series(rf.feature_importances_, index=X_train.columns )\n",
    "forest_importances.plot.bar()"
   ]
  }
 ],
 "metadata": {
  "colab": {
   "provenance": []
  },
  "kernelspec": {
   "display_name": "Python 3 (ipykernel)",
   "language": "python",
   "name": "python3"
  },
  "language_info": {
   "codemirror_mode": {
    "name": "ipython",
    "version": 3
   },
   "file_extension": ".py",
   "mimetype": "text/x-python",
   "name": "python",
   "nbconvert_exporter": "python",
   "pygments_lexer": "ipython3",
   "version": "3.11.4"
  }
 },
 "nbformat": 4,
 "nbformat_minor": 1
}
