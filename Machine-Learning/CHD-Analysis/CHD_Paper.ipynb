{
  "cells": [
    {
      "cell_type": "markdown",
      "metadata": {
        "id": "7CgEyeyBdz_0"
      },
      "source": [
        "# **Coronary Heart Diease Project Paper**\n",
        "## Predictive modeling of CHD\n",
        "\n",
        "Anwita Molaka, Emily Rothrock, Livvy Yurish, Sophie Phillips"
      ]
    },
    {
      "cell_type": "markdown",
      "metadata": {
        "id": "cP8BGUtVmpy7"
      },
      "source": [
        "\n",
        "\n",
        "# **Summary**\n"
      ]
    },
    {
      "cell_type": "markdown",
      "metadata": {
        "id": "3477W79YnzIe"
      },
      "source": [
        "Coronary Heart Disease (CHD) is a type of heart disease where the arteries fail to deliver enough oxygenated blood to the heart, possibly leading to symptoms ranging from chest pain to heart attacks. It is usually caused by a build-up of plaque in the vessel wall that causes the coronary arteries to narrow, limiting blood flow. The purpose of this project is to build a predictive algorithm that can predict the likelihood of a person developing CHD based on certain health metrics.\n",
        "\n",
        "These models will be built using a subset of data from the Framingham Heart Study, split into a training and testing set. Tools learned in class such as k nearest neighbor, linear regression, and decision trees were explored to assess which model was the most viable. Through cleaning data, transforming variables, and building models, we attempted to uncover the highest possible R-squared value, or the model that is most suitable for a clinical setting. The idea of this approach is to train the model on the variable attributes/factors most correlated with developing CHD. Then, the model will be tested on its accuracy in predicting the risk of CHD from an input of those specific variables from a different testing dataset.\n",
        "\n",
        "After running these various models, we found that a knn model performed the best, with an average accuracy score of 9.5%. This model used 24 clusters on max-min normalized variables 'age', 'prevalentHyp', 'sysBP', 'diaBP', to predict the risk of CHD.\n",
        "\n",
        "\n"
      ]
    },
    {
      "cell_type": "markdown",
      "metadata": {
        "id": "6EC6KoCgtFS6"
      },
      "source": [
        "# **Data**"
      ]
    },
    {
      "cell_type": "markdown",
      "metadata": {
        "id": "OTJdj3x5tG4u"
      },
      "source": [
        "The data included the following 16 variables:\n",
        "\n",
        "* sex : the recorded sex of the observationsm with 1 denoting an participant\n",
        "coded as male\n",
        "* age : Age at the time of medical examination in years.\n",
        "* education: A categorical variable of the participants education, with the levels: Some high school (1), high school/GED (2), some college/vocational school (3), college (4)\n",
        "* currentSmoker: Current cigarette smoking at the time of examinations\n",
        "* cigsPerDay: Number of cigarettes smoked each day\n",
        "* BPmeds: Use of Anti-hypertensive medication at exam\n",
        "* prevalentStroke: Prevalent Stroke (0 = free of disease)\n",
        "* prevalentHyp: Prevalent Hypertensive. Subject was defined as hypertensive if treated\n",
        "* diabetes: Diabetic according to criteria of first exam treated\n",
        "* totChol: Total cholesterol (mg/dL)\n",
        "* sysBP: Systolic Blood Pressure (mmHg)\n",
        "* diaBP: Diastolic blood pressure (mmHg)\n",
        "* BMI: Body Mass Index, weight (kg)/height (m)^2\n",
        "* heartRate: Heart rate (beats/minute)\n",
        "* glucose: Blood glucose level (mg/dL)\n",
        "* TenYearCHD : The 10 year risk of coronary heart disease (CHD)\n",
        "\n",
        "After further looking at these variables, the data could be categorized to a combination of behavioral variables, clinical attributes, and the 10 year risk of developing CHD. After categorizing these variables, it seems best to predict based on clinical attributes, rather than behavioral ones because that can be complicated as they can be intercorrelated with other clinical attributes."
      ]
    },
    {
      "cell_type": "markdown",
      "metadata": {
        "id": "nARrqz84tlox"
      },
      "source": [
        "## Key Variables"
      ]
    },
    {
      "cell_type": "markdown",
      "metadata": {
        "id": "Np1EQPwXu2XB"
      },
      "source": [
        "The key variables used for modeling were determined by first finding which were most strongly correlated. The highest correlations were found to come from age, prevalentHyp, sysBP, glucose, diaBP and totChol, with the highest being age and sysBP. Their correlations are with the 10 year risk of coronary heart disease (TenYearCHD) is as follows:\n",
        "\n",
        "*   Age (0.235883)\n",
        "*   prevalentHyp (0.220643)\n",
        "* sysBP (0.251709)\n",
        "* diaBP (0.180052)\n",
        "\n",
        "From the variable importance of the random forest model, it was found that the most important variables, all within an importance between 0.15 and 0.9, were as follows:\n",
        "* BMI\n",
        "* sysBP\n",
        "* diaBP\n",
        "* totChol\n",
        "* Age\n",
        "* glucose\n",
        "* heartRate\n",
        "\n",
        "Combinations of these specific variables were the ones that we further analyzed when going on to create the various models.\n"
      ]
    },
    {
      "cell_type": "markdown",
      "metadata": {
        "id": "ksx4HFnMuKBF"
      },
      "source": [
        "## Analysis Preparation and Challenges"
      ]
    },
    {
      "cell_type": "markdown",
      "metadata": {
        "id": "sdJfOWcquPX7"
      },
      "source": [
        "We tried multiple methods to clean and improve our dataset in order to increase the accuracy of models we created. This included getting rid of NaN values, replacing NaN values with the average of other values for that column, and scaling variables both with the sklearn preprocessing StandardScaler library and with logarithms. Scaling with the StandardScaler library for our linear regression model ended up making our model perform worse than just using the average on the given dataset, so that was abandoned. We did not need to cast any variables, since all of the key variables of interest were numeric values."
      ]
    },
    {
      "cell_type": "markdown",
      "metadata": {
        "id": "NsN8HV5dAAYh"
      },
      "source": [
        "Our next step was looking at the outliers in the data to determine if any transformation needed to be done. The following variables exhibited major outliers, indicating that transformation was necessary:\n",
        "* totChol\n",
        "* sysBP\n",
        "* diaBP\n",
        "* BMI\n",
        "* heartRate\n",
        "* glucose\n",
        "\n",
        "To transform these variables, logarithmic and maxmin normalization was performed."
      ]
    },
    {
      "cell_type": "markdown",
      "metadata": {
        "id": "xfKyg6vczMWp"
      },
      "source": [
        "# **Results**"
      ]
    },
    {
      "cell_type": "markdown",
      "metadata": {
        "id": "KWzKfX4lzRcm"
      },
      "source": [
        "## kNN Model\n",
        "\n",
        "When performing the kNN model, the highest correlations were found to come from age, prevalentHyp, sysBP, and diaBP. Using the elbow method, we determined the optimal k value was found to be 24. Using the variables above and  k=24 as parameters for the model, the resulting score was found to be 0.095, so pretty inaccurate."
      ]
    },
    {
      "cell_type": "code",
      "execution_count": null,
      "metadata": {
        "id": "o7iVDgIB0W1-"
      },
      "outputs": [],
      "source": [
        "import pandas as pd\n",
        "import numpy as np\n",
        "from sklearn.model_selection import train_test_split\n",
        "from sklearn.neighbors import KNeighborsRegressor\n",
        "import matplotlib.pyplot as plt"
      ]
    },
    {
      "cell_type": "code",
      "execution_count": null,
      "metadata": {
        "id": "EKVNALBxnCa3"
      },
      "outputs": [],
      "source": [
        "# reading in training and testing data\n",
        "train_data = pd.read_csv('fhs_train_cleaned.csv')\n",
        "train_data = train_data.drop('Unnamed: 0',axis=1)"
      ]
    },
    {
      "cell_type": "code",
      "execution_count": null,
      "metadata": {
        "id": "ZFk_6-nmnCa3",
        "outputId": "93decea9-2c90-4b27-edb2-fa7c2157b522"
      },
      "outputs": [
        {
          "data": {
            "text/html": [
              "<div>\n",
              "<style scoped>\n",
              "    .dataframe tbody tr th:only-of-type {\n",
              "        vertical-align: middle;\n",
              "    }\n",
              "\n",
              "    .dataframe tbody tr th {\n",
              "        vertical-align: top;\n",
              "    }\n",
              "\n",
              "    .dataframe thead th {\n",
              "        text-align: right;\n",
              "    }\n",
              "</style>\n",
              "<table border=\"1\" class=\"dataframe\">\n",
              "  <thead>\n",
              "    <tr style=\"text-align: right;\">\n",
              "      <th></th>\n",
              "      <th>sex</th>\n",
              "      <th>age</th>\n",
              "      <th>education</th>\n",
              "      <th>currentSmoker</th>\n",
              "      <th>cigsPerDay</th>\n",
              "      <th>BPMeds</th>\n",
              "      <th>prevalentStroke</th>\n",
              "      <th>prevalentHyp</th>\n",
              "      <th>diabetes</th>\n",
              "      <th>totChol</th>\n",
              "      <th>sysBP</th>\n",
              "      <th>diaBP</th>\n",
              "      <th>BMI</th>\n",
              "      <th>heartRate</th>\n",
              "      <th>glucose</th>\n",
              "      <th>TEN_YEAR_CHD</th>\n",
              "    </tr>\n",
              "  </thead>\n",
              "  <tbody>\n",
              "    <tr>\n",
              "      <th>1</th>\n",
              "      <td>0</td>\n",
              "      <td>51</td>\n",
              "      <td>3.0</td>\n",
              "      <td>0</td>\n",
              "      <td>0.0</td>\n",
              "      <td>0.0</td>\n",
              "      <td>0</td>\n",
              "      <td>0</td>\n",
              "      <td>0</td>\n",
              "      <td>264.0</td>\n",
              "      <td>135.0</td>\n",
              "      <td>83.0</td>\n",
              "      <td>26.68</td>\n",
              "      <td>60.0</td>\n",
              "      <td>74.0</td>\n",
              "      <td>0</td>\n",
              "    </tr>\n",
              "    <tr>\n",
              "      <th>4</th>\n",
              "      <td>1</td>\n",
              "      <td>58</td>\n",
              "      <td>2.0</td>\n",
              "      <td>1</td>\n",
              "      <td>20.0</td>\n",
              "      <td>0.0</td>\n",
              "      <td>0</td>\n",
              "      <td>0</td>\n",
              "      <td>0</td>\n",
              "      <td>207.0</td>\n",
              "      <td>110.0</td>\n",
              "      <td>80.0</td>\n",
              "      <td>23.55</td>\n",
              "      <td>78.0</td>\n",
              "      <td>78.0</td>\n",
              "      <td>0</td>\n",
              "    </tr>\n",
              "    <tr>\n",
              "      <th>5</th>\n",
              "      <td>1</td>\n",
              "      <td>53</td>\n",
              "      <td>1.0</td>\n",
              "      <td>0</td>\n",
              "      <td>0.0</td>\n",
              "      <td>0.0</td>\n",
              "      <td>0</td>\n",
              "      <td>1</td>\n",
              "      <td>0</td>\n",
              "      <td>202.0</td>\n",
              "      <td>140.5</td>\n",
              "      <td>90.0</td>\n",
              "      <td>25.82</td>\n",
              "      <td>85.0</td>\n",
              "      <td>74.0</td>\n",
              "      <td>0</td>\n",
              "    </tr>\n",
              "    <tr>\n",
              "      <th>6</th>\n",
              "      <td>1</td>\n",
              "      <td>41</td>\n",
              "      <td>2.0</td>\n",
              "      <td>1</td>\n",
              "      <td>5.0</td>\n",
              "      <td>0.0</td>\n",
              "      <td>0</td>\n",
              "      <td>0</td>\n",
              "      <td>0</td>\n",
              "      <td>218.0</td>\n",
              "      <td>129.5</td>\n",
              "      <td>93.0</td>\n",
              "      <td>27.80</td>\n",
              "      <td>58.0</td>\n",
              "      <td>83.0</td>\n",
              "      <td>0</td>\n",
              "    </tr>\n",
              "    <tr>\n",
              "      <th>7</th>\n",
              "      <td>1</td>\n",
              "      <td>50</td>\n",
              "      <td>4.0</td>\n",
              "      <td>1</td>\n",
              "      <td>35.0</td>\n",
              "      <td>0.0</td>\n",
              "      <td>0</td>\n",
              "      <td>0</td>\n",
              "      <td>0</td>\n",
              "      <td>236.0</td>\n",
              "      <td>102.0</td>\n",
              "      <td>69.0</td>\n",
              "      <td>21.98</td>\n",
              "      <td>70.0</td>\n",
              "      <td>73.0</td>\n",
              "      <td>0</td>\n",
              "    </tr>\n",
              "    <tr>\n",
              "      <th>...</th>\n",
              "      <td>...</td>\n",
              "      <td>...</td>\n",
              "      <td>...</td>\n",
              "      <td>...</td>\n",
              "      <td>...</td>\n",
              "      <td>...</td>\n",
              "      <td>...</td>\n",
              "      <td>...</td>\n",
              "      <td>...</td>\n",
              "      <td>...</td>\n",
              "      <td>...</td>\n",
              "      <td>...</td>\n",
              "      <td>...</td>\n",
              "      <td>...</td>\n",
              "      <td>...</td>\n",
              "      <td>...</td>\n",
              "    </tr>\n",
              "    <tr>\n",
              "      <th>1054</th>\n",
              "      <td>0</td>\n",
              "      <td>54</td>\n",
              "      <td>1.0</td>\n",
              "      <td>1</td>\n",
              "      <td>20.0</td>\n",
              "      <td>0.0</td>\n",
              "      <td>0</td>\n",
              "      <td>0</td>\n",
              "      <td>0</td>\n",
              "      <td>274.0</td>\n",
              "      <td>116.0</td>\n",
              "      <td>79.0</td>\n",
              "      <td>24.77</td>\n",
              "      <td>72.0</td>\n",
              "      <td>65.0</td>\n",
              "      <td>0</td>\n",
              "    </tr>\n",
              "    <tr>\n",
              "      <th>1055</th>\n",
              "      <td>0</td>\n",
              "      <td>63</td>\n",
              "      <td>2.0</td>\n",
              "      <td>0</td>\n",
              "      <td>0.0</td>\n",
              "      <td>0.0</td>\n",
              "      <td>0</td>\n",
              "      <td>1</td>\n",
              "      <td>0</td>\n",
              "      <td>184.0</td>\n",
              "      <td>196.0</td>\n",
              "      <td>101.0</td>\n",
              "      <td>28.27</td>\n",
              "      <td>86.0</td>\n",
              "      <td>82.0</td>\n",
              "      <td>1</td>\n",
              "    </tr>\n",
              "    <tr>\n",
              "      <th>1056</th>\n",
              "      <td>1</td>\n",
              "      <td>42</td>\n",
              "      <td>4.0</td>\n",
              "      <td>0</td>\n",
              "      <td>0.0</td>\n",
              "      <td>0.0</td>\n",
              "      <td>0</td>\n",
              "      <td>0</td>\n",
              "      <td>0</td>\n",
              "      <td>195.0</td>\n",
              "      <td>112.0</td>\n",
              "      <td>74.5</td>\n",
              "      <td>23.37</td>\n",
              "      <td>58.0</td>\n",
              "      <td>110.0</td>\n",
              "      <td>0</td>\n",
              "    </tr>\n",
              "    <tr>\n",
              "      <th>1057</th>\n",
              "      <td>1</td>\n",
              "      <td>63</td>\n",
              "      <td>3.0</td>\n",
              "      <td>0</td>\n",
              "      <td>0.0</td>\n",
              "      <td>0.0</td>\n",
              "      <td>0</td>\n",
              "      <td>1</td>\n",
              "      <td>0</td>\n",
              "      <td>161.0</td>\n",
              "      <td>196.0</td>\n",
              "      <td>102.0</td>\n",
              "      <td>28.43</td>\n",
              "      <td>56.0</td>\n",
              "      <td>88.0</td>\n",
              "      <td>0</td>\n",
              "    </tr>\n",
              "    <tr>\n",
              "      <th>1058</th>\n",
              "      <td>0</td>\n",
              "      <td>55</td>\n",
              "      <td>3.0</td>\n",
              "      <td>0</td>\n",
              "      <td>0.0</td>\n",
              "      <td>0.0</td>\n",
              "      <td>0</td>\n",
              "      <td>0</td>\n",
              "      <td>0</td>\n",
              "      <td>260.0</td>\n",
              "      <td>136.5</td>\n",
              "      <td>87.5</td>\n",
              "      <td>25.41</td>\n",
              "      <td>75.0</td>\n",
              "      <td>60.0</td>\n",
              "      <td>0</td>\n",
              "    </tr>\n",
              "  </tbody>\n",
              "</table>\n",
              "<p>914 rows × 16 columns</p>\n",
              "</div>"
            ],
            "text/plain": [
              "      sex  age  education  currentSmoker  cigsPerDay  BPMeds  prevalentStroke  \\\n",
              "1       0   51        3.0              0         0.0     0.0                0   \n",
              "4       1   58        2.0              1        20.0     0.0                0   \n",
              "5       1   53        1.0              0         0.0     0.0                0   \n",
              "6       1   41        2.0              1         5.0     0.0                0   \n",
              "7       1   50        4.0              1        35.0     0.0                0   \n",
              "...   ...  ...        ...            ...         ...     ...              ...   \n",
              "1054    0   54        1.0              1        20.0     0.0                0   \n",
              "1055    0   63        2.0              0         0.0     0.0                0   \n",
              "1056    1   42        4.0              0         0.0     0.0                0   \n",
              "1057    1   63        3.0              0         0.0     0.0                0   \n",
              "1058    0   55        3.0              0         0.0     0.0                0   \n",
              "\n",
              "      prevalentHyp  diabetes  totChol  sysBP  diaBP    BMI  heartRate  \\\n",
              "1                0         0    264.0  135.0   83.0  26.68       60.0   \n",
              "4                0         0    207.0  110.0   80.0  23.55       78.0   \n",
              "5                1         0    202.0  140.5   90.0  25.82       85.0   \n",
              "6                0         0    218.0  129.5   93.0  27.80       58.0   \n",
              "7                0         0    236.0  102.0   69.0  21.98       70.0   \n",
              "...            ...       ...      ...    ...    ...    ...        ...   \n",
              "1054             0         0    274.0  116.0   79.0  24.77       72.0   \n",
              "1055             1         0    184.0  196.0  101.0  28.27       86.0   \n",
              "1056             0         0    195.0  112.0   74.5  23.37       58.0   \n",
              "1057             1         0    161.0  196.0  102.0  28.43       56.0   \n",
              "1058             0         0    260.0  136.5   87.5  25.41       75.0   \n",
              "\n",
              "      glucose  TEN_YEAR_CHD  \n",
              "1        74.0             0  \n",
              "4        78.0             0  \n",
              "5        74.0             0  \n",
              "6        83.0             0  \n",
              "7        73.0             0  \n",
              "...       ...           ...  \n",
              "1054     65.0             0  \n",
              "1055     82.0             1  \n",
              "1056    110.0             0  \n",
              "1057     88.0             0  \n",
              "1058     60.0             0  \n",
              "\n",
              "[914 rows x 16 columns]"
            ]
          },
          "execution_count": 3,
          "metadata": {},
          "output_type": "execute_result"
        }
      ],
      "source": [
        "test_data = pd.read_csv('fhs_test.csv')\n",
        "test_data = test_data.rename(columns={'TenYearCHD': 'TEN_YEAR_CHD'}) # renames column\n",
        "test_data = test_data.drop('Unnamed: 0',axis=1) # unnamed column that was some index that isn't needed\n",
        "test_data = test_data[~test_data.isnull().any(axis=1)] # gets rid of all rows with np.nan values\n",
        "test_data"
      ]
    },
    {
      "cell_type": "code",
      "execution_count": null,
      "metadata": {
        "id": "4i3DUuKCnCa4",
        "outputId": "e2831c1b-395a-4ba9-bdb9-28d2bbf10d6b"
      },
      "outputs": [
        {
          "data": {
            "text/html": [
              "<div>\n",
              "<style scoped>\n",
              "    .dataframe tbody tr th:only-of-type {\n",
              "        vertical-align: middle;\n",
              "    }\n",
              "\n",
              "    .dataframe tbody tr th {\n",
              "        vertical-align: top;\n",
              "    }\n",
              "\n",
              "    .dataframe thead th {\n",
              "        text-align: right;\n",
              "    }\n",
              "</style>\n",
              "<table border=\"1\" class=\"dataframe\">\n",
              "  <thead>\n",
              "    <tr style=\"text-align: right;\">\n",
              "      <th></th>\n",
              "      <th>sex</th>\n",
              "      <th>age</th>\n",
              "      <th>education</th>\n",
              "      <th>currentSmoker</th>\n",
              "      <th>cigsPerDay</th>\n",
              "      <th>BPMeds</th>\n",
              "      <th>prevalentStroke</th>\n",
              "      <th>prevalentHyp</th>\n",
              "      <th>diabetes</th>\n",
              "      <th>totChol</th>\n",
              "      <th>sysBP</th>\n",
              "      <th>diaBP</th>\n",
              "      <th>BMI</th>\n",
              "      <th>heartRate</th>\n",
              "      <th>glucose</th>\n",
              "      <th>TEN_YEAR_CHD</th>\n",
              "    </tr>\n",
              "  </thead>\n",
              "  <tbody>\n",
              "    <tr>\n",
              "      <th>sex</th>\n",
              "      <td>1.000000</td>\n",
              "      <td>-0.008184</td>\n",
              "      <td>0.059335</td>\n",
              "      <td>0.209998</td>\n",
              "      <td>0.310308</td>\n",
              "      <td>-0.074139</td>\n",
              "      <td>-0.056433</td>\n",
              "      <td>-0.025371</td>\n",
              "      <td>0.004769</td>\n",
              "      <td>-0.051571</td>\n",
              "      <td>-0.084723</td>\n",
              "      <td>0.031030</td>\n",
              "      <td>0.064621</td>\n",
              "      <td>-0.128771</td>\n",
              "      <td>-0.025377</td>\n",
              "      <td>0.063633</td>\n",
              "    </tr>\n",
              "    <tr>\n",
              "      <th>age</th>\n",
              "      <td>-0.008184</td>\n",
              "      <td>1.000000</td>\n",
              "      <td>-0.139154</td>\n",
              "      <td>-0.205061</td>\n",
              "      <td>-0.170595</td>\n",
              "      <td>0.154252</td>\n",
              "      <td>0.032935</td>\n",
              "      <td>0.343572</td>\n",
              "      <td>0.145716</td>\n",
              "      <td>0.265086</td>\n",
              "      <td>0.393690</td>\n",
              "      <td>0.206948</td>\n",
              "      <td>0.118287</td>\n",
              "      <td>0.021491</td>\n",
              "      <td>0.158242</td>\n",
              "      <td>0.235883</td>\n",
              "    </tr>\n",
              "    <tr>\n",
              "      <th>education</th>\n",
              "      <td>0.059335</td>\n",
              "      <td>-0.139154</td>\n",
              "      <td>1.000000</td>\n",
              "      <td>0.040483</td>\n",
              "      <td>0.029951</td>\n",
              "      <td>-0.009616</td>\n",
              "      <td>-0.050864</td>\n",
              "      <td>-0.089315</td>\n",
              "      <td>-0.028616</td>\n",
              "      <td>-0.010134</td>\n",
              "      <td>-0.113686</td>\n",
              "      <td>-0.048286</td>\n",
              "      <td>-0.090300</td>\n",
              "      <td>-0.001512</td>\n",
              "      <td>-0.012671</td>\n",
              "      <td>-0.075425</td>\n",
              "    </tr>\n",
              "    <tr>\n",
              "      <th>currentSmoker</th>\n",
              "      <td>0.209998</td>\n",
              "      <td>-0.205061</td>\n",
              "      <td>0.040483</td>\n",
              "      <td>1.000000</td>\n",
              "      <td>0.786340</td>\n",
              "      <td>-0.034987</td>\n",
              "      <td>-0.031994</td>\n",
              "      <td>-0.108659</td>\n",
              "      <td>-0.074039</td>\n",
              "      <td>-0.120069</td>\n",
              "      <td>-0.113899</td>\n",
              "      <td>-0.116214</td>\n",
              "      <td>-0.104552</td>\n",
              "      <td>0.060502</td>\n",
              "      <td>-0.044028</td>\n",
              "      <td>0.053774</td>\n",
              "    </tr>\n",
              "    <tr>\n",
              "      <th>cigsPerDay</th>\n",
              "      <td>0.310308</td>\n",
              "      <td>-0.170595</td>\n",
              "      <td>0.029951</td>\n",
              "      <td>0.786340</td>\n",
              "      <td>1.000000</td>\n",
              "      <td>-0.041831</td>\n",
              "      <td>-0.044021</td>\n",
              "      <td>-0.069470</td>\n",
              "      <td>-0.052453</td>\n",
              "      <td>-0.070802</td>\n",
              "      <td>-0.091859</td>\n",
              "      <td>-0.079421</td>\n",
              "      <td>-0.065074</td>\n",
              "      <td>0.051819</td>\n",
              "      <td>-0.036637</td>\n",
              "      <td>0.056246</td>\n",
              "    </tr>\n",
              "    <tr>\n",
              "      <th>BPMeds</th>\n",
              "      <td>-0.074139</td>\n",
              "      <td>0.154252</td>\n",
              "      <td>-0.009616</td>\n",
              "      <td>-0.034987</td>\n",
              "      <td>-0.041831</td>\n",
              "      <td>1.000000</td>\n",
              "      <td>0.084397</td>\n",
              "      <td>0.285782</td>\n",
              "      <td>0.052511</td>\n",
              "      <td>0.111419</td>\n",
              "      <td>0.285149</td>\n",
              "      <td>0.176543</td>\n",
              "      <td>0.145520</td>\n",
              "      <td>0.066804</td>\n",
              "      <td>0.117862</td>\n",
              "      <td>0.070681</td>\n",
              "    </tr>\n",
              "    <tr>\n",
              "      <th>prevalentStroke</th>\n",
              "      <td>-0.056433</td>\n",
              "      <td>0.032935</td>\n",
              "      <td>-0.050864</td>\n",
              "      <td>-0.031994</td>\n",
              "      <td>-0.044021</td>\n",
              "      <td>0.084397</td>\n",
              "      <td>1.000000</td>\n",
              "      <td>0.106582</td>\n",
              "      <td>0.095174</td>\n",
              "      <td>0.038876</td>\n",
              "      <td>0.062074</td>\n",
              "      <td>0.073557</td>\n",
              "      <td>0.118421</td>\n",
              "      <td>0.009396</td>\n",
              "      <td>0.069377</td>\n",
              "      <td>0.066650</td>\n",
              "    </tr>\n",
              "    <tr>\n",
              "      <th>prevalentHyp</th>\n",
              "      <td>-0.025371</td>\n",
              "      <td>0.343572</td>\n",
              "      <td>-0.089315</td>\n",
              "      <td>-0.108659</td>\n",
              "      <td>-0.069470</td>\n",
              "      <td>0.285782</td>\n",
              "      <td>0.106582</td>\n",
              "      <td>1.000000</td>\n",
              "      <td>0.071383</td>\n",
              "      <td>0.178641</td>\n",
              "      <td>0.724027</td>\n",
              "      <td>0.617213</td>\n",
              "      <td>0.279844</td>\n",
              "      <td>0.150517</td>\n",
              "      <td>0.095514</td>\n",
              "      <td>0.220643</td>\n",
              "    </tr>\n",
              "    <tr>\n",
              "      <th>diabetes</th>\n",
              "      <td>0.004769</td>\n",
              "      <td>0.145716</td>\n",
              "      <td>-0.028616</td>\n",
              "      <td>-0.074039</td>\n",
              "      <td>-0.052453</td>\n",
              "      <td>0.052511</td>\n",
              "      <td>0.095174</td>\n",
              "      <td>0.071383</td>\n",
              "      <td>1.000000</td>\n",
              "      <td>0.036626</td>\n",
              "      <td>0.130404</td>\n",
              "      <td>0.070201</td>\n",
              "      <td>0.097631</td>\n",
              "      <td>0.081612</td>\n",
              "      <td>0.641001</td>\n",
              "      <td>0.072371</td>\n",
              "    </tr>\n",
              "    <tr>\n",
              "      <th>totChol</th>\n",
              "      <td>-0.051571</td>\n",
              "      <td>0.265086</td>\n",
              "      <td>-0.010134</td>\n",
              "      <td>-0.120069</td>\n",
              "      <td>-0.070802</td>\n",
              "      <td>0.111419</td>\n",
              "      <td>0.038876</td>\n",
              "      <td>0.178641</td>\n",
              "      <td>0.036626</td>\n",
              "      <td>1.000000</td>\n",
              "      <td>0.227760</td>\n",
              "      <td>0.230341</td>\n",
              "      <td>0.143764</td>\n",
              "      <td>0.129860</td>\n",
              "      <td>0.089138</td>\n",
              "      <td>0.024272</td>\n",
              "    </tr>\n",
              "    <tr>\n",
              "      <th>sysBP</th>\n",
              "      <td>-0.084723</td>\n",
              "      <td>0.393690</td>\n",
              "      <td>-0.113686</td>\n",
              "      <td>-0.113899</td>\n",
              "      <td>-0.091859</td>\n",
              "      <td>0.285149</td>\n",
              "      <td>0.062074</td>\n",
              "      <td>0.724027</td>\n",
              "      <td>0.130404</td>\n",
              "      <td>0.227760</td>\n",
              "      <td>1.000000</td>\n",
              "      <td>0.769587</td>\n",
              "      <td>0.322399</td>\n",
              "      <td>0.232088</td>\n",
              "      <td>0.180901</td>\n",
              "      <td>0.251709</td>\n",
              "    </tr>\n",
              "    <tr>\n",
              "      <th>diaBP</th>\n",
              "      <td>0.031030</td>\n",
              "      <td>0.206948</td>\n",
              "      <td>-0.048286</td>\n",
              "      <td>-0.116214</td>\n",
              "      <td>-0.079421</td>\n",
              "      <td>0.176543</td>\n",
              "      <td>0.073557</td>\n",
              "      <td>0.617213</td>\n",
              "      <td>0.070201</td>\n",
              "      <td>0.230341</td>\n",
              "      <td>0.769587</td>\n",
              "      <td>1.000000</td>\n",
              "      <td>0.363207</td>\n",
              "      <td>0.226444</td>\n",
              "      <td>0.087109</td>\n",
              "      <td>0.180052</td>\n",
              "    </tr>\n",
              "    <tr>\n",
              "      <th>BMI</th>\n",
              "      <td>0.064621</td>\n",
              "      <td>0.118287</td>\n",
              "      <td>-0.090300</td>\n",
              "      <td>-0.104552</td>\n",
              "      <td>-0.065074</td>\n",
              "      <td>0.145520</td>\n",
              "      <td>0.118421</td>\n",
              "      <td>0.279844</td>\n",
              "      <td>0.097631</td>\n",
              "      <td>0.143764</td>\n",
              "      <td>0.322399</td>\n",
              "      <td>0.363207</td>\n",
              "      <td>1.000000</td>\n",
              "      <td>0.060247</td>\n",
              "      <td>0.084029</td>\n",
              "      <td>0.105934</td>\n",
              "    </tr>\n",
              "    <tr>\n",
              "      <th>heartRate</th>\n",
              "      <td>-0.128771</td>\n",
              "      <td>0.021491</td>\n",
              "      <td>-0.001512</td>\n",
              "      <td>0.060502</td>\n",
              "      <td>0.051819</td>\n",
              "      <td>0.066804</td>\n",
              "      <td>0.009396</td>\n",
              "      <td>0.150517</td>\n",
              "      <td>0.081612</td>\n",
              "      <td>0.129860</td>\n",
              "      <td>0.232088</td>\n",
              "      <td>0.226444</td>\n",
              "      <td>0.060247</td>\n",
              "      <td>1.000000</td>\n",
              "      <td>0.145971</td>\n",
              "      <td>0.013051</td>\n",
              "    </tr>\n",
              "    <tr>\n",
              "      <th>glucose</th>\n",
              "      <td>-0.025377</td>\n",
              "      <td>0.158242</td>\n",
              "      <td>-0.012671</td>\n",
              "      <td>-0.044028</td>\n",
              "      <td>-0.036637</td>\n",
              "      <td>0.117862</td>\n",
              "      <td>0.069377</td>\n",
              "      <td>0.095514</td>\n",
              "      <td>0.641001</td>\n",
              "      <td>0.089138</td>\n",
              "      <td>0.180901</td>\n",
              "      <td>0.087109</td>\n",
              "      <td>0.084029</td>\n",
              "      <td>0.145971</td>\n",
              "      <td>1.000000</td>\n",
              "      <td>0.129105</td>\n",
              "    </tr>\n",
              "    <tr>\n",
              "      <th>TEN_YEAR_CHD</th>\n",
              "      <td>0.063633</td>\n",
              "      <td>0.235883</td>\n",
              "      <td>-0.075425</td>\n",
              "      <td>0.053774</td>\n",
              "      <td>0.056246</td>\n",
              "      <td>0.070681</td>\n",
              "      <td>0.066650</td>\n",
              "      <td>0.220643</td>\n",
              "      <td>0.072371</td>\n",
              "      <td>0.024272</td>\n",
              "      <td>0.251709</td>\n",
              "      <td>0.180052</td>\n",
              "      <td>0.105934</td>\n",
              "      <td>0.013051</td>\n",
              "      <td>0.129105</td>\n",
              "      <td>1.000000</td>\n",
              "    </tr>\n",
              "  </tbody>\n",
              "</table>\n",
              "</div>"
            ],
            "text/plain": [
              "                      sex       age  education  currentSmoker  cigsPerDay  \\\n",
              "sex              1.000000 -0.008184   0.059335       0.209998    0.310308   \n",
              "age             -0.008184  1.000000  -0.139154      -0.205061   -0.170595   \n",
              "education        0.059335 -0.139154   1.000000       0.040483    0.029951   \n",
              "currentSmoker    0.209998 -0.205061   0.040483       1.000000    0.786340   \n",
              "cigsPerDay       0.310308 -0.170595   0.029951       0.786340    1.000000   \n",
              "BPMeds          -0.074139  0.154252  -0.009616      -0.034987   -0.041831   \n",
              "prevalentStroke -0.056433  0.032935  -0.050864      -0.031994   -0.044021   \n",
              "prevalentHyp    -0.025371  0.343572  -0.089315      -0.108659   -0.069470   \n",
              "diabetes         0.004769  0.145716  -0.028616      -0.074039   -0.052453   \n",
              "totChol         -0.051571  0.265086  -0.010134      -0.120069   -0.070802   \n",
              "sysBP           -0.084723  0.393690  -0.113686      -0.113899   -0.091859   \n",
              "diaBP            0.031030  0.206948  -0.048286      -0.116214   -0.079421   \n",
              "BMI              0.064621  0.118287  -0.090300      -0.104552   -0.065074   \n",
              "heartRate       -0.128771  0.021491  -0.001512       0.060502    0.051819   \n",
              "glucose         -0.025377  0.158242  -0.012671      -0.044028   -0.036637   \n",
              "TEN_YEAR_CHD     0.063633  0.235883  -0.075425       0.053774    0.056246   \n",
              "\n",
              "                   BPMeds  prevalentStroke  prevalentHyp  diabetes   totChol  \\\n",
              "sex             -0.074139        -0.056433     -0.025371  0.004769 -0.051571   \n",
              "age              0.154252         0.032935      0.343572  0.145716  0.265086   \n",
              "education       -0.009616        -0.050864     -0.089315 -0.028616 -0.010134   \n",
              "currentSmoker   -0.034987        -0.031994     -0.108659 -0.074039 -0.120069   \n",
              "cigsPerDay      -0.041831        -0.044021     -0.069470 -0.052453 -0.070802   \n",
              "BPMeds           1.000000         0.084397      0.285782  0.052511  0.111419   \n",
              "prevalentStroke  0.084397         1.000000      0.106582  0.095174  0.038876   \n",
              "prevalentHyp     0.285782         0.106582      1.000000  0.071383  0.178641   \n",
              "diabetes         0.052511         0.095174      0.071383  1.000000  0.036626   \n",
              "totChol          0.111419         0.038876      0.178641  0.036626  1.000000   \n",
              "sysBP            0.285149         0.062074      0.724027  0.130404  0.227760   \n",
              "diaBP            0.176543         0.073557      0.617213  0.070201  0.230341   \n",
              "BMI              0.145520         0.118421      0.279844  0.097631  0.143764   \n",
              "heartRate        0.066804         0.009396      0.150517  0.081612  0.129860   \n",
              "glucose          0.117862         0.069377      0.095514  0.641001  0.089138   \n",
              "TEN_YEAR_CHD     0.070681         0.066650      0.220643  0.072371  0.024272   \n",
              "\n",
              "                    sysBP     diaBP       BMI  heartRate   glucose  \\\n",
              "sex             -0.084723  0.031030  0.064621  -0.128771 -0.025377   \n",
              "age              0.393690  0.206948  0.118287   0.021491  0.158242   \n",
              "education       -0.113686 -0.048286 -0.090300  -0.001512 -0.012671   \n",
              "currentSmoker   -0.113899 -0.116214 -0.104552   0.060502 -0.044028   \n",
              "cigsPerDay      -0.091859 -0.079421 -0.065074   0.051819 -0.036637   \n",
              "BPMeds           0.285149  0.176543  0.145520   0.066804  0.117862   \n",
              "prevalentStroke  0.062074  0.073557  0.118421   0.009396  0.069377   \n",
              "prevalentHyp     0.724027  0.617213  0.279844   0.150517  0.095514   \n",
              "diabetes         0.130404  0.070201  0.097631   0.081612  0.641001   \n",
              "totChol          0.227760  0.230341  0.143764   0.129860  0.089138   \n",
              "sysBP            1.000000  0.769587  0.322399   0.232088  0.180901   \n",
              "diaBP            0.769587  1.000000  0.363207   0.226444  0.087109   \n",
              "BMI              0.322399  0.363207  1.000000   0.060247  0.084029   \n",
              "heartRate        0.232088  0.226444  0.060247   1.000000  0.145971   \n",
              "glucose          0.180901  0.087109  0.084029   0.145971  1.000000   \n",
              "TEN_YEAR_CHD     0.251709  0.180052  0.105934   0.013051  0.129105   \n",
              "\n",
              "                 TEN_YEAR_CHD  \n",
              "sex                  0.063633  \n",
              "age                  0.235883  \n",
              "education           -0.075425  \n",
              "currentSmoker        0.053774  \n",
              "cigsPerDay           0.056246  \n",
              "BPMeds               0.070681  \n",
              "prevalentStroke      0.066650  \n",
              "prevalentHyp         0.220643  \n",
              "diabetes             0.072371  \n",
              "totChol              0.024272  \n",
              "sysBP                0.251709  \n",
              "diaBP                0.180052  \n",
              "BMI                  0.105934  \n",
              "heartRate            0.013051  \n",
              "glucose              0.129105  \n",
              "TEN_YEAR_CHD         1.000000  "
            ]
          },
          "execution_count": 4,
          "metadata": {},
          "output_type": "execute_result"
        }
      ],
      "source": [
        "test_data.corr() # looks to see correlation between various variables"
      ]
    },
    {
      "cell_type": "markdown",
      "metadata": {
        "id": "aJhkVqC6QT1a"
      },
      "source": [
        "This chart shows the correlation between various variables and the 10 year chance of develeping coronary heart disease. The variables with the highest correlation are age, prevalentHyp, sysBP, diaBP, totChol and glucose respectively."
      ]
    },
    {
      "cell_type": "code",
      "execution_count": null,
      "metadata": {
        "id": "-UUeH2hWnCa5",
        "outputId": "e9e0faf7-6ff4-4625-dd2d-25b9707b7589"
      },
      "outputs": [
        {
          "name": "stdout",
          "output_type": "stream",
          "text": [
            "    TEN_YEAR_CHD                                              \n",
            "           count      mean       std  min  25%  50%   75%  max\n",
            "age                                                           \n",
            "34           4.0  0.000000  0.000000  0.0  0.0  0.0  0.00  0.0\n",
            "35          10.0  0.000000  0.000000  0.0  0.0  0.0  0.00  0.0\n",
            "36          22.0  0.000000  0.000000  0.0  0.0  0.0  0.00  0.0\n",
            "37          27.0  0.074074  0.266880  0.0  0.0  0.0  0.00  1.0\n",
            "38          27.0  0.000000  0.000000  0.0  0.0  0.0  0.00  0.0\n",
            "39          40.0  0.050000  0.220721  0.0  0.0  0.0  0.00  1.0\n",
            "40          44.0  0.113636  0.321038  0.0  0.0  0.0  0.00  1.0\n",
            "41          30.0  0.066667  0.253708  0.0  0.0  0.0  0.00  1.0\n",
            "42          38.0  0.078947  0.273276  0.0  0.0  0.0  0.00  1.0\n",
            "43          36.0  0.055556  0.232311  0.0  0.0  0.0  0.00  1.0\n",
            "44          42.0  0.047619  0.215540  0.0  0.0  0.0  0.00  1.0\n",
            "45          31.0  0.096774  0.300537  0.0  0.0  0.0  0.00  1.0\n",
            "46          42.0  0.119048  0.327770  0.0  0.0  0.0  0.00  1.0\n",
            "47          26.0  0.115385  0.325813  0.0  0.0  0.0  0.00  1.0\n",
            "48          26.0  0.115385  0.325813  0.0  0.0  0.0  0.00  1.0\n",
            "49          29.0  0.137931  0.350931  0.0  0.0  0.0  0.00  1.0\n",
            "50          36.0  0.138889  0.350736  0.0  0.0  0.0  0.00  1.0\n",
            "51          37.0  0.216216  0.417342  0.0  0.0  0.0  0.00  1.0\n",
            "52          34.0  0.264706  0.447811  0.0  0.0  0.0  0.75  1.0\n",
            "53          29.0  0.137931  0.350931  0.0  0.0  0.0  0.00  1.0\n",
            "54          27.0  0.185185  0.395847  0.0  0.0  0.0  0.00  1.0\n",
            "55          27.0  0.185185  0.395847  0.0  0.0  0.0  0.00  1.0\n",
            "56          23.0  0.130435  0.344350  0.0  0.0  0.0  0.00  1.0\n",
            "57          35.0  0.171429  0.382385  0.0  0.0  0.0  0.00  1.0\n",
            "58          24.0  0.208333  0.414851  0.0  0.0  0.0  0.00  1.0\n",
            "59          30.0  0.266667  0.449776  0.0  0.0  0.0  0.75  1.0\n",
            "60          16.0  0.125000  0.341565  0.0  0.0  0.0  0.00  1.0\n",
            "61          19.0  0.210526  0.418854  0.0  0.0  0.0  0.00  1.0\n",
            "62          23.0  0.260870  0.448978  0.0  0.0  0.0  0.50  1.0\n",
            "63          20.0  0.350000  0.489360  0.0  0.0  0.0  1.00  1.0\n",
            "64          22.0  0.181818  0.394771  0.0  0.0  0.0  0.00  1.0\n",
            "65           7.0  0.571429  0.534522  0.0  0.0  1.0  1.00  1.0\n",
            "66           8.0  0.125000  0.353553  0.0  0.0  0.0  0.00  1.0\n",
            "67          13.0  0.538462  0.518875  0.0  0.0  1.0  1.00  1.0\n",
            "68           7.0  0.571429  0.534522  0.0  0.0  1.0  1.00  1.0\n",
            "69           3.0  0.000000  0.000000  0.0  0.0  0.0  0.00  0.0\n",
            "             TEN_YEAR_CHD                                             \n",
            "                    count      mean       std  min  25%  50%  75%  max\n",
            "prevalentHyp                                                          \n",
            "0                   659.0  0.097117  0.296342  0.0  0.0  0.0  0.0  1.0\n",
            "1                   255.0  0.270588  0.445137  0.0  0.0  0.0  1.0  1.0\n",
            "      TEN_YEAR_CHD                                          \n",
            "             count mean       std  min   25%  50%   75%  max\n",
            "sysBP                                                       \n",
            "92.5           1.0  1.0       NaN  1.0  1.00  1.0  1.00  1.0\n",
            "94.0           1.0  0.0       NaN  0.0  0.00  0.0  0.00  0.0\n",
            "95.0           1.0  0.0       NaN  0.0  0.00  0.0  0.00  0.0\n",
            "95.5           1.0  0.0       NaN  0.0  0.00  0.0  0.00  0.0\n",
            "96.0           1.0  0.0       NaN  0.0  0.00  0.0  0.00  0.0\n",
            "...            ...  ...       ...  ...   ...  ...   ...  ...\n",
            "207.0          1.0  0.0       NaN  0.0  0.00  0.0  0.00  0.0\n",
            "207.5          1.0  1.0       NaN  1.0  1.00  1.0  1.00  1.0\n",
            "210.0          2.0  0.5  0.707107  0.0  0.25  0.5  0.75  1.0\n",
            "213.0          1.0  0.0       NaN  0.0  0.00  0.0  0.00  0.0\n",
            "215.0          1.0  1.0       NaN  1.0  1.00  1.0  1.00  1.0\n",
            "\n",
            "[161 rows x 8 columns]\n",
            "      TEN_YEAR_CHD                                          \n",
            "             count mean       std  min   25%  50%   75%  max\n",
            "diaBP                                                       \n",
            "48.0           1.0  1.0       NaN  1.0  1.00  1.0  1.00  1.0\n",
            "53.0           1.0  0.0       NaN  0.0  0.00  0.0  0.00  0.0\n",
            "55.0           1.0  0.0       NaN  0.0  0.00  0.0  0.00  0.0\n",
            "56.0           1.0  0.0       NaN  0.0  0.00  0.0  0.00  0.0\n",
            "57.0           2.0  0.5  0.707107  0.0  0.25  0.5  0.75  1.0\n",
            "...            ...  ...       ...  ...   ...  ...   ...  ...\n",
            "127.5          1.0  0.0       NaN  0.0  0.00  0.0  0.00  0.0\n",
            "130.0          1.0  0.0       NaN  0.0  0.00  0.0  0.00  0.0\n",
            "132.0          1.0  0.0       NaN  0.0  0.00  0.0  0.00  0.0\n",
            "135.0          1.0  1.0       NaN  1.0  1.00  1.0  1.00  1.0\n",
            "140.0          1.0  1.0       NaN  1.0  1.00  1.0  1.00  1.0\n",
            "\n",
            "[115 rows x 8 columns]\n"
          ]
        }
      ],
      "source": [
        "correlated_columns = ['age', 'prevalentHyp', 'sysBP', 'diaBP'] # top four variables for correlation\n",
        "for column in correlated_columns:\n",
        "    print(test_data.loc[:,[column, 'TEN_YEAR_CHD']].groupby(column).describe()) # gets statistics related to the chosen four variables for analysis"
      ]
    },
    {
      "cell_type": "code",
      "execution_count": null,
      "metadata": {
        "id": "QuauMnDqnCa5"
      },
      "outputs": [],
      "source": [
        "X = test_data.loc[:,correlated_columns] # input values\n",
        "y = test_data['TEN_YEAR_CHD'] # output values"
      ]
    },
    {
      "cell_type": "code",
      "execution_count": null,
      "metadata": {
        "id": "2SFVoricnCa5"
      },
      "outputs": [],
      "source": [
        "# function to max min normalize the data\n",
        "def maxmin(df):\n",
        "    df_norm = (df-min(df))/(max(df)-min(df))\n",
        "    return df\n",
        "\n",
        "X = X.apply(maxmin)"
      ]
    },
    {
      "cell_type": "markdown",
      "metadata": {
        "id": "CVCs9DWDQT1b"
      },
      "source": [
        "The maxmin function was used to normalize the data to try and make it easier for the model to distinguish clusters."
      ]
    },
    {
      "cell_type": "code",
      "execution_count": null,
      "metadata": {
        "id": "hkwsIu-1nCa6"
      },
      "outputs": [],
      "source": [
        "np.random.seed(100)\n",
        "N = X.shape[0]\n",
        "all = np.arange(1,N)\n",
        "train = np.random.choice(N,int(.8*N) )\n",
        "test = [item for item in all if item not in train]\n",
        "\n",
        "X_train = X.iloc[train,:]\n",
        "y_train = y.iloc[train]\n",
        "X_test = X.iloc[test,:]\n",
        "y_test = y.iloc[test]"
      ]
    },
    {
      "cell_type": "code",
      "execution_count": null,
      "metadata": {
        "id": "EoAD6-IvnCa6",
        "outputId": "63691f4b-0f8b-46d4-ec46-767caa860d80"
      },
      "outputs": [
        {
          "data": {
            "image/png": "[encoded data removed]",
            "text/plain": [
              "<Figure size 640x480 with 1 Axes>"
            ]
          },
          "metadata": {},
          "output_type": "display_data"
        }
      ],
      "source": [
        "# trying to find optimal k\n",
        "k_bar = 50 # max number of k's to try\n",
        "k_grid = np.arange(1,k_bar)\n",
        "SSE = np.zeros(k_bar)\n",
        "\n",
        "for k in range(k_bar): # loops through all k variables\n",
        "    knn = KNeighborsRegressor(n_neighbors=k+1)\n",
        "    predictor = knn.fit(X_train,y_train)\n",
        "    y_hat = knn.predict(X_test)\n",
        "    SSE[k] = np.sum( (y_test-y_hat)**2 )\n",
        "\n",
        "SSE_min = np.min(SSE)\n",
        "min_index = np.where(SSE==SSE_min)\n",
        "k_star = k_grid[min_index]\n",
        "\n",
        "plt.plot(np.arange(0,k_bar),SSE) # plot accuracy by k\n",
        "plt.xlabel(\"k\")\n",
        "plt.title(f\"optimal k:{k_star}, SSE:{SSE_min}\")\n",
        "plt.ylabel('SSE')\n",
        "plt.show()"
      ]
    },
    {
      "cell_type": "markdown",
      "metadata": {
        "id": "QeUyGeoCQT1d"
      },
      "source": [
        "We needed to see what the optimal number of clusters was because too many clusters may mean overfitting the data. Looking at the SSE of each model, the one with the best SSE had 24 clusters which is the k-value we decided to go with since it was most optimal."
      ]
    },
    {
      "cell_type": "code",
      "execution_count": null,
      "metadata": {
        "id": "cLrBALzjnCa6",
        "outputId": "372a8d0c-4074-4e8f-f61e-60ffa362bee3"
      },
      "outputs": [
        {
          "data": {
            "text/html": [
              "<style>#sk-container-id-1 {color: black;}#sk-container-id-1 pre{padding: 0;}#sk-container-id-1 div.sk-toggleable {background-color: white;}#sk-container-id-1 label.sk-toggleable__label {cursor: pointer;display: block;width: 100%;margin-bottom: 0;padding: 0.3em;box-sizing: border-box;text-align: center;}#sk-container-id-1 label.sk-toggleable__label-arrow:before {content: \"▸\";float: left;margin-right: 0.25em;color: #696969;}#sk-container-id-1 label.sk-toggleable__label-arrow:hover:before {color: black;}#sk-container-id-1 div.sk-estimator:hover label.sk-toggleable__label-arrow:before {color: black;}#sk-container-id-1 div.sk-toggleable__content {max-height: 0;max-width: 0;overflow: hidden;text-align: left;background-color: #f0f8ff;}#sk-container-id-1 div.sk-toggleable__content pre {margin: 0.2em;color: black;border-radius: 0.25em;background-color: #f0f8ff;}#sk-container-id-1 input.sk-toggleable__control:checked~div.sk-toggleable__content {max-height: 200px;max-width: 100%;overflow: auto;}#sk-container-id-1 input.sk-toggleable__control:checked~label.sk-toggleable__label-arrow:before {content: \"▾\";}#sk-container-id-1 div.sk-estimator input.sk-toggleable__control:checked~label.sk-toggleable__label {background-color: #d4ebff;}#sk-container-id-1 div.sk-label input.sk-toggleable__control:checked~label.sk-toggleable__label {background-color: #d4ebff;}#sk-container-id-1 input.sk-hidden--visually {border: 0;clip: rect(1px 1px 1px 1px);clip: rect(1px, 1px, 1px, 1px);height: 1px;margin: -1px;overflow: hidden;padding: 0;position: absolute;width: 1px;}#sk-container-id-1 div.sk-estimator {font-family: monospace;background-color: #f0f8ff;border: 1px dotted black;border-radius: 0.25em;box-sizing: border-box;margin-bottom: 0.5em;}#sk-container-id-1 div.sk-estimator:hover {background-color: #d4ebff;}#sk-container-id-1 div.sk-parallel-item::after {content: \"\";width: 100%;border-bottom: 1px solid gray;flex-grow: 1;}#sk-container-id-1 div.sk-label:hover label.sk-toggleable__label {background-color: #d4ebff;}#sk-container-id-1 div.sk-serial::before {content: \"\";position: absolute;border-left: 1px solid gray;box-sizing: border-box;top: 0;bottom: 0;left: 50%;z-index: 0;}#sk-container-id-1 div.sk-serial {display: flex;flex-direction: column;align-items: center;background-color: white;padding-right: 0.2em;padding-left: 0.2em;position: relative;}#sk-container-id-1 div.sk-item {position: relative;z-index: 1;}#sk-container-id-1 div.sk-parallel {display: flex;align-items: stretch;justify-content: center;background-color: white;position: relative;}#sk-container-id-1 div.sk-item::before, #sk-container-id-1 div.sk-parallel-item::before {content: \"\";position: absolute;border-left: 1px solid gray;box-sizing: border-box;top: 0;bottom: 0;left: 50%;z-index: -1;}#sk-container-id-1 div.sk-parallel-item {display: flex;flex-direction: column;z-index: 1;position: relative;background-color: white;}#sk-container-id-1 div.sk-parallel-item:first-child::after {align-self: flex-end;width: 50%;}#sk-container-id-1 div.sk-parallel-item:last-child::after {align-self: flex-start;width: 50%;}#sk-container-id-1 div.sk-parallel-item:only-child::after {width: 0;}#sk-container-id-1 div.sk-dashed-wrapped {border: 1px dashed gray;margin: 0 0.4em 0.5em 0.4em;box-sizing: border-box;padding-bottom: 0.4em;background-color: white;}#sk-container-id-1 div.sk-label label {font-family: monospace;font-weight: bold;display: inline-block;line-height: 1.2em;}#sk-container-id-1 div.sk-label-container {text-align: center;}#sk-container-id-1 div.sk-container {/* jupyter's `normalize.less` sets `[hidden] { display: none; }` but bootstrap.min.css set `[hidden] { display: none !important; }` so we also need the `!important` here to be able to override the default hidden behavior on the sphinx rendered scikit-learn.org. See: https://github.com/scikit-learn/scikit-learn/issues/21755 */display: inline-block !important;position: relative;}#sk-container-id-1 div.sk-text-repr-fallback {display: none;}</style><div id=\"sk-container-id-1\" class=\"sk-top-container\"><div class=\"sk-text-repr-fallback\"><pre>KNeighborsRegressor(n_neighbors=24)</pre><b>In a Jupyter environment, please rerun this cell to show the HTML representation or trust the notebook. <br />On GitHub, the HTML representation is unable to render, please try loading this page with nbviewer.org.</b></div><div class=\"sk-container\" hidden><div class=\"sk-item\"><div class=\"sk-estimator sk-toggleable\"><input class=\"sk-toggleable__control sk-hidden--visually\" id=\"sk-estimator-id-1\" type=\"checkbox\" checked><label for=\"sk-estimator-id-1\" class=\"sk-toggleable__label sk-toggleable__label-arrow\">KNeighborsRegressor</label><div class=\"sk-toggleable__content\"><pre>KNeighborsRegressor(n_neighbors=24)</pre></div></div></div></div></div>"
            ],
            "text/plain": [
              "KNeighborsRegressor(n_neighbors=24)"
            ]
          },
          "execution_count": 10,
          "metadata": {},
          "output_type": "execute_result"
        }
      ],
      "source": [
        "# RESOURCES\n",
        "# https://towardsdatascience.com/building-a-k-nearest-neighbors-k-nn-model-with-scikit-learn-51209555453a\n",
        "\n",
        "knn = KNeighborsRegressor(n_neighbors = 24) # optimal k is 24 from above plot\n",
        "knn.fit(X_train,y_train)"
      ]
    },
    {
      "cell_type": "code",
      "execution_count": null,
      "metadata": {
        "id": "4GzfMaeZnCa7",
        "outputId": "a996beb0-2970-4854-de5f-d46c40dc9c42"
      },
      "outputs": [
        {
          "data": {
            "text/plain": [
              "array([0.04166667, 0.25      , 0.16666667, 0.20833333, 0.20833333,\n",
              "       0.29166667, 0.20833333, 0.08333333, 0.125     , 0.125     ,\n",
              "       0.        , 0.04166667, 0.08333333, 0.08333333, 0.25      ,\n",
              "       0.04166667, 0.125     , 0.20833333, 0.375     , 0.16666667,\n",
              "       0.        , 0.04166667, 0.04166667, 0.08333333, 0.04166667,\n",
              "       0.125     , 0.04166667, 0.125     , 0.        , 0.08333333,\n",
              "       0.        , 0.125     , 0.16666667, 0.        , 0.33333333,\n",
              "       0.08333333, 0.125     , 0.        , 0.04166667, 0.        ,\n",
              "       0.        , 0.04166667, 0.04166667, 0.04166667, 0.04166667,\n",
              "       0.08333333, 0.125     , 0.08333333, 0.04166667, 0.16666667,\n",
              "       0.08333333, 0.29166667, 0.08333333, 0.25      , 0.58333333,\n",
              "       0.33333333, 0.        , 0.04166667, 0.16666667, 0.16666667,\n",
              "       0.04166667, 0.        , 0.04166667, 0.04166667, 0.08333333,\n",
              "       0.33333333, 0.08333333, 0.04166667, 0.08333333, 0.04166667,\n",
              "       0.25      , 0.125     , 0.        , 0.125     , 0.29166667,\n",
              "       0.41666667, 0.04166667, 0.25      , 0.08333333, 0.04166667,\n",
              "       0.33333333, 0.20833333, 0.04166667, 0.08333333, 0.08333333,\n",
              "       0.08333333, 0.16666667, 0.04166667, 0.25      , 0.16666667,\n",
              "       0.04166667, 0.25      , 0.04166667, 0.08333333, 0.08333333,\n",
              "       0.        , 0.        , 0.04166667, 0.20833333, 0.20833333,\n",
              "       0.16666667, 0.04166667, 0.125     , 0.08333333, 0.125     ,\n",
              "       0.20833333, 0.04166667, 0.04166667, 0.08333333, 0.04166667,\n",
              "       0.20833333, 0.04166667, 0.20833333, 0.        , 0.04166667,\n",
              "       0.04166667, 0.29166667, 0.04166667, 0.08333333, 0.08333333,\n",
              "       0.08333333, 0.16666667, 0.08333333, 0.08333333, 0.125     ,\n",
              "       0.        , 0.08333333, 0.04166667, 0.08333333, 0.08333333,\n",
              "       0.58333333, 0.04166667, 0.08333333, 0.08333333, 0.08333333,\n",
              "       0.04166667, 0.125     , 0.20833333, 0.        , 0.08333333,\n",
              "       0.125     , 0.41666667, 0.375     , 0.08333333, 0.        ,\n",
              "       0.08333333, 0.125     , 0.29166667, 0.375     , 0.08333333,\n",
              "       0.08333333, 0.04166667, 0.04166667, 0.25      , 0.        ,\n",
              "       0.08333333, 0.08333333, 0.29166667, 0.125     , 0.58333333,\n",
              "       0.04166667, 0.        , 0.        , 0.08333333, 0.08333333,\n",
              "       0.04166667, 0.        , 0.33333333, 0.29166667, 0.        ,\n",
              "       0.16666667, 0.33333333, 0.04166667, 0.04166667, 0.        ,\n",
              "       0.125     , 0.        , 0.04166667, 0.25      , 0.41666667,\n",
              "       0.08333333, 0.16666667, 0.125     , 0.25      , 0.04166667,\n",
              "       0.        , 0.08333333, 0.125     , 0.25      , 0.125     ,\n",
              "       0.5       , 0.08333333, 0.04166667, 0.08333333, 0.20833333,\n",
              "       0.08333333, 0.04166667, 0.33333333, 0.08333333, 0.20833333,\n",
              "       0.375     , 0.        , 0.125     , 0.        , 0.04166667,\n",
              "       0.20833333, 0.25      , 0.08333333, 0.        , 0.        ,\n",
              "       0.08333333, 0.04166667, 0.04166667, 0.04166667, 0.16666667,\n",
              "       0.20833333, 0.04166667, 0.125     , 0.41666667, 0.29166667,\n",
              "       0.        , 0.        , 0.08333333, 0.16666667, 0.04166667,\n",
              "       0.25      , 0.08333333, 0.        , 0.        , 0.08333333,\n",
              "       0.08333333, 0.125     , 0.08333333, 0.04166667, 0.125     ,\n",
              "       0.25      , 0.25      , 0.125     , 0.04166667, 0.08333333,\n",
              "       0.16666667, 0.125     , 0.125     , 0.25      , 0.04166667,\n",
              "       0.        , 0.04166667, 0.04166667, 0.        , 0.04166667,\n",
              "       0.125     , 0.125     , 0.16666667, 0.04166667, 0.08333333,\n",
              "       0.        , 0.375     , 0.04166667, 0.        , 0.29166667,\n",
              "       0.125     , 0.66666667, 0.29166667, 0.125     , 0.04166667,\n",
              "       0.125     , 0.04166667, 0.04166667, 0.125     , 0.08333333,\n",
              "       0.04166667, 0.29166667, 0.04166667, 0.20833333, 0.        ,\n",
              "       0.125     , 0.16666667, 0.        , 0.        , 0.        ,\n",
              "       0.08333333, 0.29166667, 0.16666667, 0.04166667, 0.04166667,\n",
              "       0.08333333, 0.04166667, 0.375     , 0.16666667, 0.04166667,\n",
              "       0.        , 0.08333333, 0.29166667, 0.08333333, 0.04166667,\n",
              "       0.08333333, 0.16666667, 0.08333333, 0.        , 0.125     ,\n",
              "       0.125     , 0.29166667, 0.16666667, 0.20833333, 0.08333333,\n",
              "       0.04166667, 0.375     , 0.16666667, 0.04166667, 0.125     ,\n",
              "       0.04166667, 0.04166667, 0.08333333, 0.08333333, 0.16666667,\n",
              "       0.20833333, 0.33333333, 0.16666667, 0.        , 0.33333333,\n",
              "       0.125     , 0.08333333, 0.08333333, 0.        , 0.08333333,\n",
              "       0.33333333, 0.        , 0.375     , 0.        , 0.        ,\n",
              "       0.08333333, 0.41666667, 0.08333333, 0.04166667, 0.        ,\n",
              "       0.29166667, 0.41666667, 0.08333333, 0.        , 0.16666667,\n",
              "       0.04166667, 0.04166667, 0.375     , 0.16666667, 0.        ,\n",
              "       0.08333333, 0.20833333, 0.20833333, 0.08333333, 0.41666667,\n",
              "       0.125     , 0.29166667, 0.        , 0.04166667, 0.        ,\n",
              "       0.29166667, 0.04166667, 0.25      , 0.20833333, 0.20833333,\n",
              "       0.04166667, 0.25      , 0.29166667, 0.        , 0.125     ,\n",
              "       0.        , 0.08333333, 0.125     , 0.04166667, 0.33333333,\n",
              "       0.04166667, 0.08333333, 0.08333333, 0.04166667, 0.04166667,\n",
              "       0.125     , 0.16666667, 0.375     , 0.375     , 0.08333333,\n",
              "       0.375     , 0.16666667, 0.29166667, 0.125     , 0.04166667,\n",
              "       0.        , 0.125     , 0.04166667, 0.20833333, 0.16666667,\n",
              "       0.08333333, 0.33333333, 0.16666667, 0.        , 0.16666667,\n",
              "       0.25      , 0.        , 0.08333333, 0.04166667, 0.        ,\n",
              "       0.20833333, 0.08333333, 0.16666667, 0.        , 0.04166667,\n",
              "       0.16666667, 0.125     , 0.125     , 0.375     , 0.04166667,\n",
              "       0.20833333, 0.08333333, 0.125     , 0.        , 0.08333333,\n",
              "       0.16666667, 0.125     , 0.        , 0.41666667, 0.04166667,\n",
              "       0.08333333])"
            ]
          },
          "execution_count": 11,
          "metadata": {},
          "output_type": "execute_result"
        }
      ],
      "source": [
        "model = knn.predict(X_test) # making a prediction off the training test data\n",
        "model"
      ]
    },
    {
      "cell_type": "code",
      "execution_count": null,
      "metadata": {
        "id": "D9PNSyDFnCa7",
        "outputId": "3375b2cd-9690-4ed3-b92b-8813f8df7997"
      },
      "outputs": [
        {
          "data": {
            "text/plain": [
              "0.09597370774512626"
            ]
          },
          "execution_count": 12,
          "metadata": {},
          "output_type": "execute_result"
        }
      ],
      "source": [
        "knn.score(X_test, y_test) # seeing the accuracy"
      ]
    },
    {
      "cell_type": "code",
      "execution_count": null,
      "metadata": {
        "id": "S_NAg2BjnCa7"
      },
      "outputs": [],
      "source": [
        "real_data_x_test = test_data.loc[:,correlated_columns]\n",
        "real_data_y_test = test_data['TEN_YEAR_CHD']"
      ]
    },
    {
      "cell_type": "code",
      "execution_count": null,
      "metadata": {
        "id": "2NREm461nCa8"
      },
      "outputs": [],
      "source": [
        "model = knn.predict(real_data_x_test) # making a prediction off the data from the actual test csv file"
      ]
    },
    {
      "cell_type": "code",
      "execution_count": null,
      "metadata": {
        "id": "s7mjJlqqnCa8",
        "outputId": "f569c272-3f23-43d1-e94d-681fbf201112"
      },
      "outputs": [
        {
          "data": {
            "text/plain": [
              "0.09148190578879978"
            ]
          },
          "execution_count": 15,
          "metadata": {},
          "output_type": "execute_result"
        }
      ],
      "source": [
        "knn.score(real_data_x_test, real_data_y_test) # shows the accuracy of the model"
      ]
    },
    {
      "cell_type": "markdown",
      "metadata": {
        "id": "vp6VEEMMQT1f"
      },
      "source": [
        "The training data set had an average accuracy of 0.095. When the model was tested on the test data set that dropped to 0.091. What this suggests is that the clusters in the knn model don't really align that well to the 10 year risk of coronary heart disease."
      ]
    },
    {
      "cell_type": "markdown",
      "metadata": {
        "id": "NH75x5Qq0WNe"
      },
      "source": [
        "## Linear Regression Model\n",
        "\n",
        "When performing linear regression, the four most strongly correlated variables were looked at for every model except the one with logarithmic normalization.\n",
        "\n",
        "A few different combinations of these variables with regressions were performed using various normalization methods. Logarithmic normalization produced the best model with a r^2 value of 0.086"
      ]
    },
    {
      "cell_type": "code",
      "execution_count": null,
      "metadata": {
        "id": "_LxbjfAAnCa8"
      },
      "outputs": [],
      "source": [
        "import numpy as np\n",
        "import pandas as pd\n",
        "import matplotlib.pyplot as plt\n",
        "import seaborn as sns"
      ]
    },
    {
      "cell_type": "code",
      "execution_count": null,
      "metadata": {
        "id": "t5ljEbcYnCa9",
        "outputId": "e85b3b59-9731-4bd0-a70e-be99ea7109af"
      },
      "outputs": [
        {
          "data": {
            "text/html": [
              "<div>\n",
              "<style scoped>\n",
              "    .dataframe tbody tr th:only-of-type {\n",
              "        vertical-align: middle;\n",
              "    }\n",
              "\n",
              "    .dataframe tbody tr th {\n",
              "        vertical-align: top;\n",
              "    }\n",
              "\n",
              "    .dataframe thead th {\n",
              "        text-align: right;\n",
              "    }\n",
              "</style>\n",
              "<table border=\"1\" class=\"dataframe\">\n",
              "  <thead>\n",
              "    <tr style=\"text-align: right;\">\n",
              "      <th></th>\n",
              "      <th>age</th>\n",
              "      <th>prevalentHyp</th>\n",
              "      <th>sysBP</th>\n",
              "      <th>diaBP</th>\n",
              "      <th>TenYearCHD</th>\n",
              "    </tr>\n",
              "  </thead>\n",
              "  <tbody>\n",
              "    <tr>\n",
              "      <th>0</th>\n",
              "      <td>58</td>\n",
              "      <td>0</td>\n",
              "      <td>143.0</td>\n",
              "      <td>104.0</td>\n",
              "      <td>1</td>\n",
              "    </tr>\n",
              "    <tr>\n",
              "      <th>1</th>\n",
              "      <td>40</td>\n",
              "      <td>0</td>\n",
              "      <td>122.0</td>\n",
              "      <td>82.0</td>\n",
              "      <td>0</td>\n",
              "    </tr>\n",
              "    <tr>\n",
              "      <th>2</th>\n",
              "      <td>52</td>\n",
              "      <td>0</td>\n",
              "      <td>112.0</td>\n",
              "      <td>71.0</td>\n",
              "      <td>0</td>\n",
              "    </tr>\n",
              "    <tr>\n",
              "      <th>3</th>\n",
              "      <td>38</td>\n",
              "      <td>1</td>\n",
              "      <td>130.0</td>\n",
              "      <td>94.0</td>\n",
              "      <td>0</td>\n",
              "    </tr>\n",
              "    <tr>\n",
              "      <th>4</th>\n",
              "      <td>43</td>\n",
              "      <td>0</td>\n",
              "      <td>124.0</td>\n",
              "      <td>92.0</td>\n",
              "      <td>0</td>\n",
              "    </tr>\n",
              "    <tr>\n",
              "      <th>...</th>\n",
              "      <td>...</td>\n",
              "      <td>...</td>\n",
              "      <td>...</td>\n",
              "      <td>...</td>\n",
              "      <td>...</td>\n",
              "    </tr>\n",
              "    <tr>\n",
              "      <th>3175</th>\n",
              "      <td>36</td>\n",
              "      <td>0</td>\n",
              "      <td>133.0</td>\n",
              "      <td>88.0</td>\n",
              "      <td>0</td>\n",
              "    </tr>\n",
              "    <tr>\n",
              "      <th>3176</th>\n",
              "      <td>47</td>\n",
              "      <td>0</td>\n",
              "      <td>137.0</td>\n",
              "      <td>91.0</td>\n",
              "      <td>0</td>\n",
              "    </tr>\n",
              "    <tr>\n",
              "      <th>3177</th>\n",
              "      <td>52</td>\n",
              "      <td>0</td>\n",
              "      <td>135.0</td>\n",
              "      <td>89.0</td>\n",
              "      <td>1</td>\n",
              "    </tr>\n",
              "    <tr>\n",
              "      <th>3178</th>\n",
              "      <td>48</td>\n",
              "      <td>0</td>\n",
              "      <td>117.0</td>\n",
              "      <td>73.0</td>\n",
              "      <td>0</td>\n",
              "    </tr>\n",
              "    <tr>\n",
              "      <th>3179</th>\n",
              "      <td>60</td>\n",
              "      <td>1</td>\n",
              "      <td>183.0</td>\n",
              "      <td>107.0</td>\n",
              "      <td>0</td>\n",
              "    </tr>\n",
              "  </tbody>\n",
              "</table>\n",
              "<p>3180 rows × 5 columns</p>\n",
              "</div>"
            ],
            "text/plain": [
              "      age  prevalentHyp  sysBP  diaBP  TenYearCHD\n",
              "0      58             0  143.0  104.0           1\n",
              "1      40             0  122.0   82.0           0\n",
              "2      52             0  112.0   71.0           0\n",
              "3      38             1  130.0   94.0           0\n",
              "4      43             0  124.0   92.0           0\n",
              "...   ...           ...    ...    ...         ...\n",
              "3175   36             0  133.0   88.0           0\n",
              "3176   47             0  137.0   91.0           0\n",
              "3177   52             0  135.0   89.0           1\n",
              "3178   48             0  117.0   73.0           0\n",
              "3179   60             1  183.0  107.0           0\n",
              "\n",
              "[3180 rows x 5 columns]"
            ]
          },
          "execution_count": 51,
          "metadata": {},
          "output_type": "execute_result"
        }
      ],
      "source": [
        "df_linear = pd.read_csv('fhs_train.csv')\n",
        "df_linear = df_linear.drop('Unnamed: 0', axis=1) # drops unnecessary index column\n",
        "df_linear_all = df_linear\n",
        "df_linear = df_linear.loc[:, ['age', 'prevalentHyp', 'sysBP', 'diaBP', 'TenYearCHD']] # columns needed for training\n",
        "df_linear"
      ]
    },
    {
      "cell_type": "code",
      "execution_count": null,
      "metadata": {
        "id": "W0KBfYw8nCa9",
        "outputId": "2bad4287-dae6-4f1e-ae52-4503e35e1acf"
      },
      "outputs": [
        {
          "data": {
            "text/html": [
              "<div>\n",
              "<style scoped>\n",
              "    .dataframe tbody tr th:only-of-type {\n",
              "        vertical-align: middle;\n",
              "    }\n",
              "\n",
              "    .dataframe tbody tr th {\n",
              "        vertical-align: top;\n",
              "    }\n",
              "\n",
              "    .dataframe thead th {\n",
              "        text-align: right;\n",
              "    }\n",
              "</style>\n",
              "<table border=\"1\" class=\"dataframe\">\n",
              "  <thead>\n",
              "    <tr style=\"text-align: right;\">\n",
              "      <th></th>\n",
              "      <th>age</th>\n",
              "      <th>prevalentHyp</th>\n",
              "      <th>sysBP</th>\n",
              "      <th>diaBP</th>\n",
              "      <th>TenYearCHD</th>\n",
              "    </tr>\n",
              "  </thead>\n",
              "  <tbody>\n",
              "    <tr>\n",
              "      <th>0</th>\n",
              "      <td>58</td>\n",
              "      <td>0</td>\n",
              "      <td>126.0</td>\n",
              "      <td>77.0</td>\n",
              "      <td>0</td>\n",
              "    </tr>\n",
              "    <tr>\n",
              "      <th>1</th>\n",
              "      <td>51</td>\n",
              "      <td>0</td>\n",
              "      <td>135.0</td>\n",
              "      <td>83.0</td>\n",
              "      <td>0</td>\n",
              "    </tr>\n",
              "    <tr>\n",
              "      <th>2</th>\n",
              "      <td>44</td>\n",
              "      <td>1</td>\n",
              "      <td>147.5</td>\n",
              "      <td>96.0</td>\n",
              "      <td>1</td>\n",
              "    </tr>\n",
              "    <tr>\n",
              "      <th>3</th>\n",
              "      <td>40</td>\n",
              "      <td>0</td>\n",
              "      <td>138.5</td>\n",
              "      <td>88.0</td>\n",
              "      <td>1</td>\n",
              "    </tr>\n",
              "    <tr>\n",
              "      <th>4</th>\n",
              "      <td>58</td>\n",
              "      <td>0</td>\n",
              "      <td>110.0</td>\n",
              "      <td>80.0</td>\n",
              "      <td>0</td>\n",
              "    </tr>\n",
              "    <tr>\n",
              "      <th>...</th>\n",
              "      <td>...</td>\n",
              "      <td>...</td>\n",
              "      <td>...</td>\n",
              "      <td>...</td>\n",
              "      <td>...</td>\n",
              "    </tr>\n",
              "    <tr>\n",
              "      <th>1055</th>\n",
              "      <td>63</td>\n",
              "      <td>1</td>\n",
              "      <td>196.0</td>\n",
              "      <td>101.0</td>\n",
              "      <td>1</td>\n",
              "    </tr>\n",
              "    <tr>\n",
              "      <th>1056</th>\n",
              "      <td>42</td>\n",
              "      <td>0</td>\n",
              "      <td>112.0</td>\n",
              "      <td>74.5</td>\n",
              "      <td>0</td>\n",
              "    </tr>\n",
              "    <tr>\n",
              "      <th>1057</th>\n",
              "      <td>63</td>\n",
              "      <td>1</td>\n",
              "      <td>196.0</td>\n",
              "      <td>102.0</td>\n",
              "      <td>0</td>\n",
              "    </tr>\n",
              "    <tr>\n",
              "      <th>1058</th>\n",
              "      <td>55</td>\n",
              "      <td>0</td>\n",
              "      <td>136.5</td>\n",
              "      <td>87.5</td>\n",
              "      <td>0</td>\n",
              "    </tr>\n",
              "    <tr>\n",
              "      <th>1059</th>\n",
              "      <td>41</td>\n",
              "      <td>1</td>\n",
              "      <td>136.0</td>\n",
              "      <td>98.0</td>\n",
              "      <td>0</td>\n",
              "    </tr>\n",
              "  </tbody>\n",
              "</table>\n",
              "<p>1060 rows × 5 columns</p>\n",
              "</div>"
            ],
            "text/plain": [
              "      age  prevalentHyp  sysBP  diaBP  TenYearCHD\n",
              "0      58             0  126.0   77.0           0\n",
              "1      51             0  135.0   83.0           0\n",
              "2      44             1  147.5   96.0           1\n",
              "3      40             0  138.5   88.0           1\n",
              "4      58             0  110.0   80.0           0\n",
              "...   ...           ...    ...    ...         ...\n",
              "1055   63             1  196.0  101.0           1\n",
              "1056   42             0  112.0   74.5           0\n",
              "1057   63             1  196.0  102.0           0\n",
              "1058   55             0  136.5   87.5           0\n",
              "1059   41             1  136.0   98.0           0\n",
              "\n",
              "[1060 rows x 5 columns]"
            ]
          },
          "execution_count": 52,
          "metadata": {},
          "output_type": "execute_result"
        }
      ],
      "source": [
        "df_test_linear = pd.read_csv('fhs_test.csv')\n",
        "df_test_linear = df_test_linear.drop('Unnamed: 0', axis=1) # drops unnecessary index column\n",
        "df_linear_test_all = df_test_linear\n",
        "df_test_linear = df_test_linear.loc[:, ['age', 'prevalentHyp', 'sysBP', 'diaBP', 'TenYearCHD']] # columns needed for training\n",
        "df_test_linear"
      ]
    },
    {
      "cell_type": "code",
      "execution_count": null,
      "metadata": {
        "id": "UBdi7h6nnCa9"
      },
      "outputs": [],
      "source": [
        "def fill_nas(df):\n",
        "    columns = df.columns\n",
        "    for column in columns:\n",
        "        df[column] = df[column].fillna(df[column].mode()[0])\n",
        "    return df"
      ]
    },
    {
      "cell_type": "code",
      "execution_count": null,
      "metadata": {
        "id": "DSkS8XIZnCa-"
      },
      "outputs": [],
      "source": [
        "# Handle NAs by filling them in with estimated values:\n",
        "df_linear = fill_nas(df_linear)\n",
        "df_test_linear = fill_nas(df_test_linear)"
      ]
    },
    {
      "cell_type": "markdown",
      "metadata": {
        "id": "D4E_OB97QT1h"
      },
      "source": [
        "It was necessary to remove any NaN values because not only would the model have an error, but it also means outliers in the dataset."
      ]
    },
    {
      "cell_type": "markdown",
      "metadata": {
        "id": "gmOXXhNl_WYy"
      },
      "source": [
        "### Linear Regression with a MinMax function"
      ]
    },
    {
      "cell_type": "code",
      "execution_count": null,
      "metadata": {
        "id": "69jPvBfEnCa-",
        "outputId": "13455a1d-80ae-47fa-8a6a-404e183605e2"
      },
      "outputs": [
        {
          "name": "stdout",
          "output_type": "stream",
          "text": [
            "0.07983897236123427\n"
          ]
        }
      ],
      "source": [
        "## Linear Regression:\n",
        "from sklearn.linear_model import LinearRegression\n",
        "from sklearn import preprocessing\n",
        "from sklearn.preprocessing import StandardScaler\n",
        "from sklearn.preprocessing import MinMaxScaler\n",
        "import numpy as np\n",
        "\n",
        "# Preprocess data for random forest:\n",
        "X_train = df_linear.drop('TenYearCHD',axis=1)\n",
        "y_train = df_linear['TenYearCHD']\n",
        "X_test = df_test_linear.drop('TenYearCHD',axis=1)\n",
        "y_test = df_test_linear['TenYearCHD']\n",
        "\n",
        "# min/max scales the data\n",
        "min_max_scaler = preprocessing.MinMaxScaler()\n",
        "X_train_scaled = min_max_scaler.fit_transform(X_train)\n",
        "X_test_scaled = min_max_scaler.transform(X_test)\n",
        "\n",
        "# code used for trying different data transformating techniques\n",
        "model = LinearRegression() # Build a random forest model\n",
        "rf = model.fit(X_train_scaled,y_train) # Fit the rf model\n",
        "y_hat = rf.predict(X_test_scaled) # Model predictions\n",
        "\n",
        "SSE = np.sum( (y_test - y_hat)**2 )\n",
        "TSS = np.sum( (y_test - np.mean(y) )**2 )\n",
        "rsq = 1 - SSE/TSS\n",
        "print(rsq)"
      ]
    },
    {
      "cell_type": "markdown",
      "metadata": {
        "id": "yfcZ61SMQT1_"
      },
      "source": [
        "This model used a min max function for normalization and had a r^2 value of 0.0798."
      ]
    },
    {
      "cell_type": "code",
      "execution_count": null,
      "metadata": {
        "id": "C_9Du2-V_WYz",
        "outputId": "28397e8e-db38-468f-dda0-1d5dc9402991"
      },
      "outputs": [
        {
          "name": "stdout",
          "output_type": "stream",
          "text": [
            "0.07983897236123427\n"
          ]
        }
      ],
      "source": [
        "## Linear Regression:\n",
        "from sklearn.linear_model import LinearRegression\n",
        "from sklearn import preprocessing\n",
        "from sklearn.preprocessing import StandardScaler\n",
        "from sklearn.preprocessing import MinMaxScaler\n",
        "import numpy as np\n",
        "\n",
        "# Preprocess data for random forest:\n",
        "X_train = df_linear.drop('TenYearCHD',axis=1)\n",
        "y_train = df_linear['TenYearCHD']\n",
        "X_test = df_test_linear.drop('TenYearCHD',axis=1)\n",
        "y_test = df_test_linear['TenYearCHD']\n",
        "\n",
        "# Fit model:\n",
        "model = LinearRegression() # Build a random forest model\n",
        "rf = model.fit(X_train,y_train) # Fit the rf model\n",
        "y_hat = rf.predict(X_test) # Model predictions\n",
        "\n",
        "SSE = np.sum( (y_test - y_hat)**2 )\n",
        "TSS = np.sum( (y_test - np.mean(y) )**2 )\n",
        "rsq = 1 - SSE/TSS\n",
        "print(rsq)"
      ]
    },
    {
      "cell_type": "markdown",
      "metadata": {
        "id": "_waYnD7KQT2A"
      },
      "source": [
        "This model didn't use any normalization yet had the same r^2 value as the model above suggesting the data was pretty standardized to begin with."
      ]
    },
    {
      "cell_type": "code",
      "execution_count": null,
      "metadata": {
        "id": "KUkyJd96nCa-",
        "outputId": "7e92cf94-a8f3-4e21-878d-d856e2c1d2b0"
      },
      "outputs": [
        {
          "name": "stdout",
          "output_type": "stream",
          "text": [
            "0.0871269137527616\n"
          ]
        }
      ],
      "source": [
        "import numpy as np\n",
        "import pandas as pd\n",
        "import matplotlib.pyplot as plt\n",
        "import seaborn as sns\n",
        "\n",
        "df_linear = pd.read_csv('fhs_train.csv')\n",
        "df_linear = df_linear.drop('Unnamed: 0', axis=1)\n",
        "df_linear = df_linear.loc[:, ['education', 'age', 'prevalentHyp', 'sysBP', 'glucose', 'diaBP', 'totChol', 'TenYearCHD']]\n",
        "df_test_linear = pd.read_csv('fhs_test.csv')\n",
        "df_test_linear = df_test_linear.drop('Unnamed: 0', axis=1)\n",
        "df_test_linear = df_test_linear.loc[:, ['education', 'age', 'prevalentHyp', 'sysBP', 'glucose', 'diaBP', 'totChol', 'TenYearCHD']]\n",
        "\n",
        "def fill_nas(df):\n",
        "    columns = df.columns\n",
        "    for column in columns:\n",
        "        df[column] = df[column].fillna(df[column].mode()[0])\n",
        "    return df\n",
        "\n",
        "df_linear = fill_nas(df_linear)\n",
        "df_test_linear = fill_nas(df_test_linear)\n",
        "\n",
        "df_linear['totChol_log'] = np.log(df_linear['totChol'])\n",
        "df_linear['glucose_log'] = np.log(df_linear['glucose'])\n",
        "df_linear['diaBP_log'] = np.log(df_linear['diaBP'])\n",
        "df_linear['sysBP_log'] = np.log(df_linear['sysBP'])\n",
        "df_linear['age_log'] = np.log(df_linear['age'])\n",
        "df_linear['education_log'] = np.log(df_linear['education'])\n",
        "\n",
        "df_test_linear['totChol_log'] = np.log(df_test_linear['totChol'])\n",
        "df_test_linear['glucose_log'] = np.log(df_test_linear['glucose'])\n",
        "df_test_linear['diaBP_log'] = np.log(df_test_linear['diaBP'])\n",
        "df_test_linear['sysBP_log'] = np.log(df_test_linear['sysBP'])\n",
        "df_test_linear['age_log'] = np.log(df_test_linear['age'])\n",
        "df_test_linear['education_log'] = np.log(df_test_linear['education'])\n",
        "\n",
        "from sklearn.linear_model import LinearRegression\n",
        "from sklearn.preprocessing import StandardScaler\n",
        "from sklearn.preprocessing import MinMaxScaler\n",
        "import numpy as np\n",
        "\n",
        "X_train = df_linear.drop('TenYearCHD',axis=1)\n",
        "y_train = df_linear['TenYearCHD']\n",
        "X_test = df_test_linear.drop('TenYearCHD',axis=1)\n",
        "y_test = df_test_linear['TenYearCHD']\n",
        "\n",
        "model = LinearRegression() # Build a random forest model\n",
        "rf = model.fit(X_train,y_train) # Fit the rf model\n",
        "y_hat = rf.predict(X_test) # Model predictions\n",
        "\n",
        "SSE = np.sum( (y_test - y_hat)**2 )\n",
        "TSS = np.sum( (y_test - np.mean(y) )**2 )\n",
        "rsq = 1 - SSE/TSS\n",
        "print(rsq)"
      ]
    },
    {
      "cell_type": "markdown",
      "metadata": {
        "id": "PatxJlZWQT2B"
      },
      "source": [
        "This model used logarithmic normalization a columns that didn't have division by zero issues or values that evaluated to infinity. It had the best accuracy of all the linear regression models likely because it help."
      ]
    },
    {
      "cell_type": "markdown",
      "metadata": {
        "id": "ilxP_sgc2RLc"
      },
      "source": [
        "## Decision Tree Model"
      ]
    },
    {
      "cell_type": "markdown",
      "metadata": {
        "id": "c3qT8obcCjPX"
      },
      "source": [
        "### Decision Tree - Round 1"
      ]
    },
    {
      "cell_type": "markdown",
      "metadata": {
        "id": "4okfmsBWAmXC"
      },
      "source": [
        "When performing the decision tree model, the entire dataset was first used for analysis to get a general overview of the patterns in the data, as well as what the model could look like. Without specification of a depth, there was great overfitting observed by the model. Thus, various depths were then used for experimentation to determine the model of best fit.\n",
        "\n",
        "The best R-squared value from this model was around 0.0616, observed at a depth of 3."
      ]
    },
    {
      "cell_type": "code",
      "execution_count": null,
      "metadata": {
        "id": "67PG8jHEAnND"
      },
      "outputs": [],
      "source": [
        "# Import libraries and packages\n",
        "import pandas as pd\n",
        "import numpy as np\n",
        "import matplotlib.pyplot as plt\n",
        "import seaborn as sns"
      ]
    },
    {
      "cell_type": "code",
      "execution_count": null,
      "metadata": {
        "colab": {
          "base_uri": "https://localhost:8080/",
          "height": 343
        },
        "id": "rHj0O5HnA1DS",
        "outputId": "32c3bc5e-99e8-42e6-f727-08e275cf43f8"
      },
      "outputs": [
        {
          "name": "stdout",
          "output_type": "stream",
          "text": [
            "Cloning into 'project_chd'...\n",
            "remote: Enumerating objects: 16, done.\u001b[K\n",
            "remote: Counting objects: 100% (10/10), done.\u001b[K\n",
            "remote: Compressing objects: 100% (6/6), done.\u001b[K\n",
            "remote: Total 16 (delta 6), reused 6 (delta 4), pack-reused 6\u001b[K\n",
            "Receiving objects: 100% (16/16), 754.81 KiB | 5.85 MiB/s, done.\n",
            "Resolving deltas: 100% (6/6), done.\n"
          ]
        },
        {
          "data": {
            "application/vnd.google.colaboratory.intrinsic+json": {
              "summary": "{\n  \"name\": \"data\",\n  \"rows\": 3180,\n  \"fields\": [\n    {\n      \"column\": \"sex\",\n      \"properties\": {\n        \"dtype\": \"number\",\n        \"std\": 0,\n        \"min\": 0,\n        \"max\": 1,\n        \"num_unique_values\": 2,\n        \"samples\": [\n          0,\n          1\n        ],\n        \"semantic_type\": \"\",\n        \"description\": \"\"\n      }\n    },\n    {\n      \"column\": \"age\",\n      \"properties\": {\n        \"dtype\": \"number\",\n        \"std\": 8,\n        \"min\": 32,\n        \"max\": 70,\n        \"num_unique_values\": 39,\n        \"samples\": [\n          67,\n          32\n        ],\n        \"semantic_type\": \"\",\n        \"description\": \"\"\n      }\n    },\n    {\n      \"column\": \"education\",\n      \"properties\": {\n        \"dtype\": \"number\",\n        \"std\": 1.011134624909823,\n        \"min\": 1.0,\n        \"max\": 4.0,\n        \"num_unique_values\": 4,\n        \"samples\": [\n          2.0,\n          3.0\n        ],\n        \"semantic_type\": \"\",\n        \"description\": \"\"\n      }\n    },\n    {\n      \"column\": \"currentSmoker\",\n      \"properties\": {\n        \"dtype\": \"number\",\n        \"std\": 0,\n        \"min\": 0,\n        \"max\": 1,\n        \"num_unique_values\": 2,\n        \"samples\": [\n          1,\n          0\n        ],\n        \"semantic_type\": \"\",\n        \"description\": \"\"\n      }\n    },\n    {\n      \"column\": \"cigsPerDay\",\n      \"properties\": {\n        \"dtype\": \"number\",\n        \"std\": 12.013704001555473,\n        \"min\": 0.0,\n        \"max\": 70.0,\n        \"num_unique_values\": 33,\n        \"samples\": [\n          38.0,\n          8.0\n        ],\n        \"semantic_type\": \"\",\n        \"description\": \"\"\n      }\n    },\n    {\n      \"column\": \"BPMeds\",\n      \"properties\": {\n        \"dtype\": \"number\",\n        \"std\": 0.16947908596200822,\n        \"min\": 0.0,\n        \"max\": 1.0,\n        \"num_unique_values\": 2,\n        \"samples\": [\n          1.0,\n          0.0\n        ],\n        \"semantic_type\": \"\",\n        \"description\": \"\"\n      }\n    },\n    {\n      \"column\": \"prevalentStroke\",\n      \"properties\": {\n        \"dtype\": \"number\",\n        \"std\": 0,\n        \"min\": 0,\n        \"max\": 1,\n        \"num_unique_values\": 2,\n        \"samples\": [\n          1,\n          0\n        ],\n        \"semantic_type\": \"\",\n        \"description\": \"\"\n      }\n    },\n    {\n      \"column\": \"prevalentHyp\",\n      \"properties\": {\n        \"dtype\": \"number\",\n        \"std\": 0,\n        \"min\": 0,\n        \"max\": 1,\n        \"num_unique_values\": 2,\n        \"samples\": [\n          1,\n          0\n        ],\n        \"semantic_type\": \"\",\n        \"description\": \"\"\n      }\n    },\n    {\n      \"column\": \"diabetes\",\n      \"properties\": {\n        \"dtype\": \"number\",\n        \"std\": 0,\n        \"min\": 0,\n        \"max\": 1,\n        \"num_unique_values\": 2,\n        \"samples\": [\n          1,\n          0\n        ],\n        \"semantic_type\": \"\",\n        \"description\": \"\"\n      }\n    },\n    {\n      \"column\": \"totChol\",\n      \"properties\": {\n        \"dtype\": \"number\",\n        \"std\": 44.847410643806406,\n        \"min\": 107.0,\n        \"max\": 696.0,\n        \"num_unique_values\": 243,\n        \"samples\": [\n          180.0,\n          237.0\n        ],\n        \"semantic_type\": \"\",\n        \"description\": \"\"\n      }\n    },\n    {\n      \"column\": \"sysBP\",\n      \"properties\": {\n        \"dtype\": \"number\",\n        \"std\": 22.433266948078337,\n        \"min\": 83.5,\n        \"max\": 295.0,\n        \"num_unique_values\": 229,\n        \"samples\": [\n          181.5,\n          174.0\n        ],\n        \"semantic_type\": \"\",\n        \"description\": \"\"\n      }\n    },\n    {\n      \"column\": \"diaBP\",\n      \"properties\": {\n        \"dtype\": \"number\",\n        \"std\": 12.009212492738772,\n        \"min\": 50.0,\n        \"max\": 142.5,\n        \"num_unique_values\": 139,\n        \"samples\": [\n          142.5,\n          70.5\n        ],\n        \"semantic_type\": \"\",\n        \"description\": \"\"\n      }\n    },\n    {\n      \"column\": \"BMI\",\n      \"properties\": {\n        \"dtype\": \"number\",\n        \"std\": 4.130474751655827,\n        \"min\": 15.54,\n        \"max\": 56.8,\n        \"num_unique_values\": 1234,\n        \"samples\": [\n          26.87,\n          29.18\n        ],\n        \"semantic_type\": \"\",\n        \"description\": \"\"\n      }\n    },\n    {\n      \"column\": \"heartRate\",\n      \"properties\": {\n        \"dtype\": \"number\",\n        \"std\": 12,\n        \"min\": 44,\n        \"max\": 140,\n        \"num_unique_values\": 70,\n        \"samples\": [\n          69,\n          75\n        ],\n        \"semantic_type\": \"\",\n        \"description\": \"\"\n      }\n    },\n    {\n      \"column\": \"glucose\",\n      \"properties\": {\n        \"dtype\": \"number\",\n        \"std\": 23.625356737313467,\n        \"min\": 40.0,\n        \"max\": 394.0,\n        \"num_unique_values\": 130,\n        \"samples\": [\n          118.0,\n          88.0\n        ],\n        \"semantic_type\": \"\",\n        \"description\": \"\"\n      }\n    },\n    {\n      \"column\": \"TenYearCHD\",\n      \"properties\": {\n        \"dtype\": \"number\",\n        \"std\": 0,\n        \"min\": 0,\n        \"max\": 1,\n        \"num_unique_values\": 2,\n        \"samples\": [\n          0,\n          1\n        ],\n        \"semantic_type\": \"\",\n        \"description\": \"\"\n      }\n    }\n  ]\n}",
              "type": "dataframe",
              "variable_name": "data"
            },
            "text/html": [
              "\n",
              "  <div id=\"df-7779a51d-da5f-4616-ba9c-a462dcf58000\" class=\"colab-df-container\">\n",
              "    <div>\n",
              "<style scoped>\n",
              "    .dataframe tbody tr th:only-of-type {\n",
              "        vertical-align: middle;\n",
              "    }\n",
              "\n",
              "    .dataframe tbody tr th {\n",
              "        vertical-align: top;\n",
              "    }\n",
              "\n",
              "    .dataframe thead th {\n",
              "        text-align: right;\n",
              "    }\n",
              "</style>\n",
              "<table border=\"1\" class=\"dataframe\">\n",
              "  <thead>\n",
              "    <tr style=\"text-align: right;\">\n",
              "      <th></th>\n",
              "      <th>sex</th>\n",
              "      <th>age</th>\n",
              "      <th>education</th>\n",
              "      <th>currentSmoker</th>\n",
              "      <th>cigsPerDay</th>\n",
              "      <th>BPMeds</th>\n",
              "      <th>prevalentStroke</th>\n",
              "      <th>prevalentHyp</th>\n",
              "      <th>diabetes</th>\n",
              "      <th>totChol</th>\n",
              "      <th>sysBP</th>\n",
              "      <th>diaBP</th>\n",
              "      <th>BMI</th>\n",
              "      <th>heartRate</th>\n",
              "      <th>glucose</th>\n",
              "      <th>TenYearCHD</th>\n",
              "    </tr>\n",
              "  </thead>\n",
              "  <tbody>\n",
              "    <tr>\n",
              "      <th>0</th>\n",
              "      <td>1</td>\n",
              "      <td>58</td>\n",
              "      <td>1.0</td>\n",
              "      <td>0</td>\n",
              "      <td>0.0</td>\n",
              "      <td>0.0</td>\n",
              "      <td>0</td>\n",
              "      <td>0</td>\n",
              "      <td>0</td>\n",
              "      <td>220.0</td>\n",
              "      <td>143.0</td>\n",
              "      <td>104.0</td>\n",
              "      <td>29.85</td>\n",
              "      <td>75</td>\n",
              "      <td>87.0</td>\n",
              "      <td>1</td>\n",
              "    </tr>\n",
              "    <tr>\n",
              "      <th>1</th>\n",
              "      <td>0</td>\n",
              "      <td>40</td>\n",
              "      <td>1.0</td>\n",
              "      <td>1</td>\n",
              "      <td>15.0</td>\n",
              "      <td>0.0</td>\n",
              "      <td>0</td>\n",
              "      <td>0</td>\n",
              "      <td>0</td>\n",
              "      <td>199.0</td>\n",
              "      <td>122.0</td>\n",
              "      <td>82.0</td>\n",
              "      <td>22.16</td>\n",
              "      <td>85</td>\n",
              "      <td>77.0</td>\n",
              "      <td>0</td>\n",
              "    </tr>\n",
              "    <tr>\n",
              "      <th>2</th>\n",
              "      <td>0</td>\n",
              "      <td>52</td>\n",
              "      <td>1.0</td>\n",
              "      <td>0</td>\n",
              "      <td>0.0</td>\n",
              "      <td>0.0</td>\n",
              "      <td>0</td>\n",
              "      <td>0</td>\n",
              "      <td>0</td>\n",
              "      <td>275.0</td>\n",
              "      <td>112.0</td>\n",
              "      <td>71.0</td>\n",
              "      <td>25.68</td>\n",
              "      <td>80</td>\n",
              "      <td>NaN</td>\n",
              "      <td>0</td>\n",
              "    </tr>\n",
              "    <tr>\n",
              "      <th>3</th>\n",
              "      <td>1</td>\n",
              "      <td>38</td>\n",
              "      <td>2.0</td>\n",
              "      <td>1</td>\n",
              "      <td>43.0</td>\n",
              "      <td>0.0</td>\n",
              "      <td>0</td>\n",
              "      <td>1</td>\n",
              "      <td>0</td>\n",
              "      <td>170.0</td>\n",
              "      <td>130.0</td>\n",
              "      <td>94.0</td>\n",
              "      <td>23.90</td>\n",
              "      <td>110</td>\n",
              "      <td>75.0</td>\n",
              "      <td>0</td>\n",
              "    </tr>\n",
              "    <tr>\n",
              "      <th>4</th>\n",
              "      <td>0</td>\n",
              "      <td>43</td>\n",
              "      <td>1.0</td>\n",
              "      <td>0</td>\n",
              "      <td>0.0</td>\n",
              "      <td>0.0</td>\n",
              "      <td>0</td>\n",
              "      <td>0</td>\n",
              "      <td>0</td>\n",
              "      <td>202.0</td>\n",
              "      <td>124.0</td>\n",
              "      <td>92.0</td>\n",
              "      <td>21.26</td>\n",
              "      <td>75</td>\n",
              "      <td>74.0</td>\n",
              "      <td>0</td>\n",
              "    </tr>\n",
              "  </tbody>\n",
              "</table>\n",
              "</div>\n",
              "    <div class=\"colab-df-buttons\">\n",
              "\n",
              "  <div class=\"colab-df-container\">\n",
              "    <button class=\"colab-df-convert\" onclick=\"convertToInteractive('df-7779a51d-da5f-4616-ba9c-a462dcf58000')\"\n",
              "            title=\"Convert this dataframe to an interactive table.\"\n",
              "            style=\"display:none;\">\n",
              "\n",
              "  <svg xmlns=\"http://www.w3.org/2000/svg\" height=\"24px\" viewBox=\"0 -960 960 960\">\n",
              "    <path d=\"M120-120v-720h720v720H120Zm60-500h600v-160H180v160Zm220 220h160v-160H400v160Zm0 220h160v-160H400v160ZM180-400h160v-160H180v160Zm440 0h160v-160H620v160ZM180-180h160v-160H180v160Zm440 0h160v-160H620v160Z\"/>\n",
              "  </svg>\n",
              "    </button>\n",
              "\n",
              "  <style>\n",
              "    .colab-df-container {\n",
              "      display:flex;\n",
              "      gap: 12px;\n",
              "    }\n",
              "\n",
              "    .colab-df-convert {\n",
              "      background-color: #E8F0FE;\n",
              "      border: none;\n",
              "      border-radius: 50%;\n",
              "      cursor: pointer;\n",
              "      display: none;\n",
              "      fill: #1967D2;\n",
              "      height: 32px;\n",
              "      padding: 0 0 0 0;\n",
              "      width: 32px;\n",
              "    }\n",
              "\n",
              "    .colab-df-convert:hover {\n",
              "      background-color: #E2EBFA;\n",
              "      box-shadow: 0px 1px 2px rgba(60, 64, 67, 0.3), 0px 1px 3px 1px rgba(60, 64, 67, 0.15);\n",
              "      fill: #174EA6;\n",
              "    }\n",
              "\n",
              "    .colab-df-buttons div {\n",
              "      margin-bottom: 4px;\n",
              "    }\n",
              "\n",
              "    [theme=dark] .colab-df-convert {\n",
              "      background-color: #3B4455;\n",
              "      fill: #D2E3FC;\n",
              "    }\n",
              "\n",
              "    [theme=dark] .colab-df-convert:hover {\n",
              "      background-color: #434B5C;\n",
              "      box-shadow: 0px 1px 3px 1px rgba(0, 0, 0, 0.15);\n",
              "      filter: drop-shadow(0px 1px 2px rgba(0, 0, 0, 0.3));\n",
              "      fill: #FFFFFF;\n",
              "    }\n",
              "  </style>\n",
              "\n",
              "    <script>\n",
              "      const buttonEl =\n",
              "        document.querySelector('#df-7779a51d-da5f-4616-ba9c-a462dcf58000 button.colab-df-convert');\n",
              "      buttonEl.style.display =\n",
              "        google.colab.kernel.accessAllowed ? 'block' : 'none';\n",
              "\n",
              "      async function convertToInteractive(key) {\n",
              "        const element = document.querySelector('#df-7779a51d-da5f-4616-ba9c-a462dcf58000');\n",
              "        const dataTable =\n",
              "          await google.colab.kernel.invokeFunction('convertToInteractive',\n",
              "                                                    [key], {});\n",
              "        if (!dataTable) return;\n",
              "\n",
              "        const docLinkHtml = 'Like what you see? Visit the ' +\n",
              "          '<a target=\"_blank\" href=https://colab.research.google.com/notebooks/data_table.ipynb>data table notebook</a>'\n",
              "          + ' to learn more about interactive tables.';\n",
              "        element.innerHTML = '';\n",
              "        dataTable['output_type'] = 'display_data';\n",
              "        await google.colab.output.renderOutput(dataTable, element);\n",
              "        const docLink = document.createElement('div');\n",
              "        docLink.innerHTML = docLinkHtml;\n",
              "        element.appendChild(docLink);\n",
              "      }\n",
              "    </script>\n",
              "  </div>\n",
              "\n",
              "\n",
              "<div id=\"df-05e824da-0a00-4da0-8bc9-1d38b443c834\">\n",
              "  <button class=\"colab-df-quickchart\" onclick=\"quickchart('df-05e824da-0a00-4da0-8bc9-1d38b443c834')\"\n",
              "            title=\"Suggest charts\"\n",
              "            style=\"display:none;\">\n",
              "\n",
              "<svg xmlns=\"http://www.w3.org/2000/svg\" height=\"24px\"viewBox=\"0 0 24 24\"\n",
              "     width=\"24px\">\n",
              "    <g>\n",
              "        <path d=\"M19 3H5c-1.1 0-2 .9-2 2v14c0 1.1.9 2 2 2h14c1.1 0 2-.9 2-2V5c0-1.1-.9-2-2-2zM9 17H7v-7h2v7zm4 0h-2V7h2v10zm4 0h-2v-4h2v4z\"/>\n",
              "    </g>\n",
              "</svg>\n",
              "  </button>\n",
              "\n",
              "<style>\n",
              "  .colab-df-quickchart {\n",
              "      --bg-color: #E8F0FE;\n",
              "      --fill-color: #1967D2;\n",
              "      --hover-bg-color: #E2EBFA;\n",
              "      --hover-fill-color: #174EA6;\n",
              "      --disabled-fill-color: #AAA;\n",
              "      --disabled-bg-color: #DDD;\n",
              "  }\n",
              "\n",
              "  [theme=dark] .colab-df-quickchart {\n",
              "      --bg-color: #3B4455;\n",
              "      --fill-color: #D2E3FC;\n",
              "      --hover-bg-color: #434B5C;\n",
              "      --hover-fill-color: #FFFFFF;\n",
              "      --disabled-bg-color: #3B4455;\n",
              "      --disabled-fill-color: #666;\n",
              "  }\n",
              "\n",
              "  .colab-df-quickchart {\n",
              "    background-color: var(--bg-color);\n",
              "    border: none;\n",
              "    border-radius: 50%;\n",
              "    cursor: pointer;\n",
              "    display: none;\n",
              "    fill: var(--fill-color);\n",
              "    height: 32px;\n",
              "    padding: 0;\n",
              "    width: 32px;\n",
              "  }\n",
              "\n",
              "  .colab-df-quickchart:hover {\n",
              "    background-color: var(--hover-bg-color);\n",
              "    box-shadow: 0 1px 2px rgba(60, 64, 67, 0.3), 0 1px 3px 1px rgba(60, 64, 67, 0.15);\n",
              "    fill: var(--button-hover-fill-color);\n",
              "  }\n",
              "\n",
              "  .colab-df-quickchart-complete:disabled,\n",
              "  .colab-df-quickchart-complete:disabled:hover {\n",
              "    background-color: var(--disabled-bg-color);\n",
              "    fill: var(--disabled-fill-color);\n",
              "    box-shadow: none;\n",
              "  }\n",
              "\n",
              "  .colab-df-spinner {\n",
              "    border: 2px solid var(--fill-color);\n",
              "    border-color: transparent;\n",
              "    border-bottom-color: var(--fill-color);\n",
              "    animation:\n",
              "      spin 1s steps(1) infinite;\n",
              "  }\n",
              "\n",
              "  @keyframes spin {\n",
              "    0% {\n",
              "      border-color: transparent;\n",
              "      border-bottom-color: var(--fill-color);\n",
              "      border-left-color: var(--fill-color);\n",
              "    }\n",
              "    20% {\n",
              "      border-color: transparent;\n",
              "      border-left-color: var(--fill-color);\n",
              "      border-top-color: var(--fill-color);\n",
              "    }\n",
              "    30% {\n",
              "      border-color: transparent;\n",
              "      border-left-color: var(--fill-color);\n",
              "      border-top-color: var(--fill-color);\n",
              "      border-right-color: var(--fill-color);\n",
              "    }\n",
              "    40% {\n",
              "      border-color: transparent;\n",
              "      border-right-color: var(--fill-color);\n",
              "      border-top-color: var(--fill-color);\n",
              "    }\n",
              "    60% {\n",
              "      border-color: transparent;\n",
              "      border-right-color: var(--fill-color);\n",
              "    }\n",
              "    80% {\n",
              "      border-color: transparent;\n",
              "      border-right-color: var(--fill-color);\n",
              "      border-bottom-color: var(--fill-color);\n",
              "    }\n",
              "    90% {\n",
              "      border-color: transparent;\n",
              "      border-bottom-color: var(--fill-color);\n",
              "    }\n",
              "  }\n",
              "</style>\n",
              "\n",
              "  <script>\n",
              "    async function quickchart(key) {\n",
              "      const quickchartButtonEl =\n",
              "        document.querySelector('#' + key + ' button');\n",
              "      quickchartButtonEl.disabled = true;  // To prevent multiple clicks.\n",
              "      quickchartButtonEl.classList.add('colab-df-spinner');\n",
              "      try {\n",
              "        const charts = await google.colab.kernel.invokeFunction(\n",
              "            'suggestCharts', [key], {});\n",
              "      } catch (error) {\n",
              "        console.error('Error during call to suggestCharts:', error);\n",
              "      }\n",
              "      quickchartButtonEl.classList.remove('colab-df-spinner');\n",
              "      quickchartButtonEl.classList.add('colab-df-quickchart-complete');\n",
              "    }\n",
              "    (() => {\n",
              "      let quickchartButtonEl =\n",
              "        document.querySelector('#df-05e824da-0a00-4da0-8bc9-1d38b443c834 button');\n",
              "      quickchartButtonEl.style.display =\n",
              "        google.colab.kernel.accessAllowed ? 'block' : 'none';\n",
              "    })();\n",
              "  </script>\n",
              "</div>\n",
              "\n",
              "    </div>\n",
              "  </div>\n"
            ],
            "text/plain": [
              "   sex  age  education  currentSmoker  cigsPerDay  BPMeds  prevalentStroke  \\\n",
              "0    1   58        1.0              0         0.0     0.0                0   \n",
              "1    0   40        1.0              1        15.0     0.0                0   \n",
              "2    0   52        1.0              0         0.0     0.0                0   \n",
              "3    1   38        2.0              1        43.0     0.0                0   \n",
              "4    0   43        1.0              0         0.0     0.0                0   \n",
              "\n",
              "   prevalentHyp  diabetes  totChol  sysBP  diaBP    BMI  heartRate  glucose  \\\n",
              "0             0         0    220.0  143.0  104.0  29.85         75     87.0   \n",
              "1             0         0    199.0  122.0   82.0  22.16         85     77.0   \n",
              "2             0         0    275.0  112.0   71.0  25.68         80      NaN   \n",
              "3             1         0    170.0  130.0   94.0  23.90        110     75.0   \n",
              "4             0         0    202.0  124.0   92.0  21.26         75     74.0   \n",
              "\n",
              "   TenYearCHD  \n",
              "0           1  \n",
              "1           0  \n",
              "2           0  \n",
              "3           0  \n",
              "4           0  "
            ]
          },
          "execution_count": 2,
          "metadata": {},
          "output_type": "execute_result"
        }
      ],
      "source": [
        "# Import dataset\n",
        "#! git clone https://github.com/DS3001/project_chd\n",
        "data = pd.read_csv('/content/project_chd/fhs_train.csv')\n",
        "data = data.drop(\"Unnamed: 0\", axis = 1)\n",
        "test_data = pd.read_csv('/content/project_chd/fhs_test.csv')\n",
        "test_data = test_data.drop(\"Unnamed: 0\", axis = 1)\n",
        "\n",
        "data.head()"
      ]
    },
    {
      "cell_type": "code",
      "execution_count": null,
      "metadata": {
        "colab": {
          "base_uri": "https://localhost:8080/",
          "height": 224
        },
        "id": "7A2hWc2HA20U",
        "outputId": "856eb1d8-8ab9-4ae5-9ecb-77c7690a4477"
      },
      "outputs": [
        {
          "data": {
            "application/vnd.google.colaboratory.intrinsic+json": {
              "summary": "{\n  \"name\": \"test_data\",\n  \"rows\": 1060,\n  \"fields\": [\n    {\n      \"column\": \"sex\",\n      \"properties\": {\n        \"dtype\": \"number\",\n        \"std\": 0,\n        \"min\": 0,\n        \"max\": 1,\n        \"num_unique_values\": 2,\n        \"samples\": [\n          1,\n          0\n        ],\n        \"semantic_type\": \"\",\n        \"description\": \"\"\n      }\n    },\n    {\n      \"column\": \"age\",\n      \"properties\": {\n        \"dtype\": \"number\",\n        \"std\": 8,\n        \"min\": 34,\n        \"max\": 69,\n        \"num_unique_values\": 36,\n        \"samples\": [\n          69,\n          47\n        ],\n        \"semantic_type\": \"\",\n        \"description\": \"\"\n      }\n    },\n    {\n      \"column\": \"education\",\n      \"properties\": {\n        \"dtype\": \"number\",\n        \"std\": 1.042773664643174,\n        \"min\": 1.0,\n        \"max\": 4.0,\n        \"num_unique_values\": 4,\n        \"samples\": [\n          3.0,\n          4.0\n        ],\n        \"semantic_type\": \"\",\n        \"description\": \"\"\n      }\n    },\n    {\n      \"column\": \"currentSmoker\",\n      \"properties\": {\n        \"dtype\": \"number\",\n        \"std\": 0,\n        \"min\": 0,\n        \"max\": 1,\n        \"num_unique_values\": 2,\n        \"samples\": [\n          0,\n          1\n        ],\n        \"semantic_type\": \"\",\n        \"description\": \"\"\n      }\n    },\n    {\n      \"column\": \"cigsPerDay\",\n      \"properties\": {\n        \"dtype\": \"number\",\n        \"std\": 11.650215278273134,\n        \"min\": 0.0,\n        \"max\": 60.0,\n        \"num_unique_values\": 27,\n        \"samples\": [\n          1.0,\n          43.0\n        ],\n        \"semantic_type\": \"\",\n        \"description\": \"\"\n      }\n    },\n    {\n      \"column\": \"BPMeds\",\n      \"properties\": {\n        \"dtype\": \"number\",\n        \"std\": 0.169821692953555,\n        \"min\": 0.0,\n        \"max\": 1.0,\n        \"num_unique_values\": 2,\n        \"samples\": [\n          1.0,\n          0.0\n        ],\n        \"semantic_type\": \"\",\n        \"description\": \"\"\n      }\n    },\n    {\n      \"column\": \"prevalentStroke\",\n      \"properties\": {\n        \"dtype\": \"number\",\n        \"std\": 0,\n        \"min\": 0,\n        \"max\": 1,\n        \"num_unique_values\": 2,\n        \"samples\": [\n          1,\n          0\n        ],\n        \"semantic_type\": \"\",\n        \"description\": \"\"\n      }\n    },\n    {\n      \"column\": \"prevalentHyp\",\n      \"properties\": {\n        \"dtype\": \"number\",\n        \"std\": 0,\n        \"min\": 0,\n        \"max\": 1,\n        \"num_unique_values\": 2,\n        \"samples\": [\n          1,\n          0\n        ],\n        \"semantic_type\": \"\",\n        \"description\": \"\"\n      }\n    },\n    {\n      \"column\": \"diabetes\",\n      \"properties\": {\n        \"dtype\": \"number\",\n        \"std\": 0,\n        \"min\": 0,\n        \"max\": 1,\n        \"num_unique_values\": 2,\n        \"samples\": [\n          1,\n          0\n        ],\n        \"semantic_type\": \"\",\n        \"description\": \"\"\n      }\n    },\n    {\n      \"column\": \"totChol\",\n      \"properties\": {\n        \"dtype\": \"number\",\n        \"std\": 43.83523296407875,\n        \"min\": 124.0,\n        \"max\": 453.0,\n        \"num_unique_values\": 196,\n        \"samples\": [\n          135.0,\n          195.0\n        ],\n        \"semantic_type\": \"\",\n        \"description\": \"\"\n      }\n    },\n    {\n      \"column\": \"sysBP\",\n      \"properties\": {\n        \"dtype\": \"number\",\n        \"std\": 20.74399096663064,\n        \"min\": 92.5,\n        \"max\": 215.0,\n        \"num_unique_values\": 167,\n        \"samples\": [\n          166.0,\n          124.5\n        ],\n        \"semantic_type\": \"\",\n        \"description\": \"\"\n      }\n    },\n    {\n      \"column\": \"diaBP\",\n      \"properties\": {\n        \"dtype\": \"number\",\n        \"std\": 11.58941470102808,\n        \"min\": 48.0,\n        \"max\": 140.0,\n        \"num_unique_values\": 117,\n        \"samples\": [\n          66.5,\n          80.0\n        ],\n        \"semantic_type\": \"\",\n        \"description\": \"\"\n      }\n    },\n    {\n      \"column\": \"BMI\",\n      \"properties\": {\n        \"dtype\": \"number\",\n        \"std\": 3.914417613932532,\n        \"min\": 15.96,\n        \"max\": 45.79,\n        \"num_unique_values\": 666,\n        \"samples\": [\n          24.9,\n          24.8\n        ],\n        \"semantic_type\": \"\",\n        \"description\": \"\"\n      }\n    },\n    {\n      \"column\": \"heartRate\",\n      \"properties\": {\n        \"dtype\": \"number\",\n        \"std\": 11.95315325767632,\n        \"min\": 45.0,\n        \"max\": 143.0,\n        \"num_unique_values\": 60,\n        \"samples\": [\n          78.0,\n          70.0\n        ],\n        \"semantic_type\": \"\",\n        \"description\": \"\"\n      }\n    },\n    {\n      \"column\": \"glucose\",\n      \"properties\": {\n        \"dtype\": \"number\",\n        \"std\": 24.931659322505936,\n        \"min\": 44.0,\n        \"max\": 394.0,\n        \"num_unique_values\": 90,\n        \"samples\": [\n          177.0,\n          143.0\n        ],\n        \"semantic_type\": \"\",\n        \"description\": \"\"\n      }\n    },\n    {\n      \"column\": \"TenYearCHD\",\n      \"properties\": {\n        \"dtype\": \"number\",\n        \"std\": 0,\n        \"min\": 0,\n        \"max\": 1,\n        \"num_unique_values\": 2,\n        \"samples\": [\n          1,\n          0\n        ],\n        \"semantic_type\": \"\",\n        \"description\": \"\"\n      }\n    }\n  ]\n}",
              "type": "dataframe",
              "variable_name": "test_data"
            },
            "text/html": [
              "\n",
              "  <div id=\"df-67272379-0458-4bec-8789-4ca9ab4e2efd\" class=\"colab-df-container\">\n",
              "    <div>\n",
              "<style scoped>\n",
              "    .dataframe tbody tr th:only-of-type {\n",
              "        vertical-align: middle;\n",
              "    }\n",
              "\n",
              "    .dataframe tbody tr th {\n",
              "        vertical-align: top;\n",
              "    }\n",
              "\n",
              "    .dataframe thead th {\n",
              "        text-align: right;\n",
              "    }\n",
              "</style>\n",
              "<table border=\"1\" class=\"dataframe\">\n",
              "  <thead>\n",
              "    <tr style=\"text-align: right;\">\n",
              "      <th></th>\n",
              "      <th>sex</th>\n",
              "      <th>age</th>\n",
              "      <th>education</th>\n",
              "      <th>currentSmoker</th>\n",
              "      <th>cigsPerDay</th>\n",
              "      <th>BPMeds</th>\n",
              "      <th>prevalentStroke</th>\n",
              "      <th>prevalentHyp</th>\n",
              "      <th>diabetes</th>\n",
              "      <th>totChol</th>\n",
              "      <th>sysBP</th>\n",
              "      <th>diaBP</th>\n",
              "      <th>BMI</th>\n",
              "      <th>heartRate</th>\n",
              "      <th>glucose</th>\n",
              "      <th>TenYearCHD</th>\n",
              "    </tr>\n",
              "  </thead>\n",
              "  <tbody>\n",
              "    <tr>\n",
              "      <th>0</th>\n",
              "      <td>0</td>\n",
              "      <td>58</td>\n",
              "      <td>1.0</td>\n",
              "      <td>1</td>\n",
              "      <td>20.0</td>\n",
              "      <td>0.0</td>\n",
              "      <td>0</td>\n",
              "      <td>0</td>\n",
              "      <td>0</td>\n",
              "      <td>NaN</td>\n",
              "      <td>126.0</td>\n",
              "      <td>77.0</td>\n",
              "      <td>30.08</td>\n",
              "      <td>78.0</td>\n",
              "      <td>NaN</td>\n",
              "      <td>0</td>\n",
              "    </tr>\n",
              "    <tr>\n",
              "      <th>1</th>\n",
              "      <td>0</td>\n",
              "      <td>51</td>\n",
              "      <td>3.0</td>\n",
              "      <td>0</td>\n",
              "      <td>0.0</td>\n",
              "      <td>0.0</td>\n",
              "      <td>0</td>\n",
              "      <td>0</td>\n",
              "      <td>0</td>\n",
              "      <td>264.0</td>\n",
              "      <td>135.0</td>\n",
              "      <td>83.0</td>\n",
              "      <td>26.68</td>\n",
              "      <td>60.0</td>\n",
              "      <td>74.0</td>\n",
              "      <td>0</td>\n",
              "    </tr>\n",
              "    <tr>\n",
              "      <th>2</th>\n",
              "      <td>0</td>\n",
              "      <td>44</td>\n",
              "      <td>2.0</td>\n",
              "      <td>1</td>\n",
              "      <td>9.0</td>\n",
              "      <td>0.0</td>\n",
              "      <td>0</td>\n",
              "      <td>1</td>\n",
              "      <td>0</td>\n",
              "      <td>NaN</td>\n",
              "      <td>147.5</td>\n",
              "      <td>96.0</td>\n",
              "      <td>30.57</td>\n",
              "      <td>78.0</td>\n",
              "      <td>NaN</td>\n",
              "      <td>1</td>\n",
              "    </tr>\n",
              "    <tr>\n",
              "      <th>3</th>\n",
              "      <td>0</td>\n",
              "      <td>40</td>\n",
              "      <td>2.0</td>\n",
              "      <td>1</td>\n",
              "      <td>20.0</td>\n",
              "      <td>0.0</td>\n",
              "      <td>0</td>\n",
              "      <td>0</td>\n",
              "      <td>0</td>\n",
              "      <td>271.0</td>\n",
              "      <td>138.5</td>\n",
              "      <td>88.0</td>\n",
              "      <td>27.24</td>\n",
              "      <td>80.0</td>\n",
              "      <td>NaN</td>\n",
              "      <td>1</td>\n",
              "    </tr>\n",
              "    <tr>\n",
              "      <th>4</th>\n",
              "      <td>1</td>\n",
              "      <td>58</td>\n",
              "      <td>2.0</td>\n",
              "      <td>1</td>\n",
              "      <td>20.0</td>\n",
              "      <td>0.0</td>\n",
              "      <td>0</td>\n",
              "      <td>0</td>\n",
              "      <td>0</td>\n",
              "      <td>207.0</td>\n",
              "      <td>110.0</td>\n",
              "      <td>80.0</td>\n",
              "      <td>23.55</td>\n",
              "      <td>78.0</td>\n",
              "      <td>78.0</td>\n",
              "      <td>0</td>\n",
              "    </tr>\n",
              "  </tbody>\n",
              "</table>\n",
              "</div>\n",
              "    <div class=\"colab-df-buttons\">\n",
              "\n",
              "  <div class=\"colab-df-container\">\n",
              "    <button class=\"colab-df-convert\" onclick=\"convertToInteractive('df-67272379-0458-4bec-8789-4ca9ab4e2efd')\"\n",
              "            title=\"Convert this dataframe to an interactive table.\"\n",
              "            style=\"display:none;\">\n",
              "\n",
              "  <svg xmlns=\"http://www.w3.org/2000/svg\" height=\"24px\" viewBox=\"0 -960 960 960\">\n",
              "    <path d=\"M120-120v-720h720v720H120Zm60-500h600v-160H180v160Zm220 220h160v-160H400v160Zm0 220h160v-160H400v160ZM180-400h160v-160H180v160Zm440 0h160v-160H620v160ZM180-180h160v-160H180v160Zm440 0h160v-160H620v160Z\"/>\n",
              "  </svg>\n",
              "    </button>\n",
              "\n",
              "  <style>\n",
              "    .colab-df-container {\n",
              "      display:flex;\n",
              "      gap: 12px;\n",
              "    }\n",
              "\n",
              "    .colab-df-convert {\n",
              "      background-color: #E8F0FE;\n",
              "      border: none;\n",
              "      border-radius: 50%;\n",
              "      cursor: pointer;\n",
              "      display: none;\n",
              "      fill: #1967D2;\n",
              "      height: 32px;\n",
              "      padding: 0 0 0 0;\n",
              "      width: 32px;\n",
              "    }\n",
              "\n",
              "    .colab-df-convert:hover {\n",
              "      background-color: #E2EBFA;\n",
              "      box-shadow: 0px 1px 2px rgba(60, 64, 67, 0.3), 0px 1px 3px 1px rgba(60, 64, 67, 0.15);\n",
              "      fill: #174EA6;\n",
              "    }\n",
              "\n",
              "    .colab-df-buttons div {\n",
              "      margin-bottom: 4px;\n",
              "    }\n",
              "\n",
              "    [theme=dark] .colab-df-convert {\n",
              "      background-color: #3B4455;\n",
              "      fill: #D2E3FC;\n",
              "    }\n",
              "\n",
              "    [theme=dark] .colab-df-convert:hover {\n",
              "      background-color: #434B5C;\n",
              "      box-shadow: 0px 1px 3px 1px rgba(0, 0, 0, 0.15);\n",
              "      filter: drop-shadow(0px 1px 2px rgba(0, 0, 0, 0.3));\n",
              "      fill: #FFFFFF;\n",
              "    }\n",
              "  </style>\n",
              "\n",
              "    <script>\n",
              "      const buttonEl =\n",
              "        document.querySelector('#df-67272379-0458-4bec-8789-4ca9ab4e2efd button.colab-df-convert');\n",
              "      buttonEl.style.display =\n",
              "        google.colab.kernel.accessAllowed ? 'block' : 'none';\n",
              "\n",
              "      async function convertToInteractive(key) {\n",
              "        const element = document.querySelector('#df-67272379-0458-4bec-8789-4ca9ab4e2efd');\n",
              "        const dataTable =\n",
              "          await google.colab.kernel.invokeFunction('convertToInteractive',\n",
              "                                                    [key], {});\n",
              "        if (!dataTable) return;\n",
              "\n",
              "        const docLinkHtml = 'Like what you see? Visit the ' +\n",
              "          '<a target=\"_blank\" href=https://colab.research.google.com/notebooks/data_table.ipynb>data table notebook</a>'\n",
              "          + ' to learn more about interactive tables.';\n",
              "        element.innerHTML = '';\n",
              "        dataTable['output_type'] = 'display_data';\n",
              "        await google.colab.output.renderOutput(dataTable, element);\n",
              "        const docLink = document.createElement('div');\n",
              "        docLink.innerHTML = docLinkHtml;\n",
              "        element.appendChild(docLink);\n",
              "      }\n",
              "    </script>\n",
              "  </div>\n",
              "\n",
              "\n",
              "<div id=\"df-e885ef37-5803-4bd8-b523-68e492e37b85\">\n",
              "  <button class=\"colab-df-quickchart\" onclick=\"quickchart('df-e885ef37-5803-4bd8-b523-68e492e37b85')\"\n",
              "            title=\"Suggest charts\"\n",
              "            style=\"display:none;\">\n",
              "\n",
              "<svg xmlns=\"http://www.w3.org/2000/svg\" height=\"24px\"viewBox=\"0 0 24 24\"\n",
              "     width=\"24px\">\n",
              "    <g>\n",
              "        <path d=\"M19 3H5c-1.1 0-2 .9-2 2v14c0 1.1.9 2 2 2h14c1.1 0 2-.9 2-2V5c0-1.1-.9-2-2-2zM9 17H7v-7h2v7zm4 0h-2V7h2v10zm4 0h-2v-4h2v4z\"/>\n",
              "    </g>\n",
              "</svg>\n",
              "  </button>\n",
              "\n",
              "<style>\n",
              "  .colab-df-quickchart {\n",
              "      --bg-color: #E8F0FE;\n",
              "      --fill-color: #1967D2;\n",
              "      --hover-bg-color: #E2EBFA;\n",
              "      --hover-fill-color: #174EA6;\n",
              "      --disabled-fill-color: #AAA;\n",
              "      --disabled-bg-color: #DDD;\n",
              "  }\n",
              "\n",
              "  [theme=dark] .colab-df-quickchart {\n",
              "      --bg-color: #3B4455;\n",
              "      --fill-color: #D2E3FC;\n",
              "      --hover-bg-color: #434B5C;\n",
              "      --hover-fill-color: #FFFFFF;\n",
              "      --disabled-bg-color: #3B4455;\n",
              "      --disabled-fill-color: #666;\n",
              "  }\n",
              "\n",
              "  .colab-df-quickchart {\n",
              "    background-color: var(--bg-color);\n",
              "    border: none;\n",
              "    border-radius: 50%;\n",
              "    cursor: pointer;\n",
              "    display: none;\n",
              "    fill: var(--fill-color);\n",
              "    height: 32px;\n",
              "    padding: 0;\n",
              "    width: 32px;\n",
              "  }\n",
              "\n",
              "  .colab-df-quickchart:hover {\n",
              "    background-color: var(--hover-bg-color);\n",
              "    box-shadow: 0 1px 2px rgba(60, 64, 67, 0.3), 0 1px 3px 1px rgba(60, 64, 67, 0.15);\n",
              "    fill: var(--button-hover-fill-color);\n",
              "  }\n",
              "\n",
              "  .colab-df-quickchart-complete:disabled,\n",
              "  .colab-df-quickchart-complete:disabled:hover {\n",
              "    background-color: var(--disabled-bg-color);\n",
              "    fill: var(--disabled-fill-color);\n",
              "    box-shadow: none;\n",
              "  }\n",
              "\n",
              "  .colab-df-spinner {\n",
              "    border: 2px solid var(--fill-color);\n",
              "    border-color: transparent;\n",
              "    border-bottom-color: var(--fill-color);\n",
              "    animation:\n",
              "      spin 1s steps(1) infinite;\n",
              "  }\n",
              "\n",
              "  @keyframes spin {\n",
              "    0% {\n",
              "      border-color: transparent;\n",
              "      border-bottom-color: var(--fill-color);\n",
              "      border-left-color: var(--fill-color);\n",
              "    }\n",
              "    20% {\n",
              "      border-color: transparent;\n",
              "      border-left-color: var(--fill-color);\n",
              "      border-top-color: var(--fill-color);\n",
              "    }\n",
              "    30% {\n",
              "      border-color: transparent;\n",
              "      border-left-color: var(--fill-color);\n",
              "      border-top-color: var(--fill-color);\n",
              "      border-right-color: var(--fill-color);\n",
              "    }\n",
              "    40% {\n",
              "      border-color: transparent;\n",
              "      border-right-color: var(--fill-color);\n",
              "      border-top-color: var(--fill-color);\n",
              "    }\n",
              "    60% {\n",
              "      border-color: transparent;\n",
              "      border-right-color: var(--fill-color);\n",
              "    }\n",
              "    80% {\n",
              "      border-color: transparent;\n",
              "      border-right-color: var(--fill-color);\n",
              "      border-bottom-color: var(--fill-color);\n",
              "    }\n",
              "    90% {\n",
              "      border-color: transparent;\n",
              "      border-bottom-color: var(--fill-color);\n",
              "    }\n",
              "  }\n",
              "</style>\n",
              "\n",
              "  <script>\n",
              "    async function quickchart(key) {\n",
              "      const quickchartButtonEl =\n",
              "        document.querySelector('#' + key + ' button');\n",
              "      quickchartButtonEl.disabled = true;  // To prevent multiple clicks.\n",
              "      quickchartButtonEl.classList.add('colab-df-spinner');\n",
              "      try {\n",
              "        const charts = await google.colab.kernel.invokeFunction(\n",
              "            'suggestCharts', [key], {});\n",
              "      } catch (error) {\n",
              "        console.error('Error during call to suggestCharts:', error);\n",
              "      }\n",
              "      quickchartButtonEl.classList.remove('colab-df-spinner');\n",
              "      quickchartButtonEl.classList.add('colab-df-quickchart-complete');\n",
              "    }\n",
              "    (() => {\n",
              "      let quickchartButtonEl =\n",
              "        document.querySelector('#df-e885ef37-5803-4bd8-b523-68e492e37b85 button');\n",
              "      quickchartButtonEl.style.display =\n",
              "        google.colab.kernel.accessAllowed ? 'block' : 'none';\n",
              "    })();\n",
              "  </script>\n",
              "</div>\n",
              "\n",
              "    </div>\n",
              "  </div>\n"
            ],
            "text/plain": [
              "   sex  age  education  currentSmoker  cigsPerDay  BPMeds  prevalentStroke  \\\n",
              "0    0   58        1.0              1        20.0     0.0                0   \n",
              "1    0   51        3.0              0         0.0     0.0                0   \n",
              "2    0   44        2.0              1         9.0     0.0                0   \n",
              "3    0   40        2.0              1        20.0     0.0                0   \n",
              "4    1   58        2.0              1        20.0     0.0                0   \n",
              "\n",
              "   prevalentHyp  diabetes  totChol  sysBP  diaBP    BMI  heartRate  glucose  \\\n",
              "0             0         0      NaN  126.0   77.0  30.08       78.0      NaN   \n",
              "1             0         0    264.0  135.0   83.0  26.68       60.0     74.0   \n",
              "2             1         0      NaN  147.5   96.0  30.57       78.0      NaN   \n",
              "3             0         0    271.0  138.5   88.0  27.24       80.0      NaN   \n",
              "4             0         0    207.0  110.0   80.0  23.55       78.0     78.0   \n",
              "\n",
              "   TenYearCHD  \n",
              "0           0  \n",
              "1           0  \n",
              "2           1  \n",
              "3           1  \n",
              "4           0  "
            ]
          },
          "execution_count": 3,
          "metadata": {},
          "output_type": "execute_result"
        }
      ],
      "source": [
        "test_data.head()"
      ]
    },
    {
      "cell_type": "code",
      "execution_count": null,
      "metadata": {
        "id": "lWaunsTZBIhB"
      },
      "outputs": [],
      "source": [
        "# Drop NAs\n",
        "data = data.dropna()\n",
        "test_data = test_data.dropna()"
      ]
    },
    {
      "cell_type": "code",
      "execution_count": null,
      "metadata": {
        "colab": {
          "base_uri": "https://localhost:8080/",
          "height": 1000
        },
        "id": "OXfrQw2EBJ-W",
        "outputId": "b5358eed-1621-4843-9ce2-82fd2c845463"
      },
      "outputs": [
        {
          "data": {
            "image/png": "[encoded data removed]",
            "text/plain": [
              "<Figure size 640x480 with 1 Axes>"
            ]
          },
          "metadata": {},
          "output_type": "display_data"
        },
        {
          "data": {
            "image/png": "[encoded data removed]",
            "text/plain": [
              "<Figure size 640x480 with 1 Axes>"
            ]
          },
          "metadata": {},
          "output_type": "display_data"
        }
      ],
      "source": [
        "# Look at outliers\n",
        "data.boxplot(rot = 90)\n",
        "plt.show()\n",
        "\n",
        "test_data.boxplot(rot = 90)\n",
        "plt.show()"
      ]
    },
    {
      "cell_type": "code",
      "execution_count": null,
      "metadata": {
        "id": "g0-jbVVlBLoV"
      },
      "outputs": [],
      "source": [
        "# Log transformation\n",
        "data['totChol_log'] = np.log(data['totChol'])\n",
        "data['sysBP_log'] = np.log(data['sysBP'])\n",
        "data['diaBP_log'] = np.log(data['diaBP'])\n",
        "data['BMI_log'] = np.log(data['BMI'])\n",
        "data['heartRate_log'] = np.log(data['heartRate'])\n",
        "data['glucose_log'] = np.log(data['glucose'])\n",
        "\n",
        "test_data['totChol_log'] = np.log(test_data['totChol'])\n",
        "test_data['sysBP_log'] = np.log(test_data['sysBP'])\n",
        "test_data['diaBP_log'] = np.log(test_data['diaBP'])\n",
        "test_data['BMI_log'] = np.log(test_data['BMI'])\n",
        "test_data['heartRate_log'] = np.log(test_data['heartRate'])\n",
        "test_data['glucose_log'] = np.log(test_data['glucose'])"
      ]
    },
    {
      "cell_type": "code",
      "execution_count": null,
      "metadata": {
        "colab": {
          "base_uri": "https://localhost:8080/",
          "height": 1000
        },
        "id": "URnwZAl5BNds",
        "outputId": "d0f2b37b-8e77-4494-ccc4-a0524746616e"
      },
      "outputs": [
        {
          "data": {
            "image/png": "[encoded data removed]",
            "text/plain": [
              "<Figure size 640x480 with 1 Axes>"
            ]
          },
          "metadata": {},
          "output_type": "display_data"
        },
        {
          "data": {
            "image/png": "[encoded data removed]",
            "text/plain": [
              "<Figure size 640x480 with 1 Axes>"
            ]
          },
          "metadata": {},
          "output_type": "display_data"
        }
      ],
      "source": [
        "# View boxplots again\n",
        "data.boxplot(rot = 90)\n",
        "plt.show()\n",
        "\n",
        "test_data.boxplot(rot = 90)\n",
        "plt.show()"
      ]
    },
    {
      "cell_type": "markdown",
      "metadata": {
        "id": "KB3fDGVMB725"
      },
      "source": [
        "### Decision Tree\n"
      ]
    },
    {
      "cell_type": "code",
      "execution_count": null,
      "metadata": {
        "id": "V_kBFHViBPBa"
      },
      "outputs": [],
      "source": [
        "# Decision Tree\n",
        "\n",
        "# Import packages and libraries\n",
        "from sklearn.tree import plot_tree\n",
        "from sklearn.tree import DecisionTreeRegressor\n",
        "from sklearn.model_selection import train_test_split\n",
        "\n",
        "# Process data\n",
        "y = data['TenYearCHD']\n",
        "X = data.drop(['TenYearCHD'], axis = 1)\n",
        "y_test = test_data['TenYearCHD']\n",
        "X_test = test_data.drop(['TenYearCHD'], axis = 1)\n",
        "\n",
        "# Fit tree\n",
        "tree = DecisionTreeRegressor()\n",
        "tree = tree.fit(X, y)\n",
        "\n",
        "# Make predictions on the test data\n",
        "y_hat = tree.predict(X_test)\n",
        "\n",
        "# Visualize results\n",
        "plot_tree(tree, filled = True)"
      ]
    },
    {
      "cell_type": "code",
      "execution_count": null,
      "metadata": {
        "colab": {
          "base_uri": "https://localhost:8080/"
        },
        "id": "oEkNhwrxBWbi",
        "outputId": "a756d644-9bae-4c6f-a903-05bbfcc2565b"
      },
      "outputs": [
        {
          "name": "stdout",
          "output_type": "stream",
          "text": [
            "-0.8466291789248763\n"
          ]
        }
      ],
      "source": [
        "# Statistics for above tree\n",
        "SSE = np.sum((y_test - y_hat) ** 2)\n",
        "TSS  =np.sum((y_test - np.mean(y)) ** 2)\n",
        "rsq = 1 - SSE/TSS\n",
        "print(rsq)"
      ]
    },
    {
      "cell_type": "markdown",
      "metadata": {
        "id": "ldKuYBIBBRRN"
      },
      "source": [
        "This tree is very overfitting and is probably making splits on very small distinctions among a few observations, so we can truncate it and limit depth."
      ]
    },
    {
      "cell_type": "markdown",
      "metadata": {
        "id": "1Wm_Qm7BCDjV"
      },
      "source": [
        "### Max Depth - 5"
      ]
    },
    {
      "cell_type": "code",
      "execution_count": null,
      "metadata": {
        "colab": {
          "base_uri": "https://localhost:8080/",
          "height": 1000
        },
        "id": "4ExJh0oiBZwH",
        "outputId": "0c49542c-07a7-4294-c23e-8b6fb937982d"
      },
      "outputs": [
        {
          "data": {
            "text/plain": [
              "[Text(0.5028409090909091, 0.9166666666666666, 'age <= 55.5\\nsquared_error = 0.131\\nsamples = 2744\\nvalue = 0.155'),\n",
              " Text(0.23863636363636365, 0.75, 'age <= 46.5\\nsquared_error = 0.096\\nsamples = 1988\\nvalue = 0.108'),\n",
              " Text(0.11363636363636363, 0.5833333333333334, 'totChol_log <= 5.988\\nsquared_error = 0.063\\nsamples = 1147\\nvalue = 0.068'),\n",
              " Text(0.09090909090909091, 0.4166666666666667, 'cigsPerDay <= 9.5\\nsquared_error = 0.062\\nsamples = 1145\\nvalue = 0.066'),\n",
              " Text(0.045454545454545456, 0.25, 'glucose_log <= 5.438\\nsquared_error = 0.034\\nsamples = 599\\nvalue = 0.035'),\n",
              " Text(0.022727272727272728, 0.08333333333333333, 'squared_error = 0.032\\nsamples = 598\\nvalue = 0.033'),\n",
              " Text(0.06818181818181818, 0.08333333333333333, 'squared_error = 0.0\\nsamples = 1\\nvalue = 1.0'),\n",
              " Text(0.13636363636363635, 0.25, 'diaBP <= 97.25\\nsquared_error = 0.091\\nsamples = 546\\nvalue = 0.101'),\n",
              " Text(0.11363636363636363, 0.08333333333333333, 'squared_error = 0.083\\nsamples = 515\\nvalue = 0.091'),\n",
              " Text(0.1590909090909091, 0.08333333333333333, 'squared_error = 0.191\\nsamples = 31\\nvalue = 0.258'),\n",
              " Text(0.13636363636363635, 0.4166666666666667, 'squared_error = 0.0\\nsamples = 2\\nvalue = 1.0'),\n",
              " Text(0.36363636363636365, 0.5833333333333334, 'sex <= 0.5\\nsquared_error = 0.136\\nsamples = 841\\nvalue = 0.162'),\n",
              " Text(0.2727272727272727, 0.4166666666666667, 'BMI <= 33.245\\nsquared_error = 0.097\\nsamples = 466\\nvalue = 0.109'),\n",
              " Text(0.22727272727272727, 0.25, 'totChol_log <= 5.872\\nsquared_error = 0.087\\nsamples = 444\\nvalue = 0.097'),\n",
              " Text(0.20454545454545456, 0.08333333333333333, 'squared_error = 0.083\\nsamples = 439\\nvalue = 0.091'),\n",
              " Text(0.25, 0.08333333333333333, 'squared_error = 0.24\\nsamples = 5\\nvalue = 0.6'),\n",
              " Text(0.3181818181818182, 0.25, 'totChol <= 189.5\\nsquared_error = 0.231\\nsamples = 22\\nvalue = 0.364'),\n",
              " Text(0.29545454545454547, 0.08333333333333333, 'squared_error = 0.0\\nsamples = 2\\nvalue = 1.0'),\n",
              " Text(0.3409090909090909, 0.08333333333333333, 'squared_error = 0.21\\nsamples = 20\\nvalue = 0.3'),\n",
              " Text(0.45454545454545453, 0.4166666666666667, 'diaBP_log <= 4.705\\nsquared_error = 0.175\\nsamples = 375\\nvalue = 0.227'),\n",
              " Text(0.4090909090909091, 0.25, 'sysBP_log <= 4.824\\nsquared_error = 0.167\\nsamples = 367\\nvalue = 0.213'),\n",
              " Text(0.38636363636363635, 0.08333333333333333, 'squared_error = 0.099\\nsamples = 134\\nvalue = 0.112'),\n",
              " Text(0.4318181818181818, 0.08333333333333333, 'squared_error = 0.197\\nsamples = 233\\nvalue = 0.27'),\n",
              " Text(0.5, 0.25, 'totChol_log <= 5.687\\nsquared_error = 0.109\\nsamples = 8\\nvalue = 0.875'),\n",
              " Text(0.4772727272727273, 0.08333333333333333, 'squared_error = 0.0\\nsamples = 7\\nvalue = 1.0'),\n",
              " Text(0.5227272727272727, 0.08333333333333333, 'squared_error = 0.0\\nsamples = 1\\nvalue = 0.0'),\n",
              " Text(0.7670454545454546, 0.75, 'sysBP_log <= 4.975\\nsquared_error = 0.201\\nsamples = 756\\nvalue = 0.278'),\n",
              " Text(0.6590909090909091, 0.5833333333333334, 'glucose <= 208.5\\nsquared_error = 0.164\\nsamples = 426\\nvalue = 0.207'),\n",
              " Text(0.6363636363636364, 0.4166666666666667, 'sex <= 0.5\\nsquared_error = 0.159\\nsamples = 422\\nvalue = 0.199'),\n",
              " Text(0.5909090909090909, 0.25, 'diaBP_log <= 4.27\\nsquared_error = 0.121\\nsamples = 205\\nvalue = 0.141'),\n",
              " Text(0.5681818181818182, 0.08333333333333333, 'squared_error = 0.211\\nsamples = 43\\nvalue = 0.302'),\n",
              " Text(0.6136363636363636, 0.08333333333333333, 'squared_error = 0.089\\nsamples = 162\\nvalue = 0.099'),\n",
              " Text(0.6818181818181818, 0.25, 'diaBP_log <= 4.593\\nsquared_error = 0.189\\nsamples = 217\\nvalue = 0.253'),\n",
              " Text(0.6590909090909091, 0.08333333333333333, 'squared_error = 0.186\\nsamples = 215\\nvalue = 0.247'),\n",
              " Text(0.7045454545454546, 0.08333333333333333, 'squared_error = 0.0\\nsamples = 2\\nvalue = 1.0'),\n",
              " Text(0.6818181818181818, 0.4166666666666667, 'squared_error = 0.0\\nsamples = 4\\nvalue = 1.0'),\n",
              " Text(0.875, 0.5833333333333334, 'cigsPerDay <= 21.5\\nsquared_error = 0.233\\nsamples = 330\\nvalue = 0.37'),\n",
              " Text(0.8181818181818182, 0.4166666666666667, 'glucose <= 93.5\\nsquared_error = 0.228\\nsamples = 314\\nvalue = 0.35'),\n",
              " Text(0.7727272727272727, 0.25, 'BMI <= 20.295\\nsquared_error = 0.215\\nsamples = 243\\nvalue = 0.313'),\n",
              " Text(0.75, 0.08333333333333333, 'squared_error = 0.188\\nsamples = 8\\nvalue = 0.75'),\n",
              " Text(0.7954545454545454, 0.08333333333333333, 'squared_error = 0.209\\nsamples = 235\\nvalue = 0.298'),\n",
              " Text(0.8636363636363636, 0.25, 'sex <= 0.5\\nsquared_error = 0.25\\nsamples = 71\\nvalue = 0.479'),\n",
              " Text(0.8409090909090909, 0.08333333333333333, 'squared_error = 0.233\\nsamples = 46\\nvalue = 0.37'),\n",
              " Text(0.8863636363636364, 0.08333333333333333, 'squared_error = 0.218\\nsamples = 25\\nvalue = 0.68'),\n",
              " Text(0.9318181818181818, 0.4166666666666667, 'glucose_log <= 4.268\\nsquared_error = 0.188\\nsamples = 16\\nvalue = 0.75'),\n",
              " Text(0.9090909090909091, 0.25, 'squared_error = 0.0\\nsamples = 3\\nvalue = 0.0'),\n",
              " Text(0.9545454545454546, 0.25, 'totChol <= 292.0\\nsquared_error = 0.071\\nsamples = 13\\nvalue = 0.923'),\n",
              " Text(0.9318181818181818, 0.08333333333333333, 'squared_error = 0.0\\nsamples = 12\\nvalue = 1.0'),\n",
              " Text(0.9772727272727273, 0.08333333333333333, 'squared_error = 0.0\\nsamples = 1\\nvalue = 0.0')]"
            ]
          },
          "execution_count": 10,
          "metadata": {},
          "output_type": "execute_result"
        },
        {
          "data": {
            "image/png": "[encoded data removed]",
            "text/plain": [
              "<Figure size 640x480 with 1 Axes>"
            ]
          },
          "metadata": {},
          "output_type": "display_data"
        }
      ],
      "source": [
        "# Another Decision Tree, but with a limited depth\n",
        "\n",
        "# Process data\n",
        "y = data['TenYearCHD']\n",
        "X = data.drop(['TenYearCHD'], axis = 1)\n",
        "y_test = test_data['TenYearCHD']\n",
        "X_test = test_data.drop(['TenYearCHD'], axis = 1)\n",
        "\n",
        "# Fit tree\n",
        "tree = DecisionTreeRegressor(max_depth = 5)\n",
        "tree = tree.fit(X, y)\n",
        "\n",
        "# Make predictions on the test data\n",
        "y_hat = tree.predict(X_test)\n",
        "\n",
        "# Visualize results\n",
        "plot_tree(tree, filled = True, feature_names = tree.feature_names_in_)"
      ]
    },
    {
      "cell_type": "code",
      "execution_count": null,
      "metadata": {
        "colab": {
          "base_uri": "https://localhost:8080/"
        },
        "id": "Tyhjgx4OBdP5",
        "outputId": "471b407f-9040-471f-bd28-f570934bb135"
      },
      "outputs": [
        {
          "name": "stdout",
          "output_type": "stream",
          "text": [
            "0.05216352012808434\n"
          ]
        }
      ],
      "source": [
        "# Statistics for above tree\n",
        "SSE = np.sum((y_test - y_hat) ** 2)\n",
        "TSS  =np.sum((y_test - np.mean(y)) ** 2)\n",
        "rsq = 1 - SSE/TSS\n",
        "print(rsq)"
      ]
    },
    {
      "cell_type": "markdown",
      "metadata": {
        "id": "iRGVujucCIvM"
      },
      "source": [
        "### Max Depth - 3"
      ]
    },
    {
      "cell_type": "code",
      "execution_count": null,
      "metadata": {
        "colab": {
          "base_uri": "https://localhost:8080/",
          "height": 780
        },
        "id": "7xlzfGn9BfZ9",
        "outputId": "46c818b8-14dd-4705-96d8-cb83f3e01c8a"
      },
      "outputs": [
        {
          "data": {
            "text/plain": [
              "[Text(0.5, 0.875, 'age <= 55.5\\nsquared_error = 0.131\\nsamples = 2744\\nvalue = 0.155'),\n",
              " Text(0.25, 0.625, 'age <= 46.5\\nsquared_error = 0.096\\nsamples = 1988\\nvalue = 0.108'),\n",
              " Text(0.125, 0.375, 'totChol <= 398.5\\nsquared_error = 0.063\\nsamples = 1147\\nvalue = 0.068'),\n",
              " Text(0.0625, 0.125, 'squared_error = 0.062\\nsamples = 1145\\nvalue = 0.066'),\n",
              " Text(0.1875, 0.125, 'squared_error = 0.0\\nsamples = 2\\nvalue = 1.0'),\n",
              " Text(0.375, 0.375, 'sex <= 0.5\\nsquared_error = 0.136\\nsamples = 841\\nvalue = 0.162'),\n",
              " Text(0.3125, 0.125, 'squared_error = 0.097\\nsamples = 466\\nvalue = 0.109'),\n",
              " Text(0.4375, 0.125, 'squared_error = 0.175\\nsamples = 375\\nvalue = 0.227'),\n",
              " Text(0.75, 0.625, 'sysBP <= 144.75\\nsquared_error = 0.201\\nsamples = 756\\nvalue = 0.278'),\n",
              " Text(0.625, 0.375, 'glucose_log <= 5.34\\nsquared_error = 0.164\\nsamples = 426\\nvalue = 0.207'),\n",
              " Text(0.5625, 0.125, 'squared_error = 0.159\\nsamples = 422\\nvalue = 0.199'),\n",
              " Text(0.6875, 0.125, 'squared_error = 0.0\\nsamples = 4\\nvalue = 1.0'),\n",
              " Text(0.875, 0.375, 'cigsPerDay <= 21.5\\nsquared_error = 0.233\\nsamples = 330\\nvalue = 0.37'),\n",
              " Text(0.8125, 0.125, 'squared_error = 0.228\\nsamples = 314\\nvalue = 0.35'),\n",
              " Text(0.9375, 0.125, 'squared_error = 0.188\\nsamples = 16\\nvalue = 0.75')]"
            ]
          },
          "execution_count": 12,
          "metadata": {},
          "output_type": "execute_result"
        },
        {
          "data": {
            "image/png": "[encoded data removed]",
            "text/plain": [
              "<Figure size 640x480 with 1 Axes>"
            ]
          },
          "metadata": {},
          "output_type": "display_data"
        }
      ],
      "source": [
        "# Let's try to make it even better!\n",
        "\n",
        "# Process data\n",
        "y = data['TenYearCHD']\n",
        "X = data.drop(['TenYearCHD'], axis = 1)\n",
        "y_test = test_data['TenYearCHD']\n",
        "X_test = test_data.drop(['TenYearCHD'], axis = 1)\n",
        "\n",
        "# Fit tree\n",
        "tree = DecisionTreeRegressor(max_depth = 3)\n",
        "tree = tree.fit(X, y)\n",
        "\n",
        "# Make predictions on the test data\n",
        "y_hat = tree.predict(X_test)\n",
        "\n",
        "# Visualize results\n",
        "plot_tree(tree, filled = True, feature_names = tree.feature_names_in_)"
      ]
    },
    {
      "cell_type": "code",
      "execution_count": null,
      "metadata": {
        "colab": {
          "base_uri": "https://localhost:8080/"
        },
        "id": "dh_1Pv4SBhfU",
        "outputId": "62889c17-f3eb-4312-fd2d-376a551acbb6"
      },
      "outputs": [
        {
          "name": "stdout",
          "output_type": "stream",
          "text": [
            "0.06161407743229941\n"
          ]
        }
      ],
      "source": [
        "# Statistics for above tree\n",
        "SSE = np.sum((y_test - y_hat) ** 2)\n",
        "TSS  =np.sum((y_test - np.mean(y)) ** 2)\n",
        "rsq = 1 - SSE/TSS\n",
        "print(rsq)"
      ]
    },
    {
      "cell_type": "markdown",
      "metadata": {
        "id": "H6WJaCB2CMkW"
      },
      "source": [
        "### Max Depth - 10"
      ]
    },
    {
      "cell_type": "code",
      "execution_count": null,
      "metadata": {
        "id": "7gbkTwPTBje2"
      },
      "outputs": [],
      "source": [
        "# Trying to improve r^2 value\n",
        "\n",
        "# Process data\n",
        "y = data['TenYearCHD']\n",
        "X = data.drop(['TenYearCHD'], axis = 1)\n",
        "y_test = test_data['TenYearCHD']\n",
        "X_test = test_data.drop(['TenYearCHD'], axis = 1)\n",
        "\n",
        "# Fit tree\n",
        "tree = DecisionTreeRegressor(max_depth = 10)\n",
        "tree = tree.fit(X, y)\n",
        "\n",
        "# Make predictions on the test data\n",
        "y_hat = tree.predict(X_test)\n",
        "\n",
        "# Visualize results\n",
        "plot_tree(tree, filled = True, feature_names = tree.feature_names_in_)"
      ]
    },
    {
      "cell_type": "code",
      "execution_count": null,
      "metadata": {
        "colab": {
          "base_uri": "https://localhost:8080/"
        },
        "id": "3PGuwR_zBlmM",
        "outputId": "eeba022a-bb29-4279-8faf-40181ccd8e8c"
      },
      "outputs": [
        {
          "name": "stdout",
          "output_type": "stream",
          "text": [
            "-0.22297073455216587\n"
          ]
        }
      ],
      "source": [
        "# Statistics for above tree\n",
        "SSE = np.sum((y_test - y_hat) ** 2)\n",
        "TSS  =np.sum((y_test - np.mean(y)) ** 2)\n",
        "rsq = 1 - SSE/TSS\n",
        "print(rsq)"
      ]
    },
    {
      "cell_type": "markdown",
      "metadata": {
        "id": "yUgjOjgdCPuh"
      },
      "source": [
        "### Max Depth - 7"
      ]
    },
    {
      "cell_type": "code",
      "execution_count": null,
      "metadata": {
        "id": "Ee5r5aukBpcn"
      },
      "outputs": [],
      "source": [
        "# Trying again\n",
        "\n",
        "# Process data\n",
        "y = data['TenYearCHD']\n",
        "X = data.drop(['TenYearCHD'], axis = 1)\n",
        "y_test = test_data['TenYearCHD']\n",
        "X_test = test_data.drop(['TenYearCHD'], axis = 1)\n",
        "\n",
        "# Fit tree\n",
        "tree = DecisionTreeRegressor(max_depth = 7)\n",
        "tree = tree.fit(X, y)\n",
        "\n",
        "# Make predictions on the test data\n",
        "y_hat = tree.predict(X_test)\n",
        "\n",
        "# Visualize results\n",
        "plot_tree(tree, filled = True, feature_names = tree.feature_names_in_)"
      ]
    },
    {
      "cell_type": "code",
      "execution_count": null,
      "metadata": {
        "colab": {
          "base_uri": "https://localhost:8080/"
        },
        "id": "QotcvmA_Bsux",
        "outputId": "7e998bfa-b22f-4d07-c32a-4f2f8372920e"
      },
      "outputs": [
        {
          "name": "stdout",
          "output_type": "stream",
          "text": [
            "-0.055442457325462824\n"
          ]
        }
      ],
      "source": [
        "# Statistics for above tree\n",
        "SSE = np.sum((y_test - y_hat) ** 2)\n",
        "TSS  =np.sum((y_test - np.mean(y)) ** 2)\n",
        "rsq = 1 - SSE/TSS\n",
        "print(rsq)"
      ]
    },
    {
      "cell_type": "markdown",
      "metadata": {
        "id": "hZURwc_KCTA0"
      },
      "source": [
        "### Max Depth - 2"
      ]
    },
    {
      "cell_type": "code",
      "execution_count": null,
      "metadata": {
        "colab": {
          "base_uri": "https://localhost:8080/",
          "height": 627
        },
        "id": "ooYZEyO-Bvrw",
        "outputId": "b335860f-0c58-40dd-c465-31ce9a62d07d"
      },
      "outputs": [
        {
          "data": {
            "text/plain": [
              "[Text(0.5, 0.8333333333333334, 'age <= 55.5\\nsquared_error = 0.131\\nsamples = 2744\\nvalue = 0.155'),\n",
              " Text(0.25, 0.5, 'age <= 46.5\\nsquared_error = 0.096\\nsamples = 1988\\nvalue = 0.108'),\n",
              " Text(0.125, 0.16666666666666666, 'squared_error = 0.063\\nsamples = 1147\\nvalue = 0.068'),\n",
              " Text(0.375, 0.16666666666666666, 'squared_error = 0.136\\nsamples = 841\\nvalue = 0.162'),\n",
              " Text(0.75, 0.5, 'sysBP_log <= 4.975\\nsquared_error = 0.201\\nsamples = 756\\nvalue = 0.278'),\n",
              " Text(0.625, 0.16666666666666666, 'squared_error = 0.164\\nsamples = 426\\nvalue = 0.207'),\n",
              " Text(0.875, 0.16666666666666666, 'squared_error = 0.233\\nsamples = 330\\nvalue = 0.37')]"
            ]
          },
          "execution_count": 18,
          "metadata": {},
          "output_type": "execute_result"
        },
        {
          "data": {
            "image/png": "[encoded data removed]",
            "text/plain": [
              "<Figure size 640x480 with 1 Axes>"
            ]
          },
          "metadata": {},
          "output_type": "display_data"
        }
      ],
      "source": [
        "# Try making max_depth even lower instead of higher?\n",
        "\n",
        "# Process data\n",
        "y = data['TenYearCHD']\n",
        "X = data.drop(['TenYearCHD'], axis = 1)\n",
        "y_test = test_data['TenYearCHD']\n",
        "X_test = test_data.drop(['TenYearCHD'], axis = 1)\n",
        "\n",
        "# Fit tree\n",
        "tree = DecisionTreeRegressor(max_depth = 2)\n",
        "tree = tree.fit(X, y)\n",
        "\n",
        "# Make predictions on the test data\n",
        "y_hat = tree.predict(X_test)\n",
        "\n",
        "# Visualize results\n",
        "plot_tree(tree, filled = True, feature_names = tree.feature_names_in_)"
      ]
    },
    {
      "cell_type": "code",
      "execution_count": null,
      "metadata": {
        "colab": {
          "base_uri": "https://localhost:8080/"
        },
        "id": "2w36gEI0Bxx4",
        "outputId": "b8a37212-9901-4890-e2bd-c5368cc1ee9f"
      },
      "outputs": [
        {
          "name": "stdout",
          "output_type": "stream",
          "text": [
            "0.05963970137419505\n"
          ]
        }
      ],
      "source": [
        "# Statistics for above tree\n",
        "SSE = np.sum((y_test - y_hat) ** 2)\n",
        "TSS  =np.sum((y_test - np.mean(y)) ** 2)\n",
        "rsq = 1 - SSE/TSS\n",
        "print(rsq)"
      ]
    },
    {
      "cell_type": "markdown",
      "metadata": {
        "id": "fe7HdNZ7CV0A"
      },
      "source": [
        "### Findings"
      ]
    },
    {
      "cell_type": "markdown",
      "metadata": {
        "id": "wRBL9xrlB0t4"
      },
      "source": [
        "Looks like setting max_depth = 3 had the highest R-squared value, while also showing us an accurate representation of the relationships between the data."
      ]
    },
    {
      "cell_type": "markdown",
      "metadata": {
        "id": "zPPzTqejCcgn"
      },
      "source": [
        "### Decision Tree - Round 2\n"
      ]
    },
    {
      "cell_type": "markdown",
      "metadata": {
        "id": "mIrj8ziXDXhA"
      },
      "source": [
        "After the initial round of experimenting with the decision tree models, it was found that the fit was lower than expected. To improve the fit of the model, another round of creating decision tree models was done, only focusing on the 4 variables mentioned earlier to have the highest correlation with the 10-year risk of coronary heart disease.\n",
        "\n",
        "Again, there seemed to be great overfitting observed without the specification of a depth, so various depths were used again for experimentation to determine the model of best fit.\n",
        "\n",
        "This method improved the fit of the model and seemed to be more accurate. The best R-squared value from this model was around 0.0691, observed at a depth of 3."
      ]
    },
    {
      "cell_type": "markdown",
      "metadata": {
        "id": "GUiCxV9NFKDm"
      },
      "source": [
        "### Decision Tree"
      ]
    },
    {
      "cell_type": "code",
      "execution_count": null,
      "metadata": {
        "id": "gjOVOqiHFBgG"
      },
      "outputs": [],
      "source": [
        "# Decision Tree\n",
        "tree_data = data.loc[:, ['TenYearCHD', 'age', 'prevalentHyp', 'sysBP_log', 'diaBP_log']]\n",
        "tree_test_data = test_data.loc[:, ['TenYearCHD', 'age', 'prevalentHyp', 'sysBP_log', 'diaBP_log']]\n",
        "# Import packages and libraries\n",
        "from sklearn.tree import plot_tree\n",
        "from sklearn.tree import DecisionTreeRegressor\n",
        "from sklearn.model_selection import train_test_split\n",
        "\n",
        "# Process data\n",
        "y = tree_data['TenYearCHD']\n",
        "X = tree_data.drop(['TenYearCHD'], axis = 1)\n",
        "y_test = tree_test_data['TenYearCHD']\n",
        "X_test = tree_test_data.drop(['TenYearCHD'], axis = 1)\n",
        "\n",
        "\n",
        "# Fit tree\n",
        "tree = DecisionTreeRegressor()\n",
        "tree = tree.fit(X, y)\n",
        "\n",
        "# Make predictions on the test data\n",
        "y_hat = tree.predict(X_test)\n",
        "\n",
        "# Visualize results\n",
        "plot_tree(tree, filled = True)"
      ]
    },
    {
      "cell_type": "code",
      "execution_count": null,
      "metadata": {
        "colab": {
          "base_uri": "https://localhost:8080/"
        },
        "id": "SWMxtElYFGYA",
        "outputId": "b4d6f94a-77b1-43e9-a977-308e1a6710fe"
      },
      "outputs": [
        {
          "name": "stdout",
          "output_type": "stream",
          "text": [
            "-0.8840014361174036\n"
          ]
        }
      ],
      "source": [
        "# Statistics for above tree\n",
        "SSE = np.sum((y_test - y_hat) ** 2)\n",
        "TSS  =np.sum((y_test - np.mean(y)) ** 2)\n",
        "rsq = 1 - SSE/TSS\n",
        "print(rsq)"
      ]
    },
    {
      "cell_type": "markdown",
      "metadata": {
        "id": "xvwJfFMUFO8Q"
      },
      "source": [
        "This tree is very overfitting and is probably making splits on very small distinctions among a few observations, so we can truncate it and limit depth."
      ]
    },
    {
      "cell_type": "markdown",
      "metadata": {
        "id": "1y8cZc-aFQ1v"
      },
      "source": [
        "### Max Depth - 5"
      ]
    },
    {
      "cell_type": "code",
      "execution_count": null,
      "metadata": {
        "colab": {
          "base_uri": "https://localhost:8080/",
          "height": 1000
        },
        "id": "G9--pmQIFTCf",
        "outputId": "1522b104-b455-4679-8d20-f28a1b9aa612"
      },
      "outputs": [
        {
          "data": {
            "text/plain": [
              "[Text(0.5371621621621622, 0.9166666666666666, 'age <= 55.5\\nsquared_error = 0.131\\nsamples = 2744\\nvalue = 0.155'),\n",
              " Text(0.2635135135135135, 0.75, 'age <= 46.5\\nsquared_error = 0.096\\nsamples = 1988\\nvalue = 0.108'),\n",
              " Text(0.10810810810810811, 0.5833333333333334, 'sysBP_log <= 5.012\\nsquared_error = 0.063\\nsamples = 1147\\nvalue = 0.068'),\n",
              " Text(0.05405405405405406, 0.4166666666666667, 'diaBP_log <= 4.016\\nsquared_error = 0.056\\nsamples = 1066\\nvalue = 0.06'),\n",
              " Text(0.02702702702702703, 0.25, 'squared_error = 0.0\\nsamples = 1\\nvalue = 1.0'),\n",
              " Text(0.08108108108108109, 0.25, 'diaBP_log <= 4.294\\nsquared_error = 0.056\\nsamples = 1065\\nvalue = 0.059'),\n",
              " Text(0.05405405405405406, 0.08333333333333333, 'squared_error = 0.024\\nsamples = 326\\nvalue = 0.025'),\n",
              " Text(0.10810810810810811, 0.08333333333333333, 'squared_error = 0.069\\nsamples = 739\\nvalue = 0.074'),\n",
              " Text(0.16216216216216217, 0.4166666666666667, 'diaBP_log <= 4.17\\nsquared_error = 0.143\\nsamples = 81\\nvalue = 0.173'),\n",
              " Text(0.13513513513513514, 0.25, 'squared_error = 0.0\\nsamples = 1\\nvalue = 1.0'),\n",
              " Text(0.1891891891891892, 0.25, 'sysBP_log <= 5.016\\nsquared_error = 0.136\\nsamples = 80\\nvalue = 0.162'),\n",
              " Text(0.16216216216216217, 0.08333333333333333, 'squared_error = 0.0\\nsamples = 1\\nvalue = 1.0'),\n",
              " Text(0.21621621621621623, 0.08333333333333333, 'squared_error = 0.129\\nsamples = 79\\nvalue = 0.152'),\n",
              " Text(0.4189189189189189, 0.5833333333333334, 'sysBP_log <= 5.109\\nsquared_error = 0.136\\nsamples = 841\\nvalue = 0.162'),\n",
              " Text(0.35135135135135137, 0.4166666666666667, 'sysBP_log <= 4.794\\nsquared_error = 0.125\\nsamples = 780\\nvalue = 0.146'),\n",
              " Text(0.2972972972972973, 0.25, 'diaBP_log <= 4.182\\nsquared_error = 0.076\\nsamples = 229\\nvalue = 0.083'),\n",
              " Text(0.2702702702702703, 0.08333333333333333, 'squared_error = 0.0\\nsamples = 22\\nvalue = 0.0'),\n",
              " Text(0.32432432432432434, 0.08333333333333333, 'squared_error = 0.083\\nsamples = 207\\nvalue = 0.092'),\n",
              " Text(0.40540540540540543, 0.25, 'diaBP_log <= 4.025\\nsquared_error = 0.143\\nsamples = 551\\nvalue = 0.172'),\n",
              " Text(0.3783783783783784, 0.08333333333333333, 'squared_error = 0.222\\nsamples = 3\\nvalue = 0.667'),\n",
              " Text(0.43243243243243246, 0.08333333333333333, 'squared_error = 0.141\\nsamples = 548\\nvalue = 0.17'),\n",
              " Text(0.4864864864864865, 0.4166666666666667, 'sysBP_log <= 5.116\\nsquared_error = 0.231\\nsamples = 61\\nvalue = 0.361'),\n",
              " Text(0.4594594594594595, 0.25, 'squared_error = 0.0\\nsamples = 3\\nvalue = 1.0'),\n",
              " Text(0.5135135135135135, 0.25, 'age <= 52.5\\nsquared_error = 0.22\\nsamples = 58\\nvalue = 0.328'),\n",
              " Text(0.4864864864864865, 0.08333333333333333, 'squared_error = 0.247\\nsamples = 29\\nvalue = 0.448'),\n",
              " Text(0.5405405405405406, 0.08333333333333333, 'squared_error = 0.164\\nsamples = 29\\nvalue = 0.207'),\n",
              " Text(0.8108108108108109, 0.75, 'sysBP_log <= 4.975\\nsquared_error = 0.201\\nsamples = 756\\nvalue = 0.278'),\n",
              " Text(0.7027027027027027, 0.5833333333333334, 'diaBP_log <= 4.593\\nsquared_error = 0.164\\nsamples = 426\\nvalue = 0.207'),\n",
              " Text(0.6756756756756757, 0.4166666666666667, 'diaBP_log <= 4.437\\nsquared_error = 0.162\\nsamples = 424\\nvalue = 0.203'),\n",
              " Text(0.6216216216216216, 0.25, 'diaBP_log <= 3.942\\nsquared_error = 0.175\\nsamples = 335\\nvalue = 0.227'),\n",
              " Text(0.5945945945945946, 0.08333333333333333, 'squared_error = 0.0\\nsamples = 1\\nvalue = 1.0'),\n",
              " Text(0.6486486486486487, 0.08333333333333333, 'squared_error = 0.174\\nsamples = 334\\nvalue = 0.225'),\n",
              " Text(0.7297297297297297, 0.25, 'age <= 65.5\\nsquared_error = 0.1\\nsamples = 89\\nvalue = 0.112'),\n",
              " Text(0.7027027027027027, 0.08333333333333333, 'squared_error = 0.075\\nsamples = 86\\nvalue = 0.081'),\n",
              " Text(0.7567567567567568, 0.08333333333333333, 'squared_error = 0.0\\nsamples = 3\\nvalue = 1.0'),\n",
              " Text(0.7297297297297297, 0.4166666666666667, 'squared_error = 0.0\\nsamples = 2\\nvalue = 1.0'),\n",
              " Text(0.918918918918919, 0.5833333333333334, 'sysBP_log <= 5.472\\nsquared_error = 0.233\\nsamples = 330\\nvalue = 0.37'),\n",
              " Text(0.8918918918918919, 0.4166666666666667, 'diaBP_log <= 4.256\\nsquared_error = 0.231\\nsamples = 327\\nvalue = 0.364'),\n",
              " Text(0.8378378378378378, 0.25, 'age <= 63.5\\nsquared_error = 0.16\\nsamples = 5\\nvalue = 0.8'),\n",
              " Text(0.8108108108108109, 0.08333333333333333, 'squared_error = 0.0\\nsamples = 4\\nvalue = 1.0'),\n",
              " Text(0.8648648648648649, 0.08333333333333333, 'squared_error = 0.0\\nsamples = 1\\nvalue = 0.0'),\n",
              " Text(0.9459459459459459, 0.25, 'age <= 65.5\\nsquared_error = 0.23\\nsamples = 322\\nvalue = 0.357'),\n",
              " Text(0.918918918918919, 0.08333333333333333, 'squared_error = 0.226\\nsamples = 285\\nvalue = 0.344'),\n",
              " Text(0.972972972972973, 0.08333333333333333, 'squared_error = 0.248\\nsamples = 37\\nvalue = 0.459'),\n",
              " Text(0.9459459459459459, 0.4166666666666667, 'squared_error = 0.0\\nsamples = 3\\nvalue = 1.0')]"
            ]
          },
          "execution_count": 23,
          "metadata": {},
          "output_type": "execute_result"
        },
        {
          "data": {
            "image/png": "[encoded data removed]",
            "text/plain": [
              "<Figure size 640x480 with 1 Axes>"
            ]
          },
          "metadata": {},
          "output_type": "display_data"
        }
      ],
      "source": [
        "# Another Decision Tree, but with a limited depth\n",
        "\n",
        "# Process data\n",
        "y = tree_data['TenYearCHD']\n",
        "X = tree_data.drop(['TenYearCHD'], axis = 1)\n",
        "y_test = tree_test_data['TenYearCHD']\n",
        "X_test = tree_test_data.drop(['TenYearCHD'], axis = 1)\n",
        "\n",
        "# Fit tree\n",
        "tree = DecisionTreeRegressor(max_depth = 5)\n",
        "tree = tree.fit(X, y)\n",
        "\n",
        "# Make predictions on the test data\n",
        "y_hat = tree.predict(X_test)\n",
        "\n",
        "# Visualize results\n",
        "plot_tree(tree, filled = True, feature_names = tree.feature_names_in_)"
      ]
    },
    {
      "cell_type": "code",
      "execution_count": null,
      "metadata": {
        "colab": {
          "base_uri": "https://localhost:8080/"
        },
        "id": "hU15bXlmFVbG",
        "outputId": "3313b9fb-5034-451e-c04b-015ac6345888"
      },
      "outputs": [
        {
          "name": "stdout",
          "output_type": "stream",
          "text": [
            "0.03427062916048207\n"
          ]
        }
      ],
      "source": [
        "# Statistics for above tree\n",
        "SSE = np.sum((y_test - y_hat) ** 2)\n",
        "TSS  =np.sum((y_test - np.mean(y)) ** 2)\n",
        "rsq = 1 - SSE/TSS\n",
        "print(rsq)"
      ]
    },
    {
      "cell_type": "markdown",
      "metadata": {
        "id": "XEtx_iLVFYUc"
      },
      "source": [
        "### Max Depth - 3"
      ]
    },
    {
      "cell_type": "code",
      "execution_count": null,
      "metadata": {
        "colab": {
          "base_uri": "https://localhost:8080/",
          "height": 780
        },
        "id": "cnxCiRBiFad5",
        "outputId": "50916273-c605-41ab-e4a3-be23dfda7e2f"
      },
      "outputs": [
        {
          "data": {
            "text/plain": [
              "[Text(0.5, 0.875, 'age <= 55.5\\nsquared_error = 0.131\\nsamples = 2744\\nvalue = 0.155'),\n",
              " Text(0.25, 0.625, 'age <= 46.5\\nsquared_error = 0.096\\nsamples = 1988\\nvalue = 0.108'),\n",
              " Text(0.125, 0.375, 'sysBP_log <= 5.012\\nsquared_error = 0.063\\nsamples = 1147\\nvalue = 0.068'),\n",
              " Text(0.0625, 0.125, 'squared_error = 0.056\\nsamples = 1066\\nvalue = 0.06'),\n",
              " Text(0.1875, 0.125, 'squared_error = 0.143\\nsamples = 81\\nvalue = 0.173'),\n",
              " Text(0.375, 0.375, 'sysBP_log <= 5.109\\nsquared_error = 0.136\\nsamples = 841\\nvalue = 0.162'),\n",
              " Text(0.3125, 0.125, 'squared_error = 0.125\\nsamples = 780\\nvalue = 0.146'),\n",
              " Text(0.4375, 0.125, 'squared_error = 0.231\\nsamples = 61\\nvalue = 0.361'),\n",
              " Text(0.75, 0.625, 'sysBP_log <= 4.975\\nsquared_error = 0.201\\nsamples = 756\\nvalue = 0.278'),\n",
              " Text(0.625, 0.375, 'diaBP_log <= 4.593\\nsquared_error = 0.164\\nsamples = 426\\nvalue = 0.207'),\n",
              " Text(0.5625, 0.125, 'squared_error = 0.162\\nsamples = 424\\nvalue = 0.203'),\n",
              " Text(0.6875, 0.125, 'squared_error = 0.0\\nsamples = 2\\nvalue = 1.0'),\n",
              " Text(0.875, 0.375, 'sysBP_log <= 5.472\\nsquared_error = 0.233\\nsamples = 330\\nvalue = 0.37'),\n",
              " Text(0.8125, 0.125, 'squared_error = 0.231\\nsamples = 327\\nvalue = 0.364'),\n",
              " Text(0.9375, 0.125, 'squared_error = 0.0\\nsamples = 3\\nvalue = 1.0')]"
            ]
          },
          "execution_count": 25,
          "metadata": {},
          "output_type": "execute_result"
        },
        {
          "data": {
            "image/png": "[encoded data removed]",
            "text/plain": [
              "<Figure size 640x480 with 1 Axes>"
            ]
          },
          "metadata": {},
          "output_type": "display_data"
        }
      ],
      "source": [
        "# Let's try to make it even better!\n",
        "\n",
        "# Process data\n",
        "y = tree_data['TenYearCHD']\n",
        "X = tree_data.drop(['TenYearCHD'], axis = 1)\n",
        "y_test = tree_test_data['TenYearCHD']\n",
        "X_test = tree_test_data.drop(['TenYearCHD'], axis = 1)\n",
        "\n",
        "# Fit tree\n",
        "tree = DecisionTreeRegressor(max_depth = 3)\n",
        "tree = tree.fit(X, y)\n",
        "\n",
        "# Make predictions on the test data\n",
        "y_hat = tree.predict(X_test)\n",
        "\n",
        "# Visualize results\n",
        "plot_tree(tree, filled = True, feature_names = tree.feature_names_in_)"
      ]
    },
    {
      "cell_type": "code",
      "execution_count": null,
      "metadata": {
        "colab": {
          "base_uri": "https://localhost:8080/"
        },
        "id": "vqfWKDx2FdjE",
        "outputId": "3eb6bd0f-f049-4809-93f4-5c2c80794e00"
      },
      "outputs": [
        {
          "name": "stdout",
          "output_type": "stream",
          "text": [
            "0.06911665623589058\n"
          ]
        }
      ],
      "source": [
        "# Statistics for above tree\n",
        "SSE = np.sum((y_test - y_hat) ** 2)\n",
        "TSS  =np.sum((y_test - np.mean(y)) ** 2)\n",
        "rsq = 1 - SSE/TSS\n",
        "print(rsq)"
      ]
    },
    {
      "cell_type": "markdown",
      "metadata": {
        "id": "St9OZyRFFfj2"
      },
      "source": [
        "### Max Depth - 10"
      ]
    },
    {
      "cell_type": "code",
      "execution_count": null,
      "metadata": {
        "id": "X2tOBAnQFi_Z"
      },
      "outputs": [],
      "source": [
        "# Trying to improve r^2 value\n",
        "\n",
        "# Process data\n",
        "y = tree_data['TenYearCHD']\n",
        "X = tree_data.drop(['TenYearCHD'], axis = 1)\n",
        "y_test = tree_test_data['TenYearCHD']\n",
        "X_test = tree_test_data.drop(['TenYearCHD'], axis = 1)\n",
        "\n",
        "# Fit tree\n",
        "tree = DecisionTreeRegressor(max_depth = 10)\n",
        "tree = tree.fit(X, y)\n",
        "\n",
        "# Make predictions on the test data\n",
        "y_hat = tree.predict(X_test)\n",
        "\n",
        "# Visualize results\n",
        "plot_tree(tree, filled = True, feature_names = tree.feature_names_in_)"
      ]
    },
    {
      "cell_type": "code",
      "execution_count": null,
      "metadata": {
        "colab": {
          "base_uri": "https://localhost:8080/"
        },
        "id": "nVUKIZOMFjtt",
        "outputId": "c041b90d-d6e8-4aea-9d00-a59d7692724e"
      },
      "outputs": [
        {
          "name": "stdout",
          "output_type": "stream",
          "text": [
            "-0.18504307039513646\n"
          ]
        }
      ],
      "source": [
        "# Statistics for above tree\n",
        "SSE = np.sum((y_test - y_hat) ** 2)\n",
        "TSS  =np.sum((y_test - np.mean(y)) ** 2)\n",
        "rsq = 1 - SSE/TSS\n",
        "print(rsq)"
      ]
    },
    {
      "cell_type": "markdown",
      "metadata": {
        "id": "0ExYQERhFlzP"
      },
      "source": [
        "### Max Depth - 7"
      ]
    },
    {
      "cell_type": "code",
      "execution_count": null,
      "metadata": {
        "colab": {
          "base_uri": "https://localhost:8080/",
          "height": 1000
        },
        "id": "IfqkWneSFn0e",
        "outputId": "615fb8ef-4d75-48a6-ecb1-1c95ff965081"
      },
      "outputs": [
        {
          "data": {
            "text/plain": [
              "[Text(0.5193661971830986, 0.9375, 'age <= 55.5\\nsquared_error = 0.131\\nsamples = 2744\\nvalue = 0.155'),\n",
              " Text(0.2640845070422535, 0.8125, 'age <= 46.5\\nsquared_error = 0.096\\nsamples = 1988\\nvalue = 0.108'),\n",
              " Text(0.12323943661971831, 0.6875, 'sysBP_log <= 5.012\\nsquared_error = 0.063\\nsamples = 1147\\nvalue = 0.068'),\n",
              " Text(0.06338028169014084, 0.5625, 'diaBP_log <= 4.016\\nsquared_error = 0.056\\nsamples = 1066\\nvalue = 0.06'),\n",
              " Text(0.04929577464788732, 0.4375, 'squared_error = 0.0\\nsamples = 1\\nvalue = 1.0'),\n",
              " Text(0.07746478873239436, 0.4375, 'diaBP_log <= 4.294\\nsquared_error = 0.056\\nsamples = 1065\\nvalue = 0.059'),\n",
              " Text(0.04225352112676056, 0.3125, 'age <= 43.5\\nsquared_error = 0.024\\nsamples = 326\\nvalue = 0.025'),\n",
              " Text(0.028169014084507043, 0.1875, 'diaBP_log <= 4.193\\nsquared_error = 0.031\\nsamples = 252\\nvalue = 0.032'),\n",
              " Text(0.014084507042253521, 0.0625, 'squared_error = 0.052\\nsamples = 72\\nvalue = 0.056'),\n",
              " Text(0.04225352112676056, 0.0625, 'squared_error = 0.022\\nsamples = 180\\nvalue = 0.022'),\n",
              " Text(0.056338028169014086, 0.1875, 'squared_error = 0.0\\nsamples = 74\\nvalue = 0.0'),\n",
              " Text(0.11267605633802817, 0.3125, 'age <= 40.5\\nsquared_error = 0.069\\nsamples = 739\\nvalue = 0.074'),\n",
              " Text(0.08450704225352113, 0.1875, 'sysBP_log <= 4.649\\nsquared_error = 0.036\\nsamples = 298\\nvalue = 0.037'),\n",
              " Text(0.07042253521126761, 0.0625, 'squared_error = 0.0\\nsamples = 1\\nvalue = 1.0'),\n",
              " Text(0.09859154929577464, 0.0625, 'squared_error = 0.033\\nsamples = 297\\nvalue = 0.034'),\n",
              " Text(0.14084507042253522, 0.1875, 'sysBP_log <= 4.721\\nsquared_error = 0.09\\nsamples = 441\\nvalue = 0.1'),\n",
              " Text(0.1267605633802817, 0.0625, 'squared_error = 0.16\\nsamples = 35\\nvalue = 0.2'),\n",
              " Text(0.15492957746478872, 0.0625, 'squared_error = 0.083\\nsamples = 406\\nvalue = 0.091'),\n",
              " Text(0.18309859154929578, 0.5625, 'diaBP_log <= 4.17\\nsquared_error = 0.143\\nsamples = 81\\nvalue = 0.173'),\n",
              " Text(0.16901408450704225, 0.4375, 'squared_error = 0.0\\nsamples = 1\\nvalue = 1.0'),\n",
              " Text(0.19718309859154928, 0.4375, 'sysBP_log <= 5.016\\nsquared_error = 0.136\\nsamples = 80\\nvalue = 0.162'),\n",
              " Text(0.18309859154929578, 0.3125, 'squared_error = 0.0\\nsamples = 1\\nvalue = 1.0'),\n",
              " Text(0.2112676056338028, 0.3125, 'sysBP_log <= 5.301\\nsquared_error = 0.129\\nsamples = 79\\nvalue = 0.152'),\n",
              " Text(0.19718309859154928, 0.1875, 'sysBP_log <= 5.066\\nsquared_error = 0.121\\nsamples = 78\\nvalue = 0.141'),\n",
              " Text(0.18309859154929578, 0.0625, 'squared_error = 0.171\\nsamples = 32\\nvalue = 0.219'),\n",
              " Text(0.2112676056338028, 0.0625, 'squared_error = 0.079\\nsamples = 46\\nvalue = 0.087'),\n",
              " Text(0.22535211267605634, 0.1875, 'squared_error = 0.0\\nsamples = 1\\nvalue = 1.0'),\n",
              " Text(0.40492957746478875, 0.6875, 'sysBP_log <= 5.109\\nsquared_error = 0.136\\nsamples = 841\\nvalue = 0.162'),\n",
              " Text(0.323943661971831, 0.5625, 'sysBP_log <= 4.794\\nsquared_error = 0.125\\nsamples = 780\\nvalue = 0.146'),\n",
              " Text(0.2676056338028169, 0.4375, 'diaBP_log <= 4.182\\nsquared_error = 0.076\\nsamples = 229\\nvalue = 0.083'),\n",
              " Text(0.2535211267605634, 0.3125, 'squared_error = 0.0\\nsamples = 22\\nvalue = 0.0'),\n",
              " Text(0.28169014084507044, 0.3125, 'diaBP_log <= 4.201\\nsquared_error = 0.083\\nsamples = 207\\nvalue = 0.092'),\n",
              " Text(0.2535211267605634, 0.1875, 'age <= 50.0\\nsquared_error = 0.21\\nsamples = 10\\nvalue = 0.3'),\n",
              " Text(0.23943661971830985, 0.0625, 'squared_error = 0.25\\nsamples = 6\\nvalue = 0.5'),\n",
              " Text(0.2676056338028169, 0.0625, 'squared_error = 0.0\\nsamples = 4\\nvalue = 0.0'),\n",
              " Text(0.30985915492957744, 0.1875, 'diaBP_log <= 4.425\\nsquared_error = 0.075\\nsamples = 197\\nvalue = 0.081'),\n",
              " Text(0.29577464788732394, 0.0625, 'squared_error = 0.082\\nsamples = 177\\nvalue = 0.09'),\n",
              " Text(0.323943661971831, 0.0625, 'squared_error = 0.0\\nsamples = 20\\nvalue = 0.0'),\n",
              " Text(0.38028169014084506, 0.4375, 'diaBP_log <= 4.025\\nsquared_error = 0.143\\nsamples = 551\\nvalue = 0.172'),\n",
              " Text(0.352112676056338, 0.3125, 'prevalentHyp <= 0.5\\nsquared_error = 0.222\\nsamples = 3\\nvalue = 0.667'),\n",
              " Text(0.3380281690140845, 0.1875, 'squared_error = 0.0\\nsamples = 1\\nvalue = 0.0'),\n",
              " Text(0.36619718309859156, 0.1875, 'squared_error = 0.0\\nsamples = 2\\nvalue = 1.0'),\n",
              " Text(0.4084507042253521, 0.3125, 'diaBP_log <= 4.727\\nsquared_error = 0.141\\nsamples = 548\\nvalue = 0.17'),\n",
              " Text(0.39436619718309857, 0.1875, 'age <= 54.5\\nsquared_error = 0.14\\nsamples = 547\\nvalue = 0.168'),\n",
              " Text(0.38028169014084506, 0.0625, 'squared_error = 0.146\\nsamples = 479\\nvalue = 0.177'),\n",
              " Text(0.4084507042253521, 0.0625, 'squared_error = 0.092\\nsamples = 68\\nvalue = 0.103'),\n",
              " Text(0.4225352112676056, 0.1875, 'squared_error = 0.0\\nsamples = 1\\nvalue = 1.0'),\n",
              " Text(0.4859154929577465, 0.5625, 'sysBP_log <= 5.116\\nsquared_error = 0.231\\nsamples = 61\\nvalue = 0.361'),\n",
              " Text(0.47183098591549294, 0.4375, 'squared_error = 0.0\\nsamples = 3\\nvalue = 1.0'),\n",
              " Text(0.5, 0.4375, 'age <= 52.5\\nsquared_error = 0.22\\nsamples = 58\\nvalue = 0.328'),\n",
              " Text(0.4647887323943662, 0.3125, 'diaBP_log <= 4.822\\nsquared_error = 0.247\\nsamples = 29\\nvalue = 0.448'),\n",
              " Text(0.4507042253521127, 0.1875, 'sysBP_log <= 5.173\\nsquared_error = 0.25\\nsamples = 26\\nvalue = 0.5'),\n",
              " Text(0.43661971830985913, 0.0625, 'squared_error = 0.21\\nsamples = 10\\nvalue = 0.3'),\n",
              " Text(0.4647887323943662, 0.0625, 'squared_error = 0.234\\nsamples = 16\\nvalue = 0.625'),\n",
              " Text(0.4788732394366197, 0.1875, 'squared_error = 0.0\\nsamples = 3\\nvalue = 0.0'),\n",
              " Text(0.5352112676056338, 0.3125, 'sysBP_log <= 5.319\\nsquared_error = 0.164\\nsamples = 29\\nvalue = 0.207'),\n",
              " Text(0.5070422535211268, 0.1875, 'diaBP_log <= 4.819\\nsquared_error = 0.13\\nsamples = 26\\nvalue = 0.154'),\n",
              " Text(0.49295774647887325, 0.0625, 'squared_error = 0.106\\nsamples = 25\\nvalue = 0.12'),\n",
              " Text(0.5211267605633803, 0.0625, 'squared_error = 0.0\\nsamples = 1\\nvalue = 1.0'),\n",
              " Text(0.5633802816901409, 0.1875, 'sysBP_log <= 5.409\\nsquared_error = 0.222\\nsamples = 3\\nvalue = 0.667'),\n",
              " Text(0.5492957746478874, 0.0625, 'squared_error = 0.0\\nsamples = 2\\nvalue = 1.0'),\n",
              " Text(0.5774647887323944, 0.0625, 'squared_error = 0.0\\nsamples = 1\\nvalue = 0.0'),\n",
              " Text(0.7746478873239436, 0.8125, 'sysBP_log <= 4.975\\nsquared_error = 0.201\\nsamples = 756\\nvalue = 0.278'),\n",
              " Text(0.6971830985915493, 0.6875, 'diaBP_log <= 4.593\\nsquared_error = 0.164\\nsamples = 426\\nvalue = 0.207'),\n",
              " Text(0.6830985915492958, 0.5625, 'diaBP_log <= 4.437\\nsquared_error = 0.162\\nsamples = 424\\nvalue = 0.203'),\n",
              " Text(0.6338028169014085, 0.4375, 'diaBP_log <= 3.942\\nsquared_error = 0.175\\nsamples = 335\\nvalue = 0.227'),\n",
              " Text(0.6197183098591549, 0.3125, 'squared_error = 0.0\\nsamples = 1\\nvalue = 1.0'),\n",
              " Text(0.647887323943662, 0.3125, 'sysBP_log <= 4.73\\nsquared_error = 0.174\\nsamples = 334\\nvalue = 0.225'),\n",
              " Text(0.6197183098591549, 0.1875, 'prevalentHyp <= 0.5\\nsquared_error = 0.118\\nsamples = 66\\nvalue = 0.136'),\n",
              " Text(0.6056338028169014, 0.0625, 'squared_error = 0.108\\nsamples = 65\\nvalue = 0.123'),\n",
              " Text(0.6338028169014085, 0.0625, 'squared_error = 0.0\\nsamples = 1\\nvalue = 1.0'),\n",
              " Text(0.676056338028169, 0.1875, 'sysBP_log <= 4.734\\nsquared_error = 0.186\\nsamples = 268\\nvalue = 0.246'),\n",
              " Text(0.6619718309859155, 0.0625, 'squared_error = 0.0\\nsamples = 2\\nvalue = 1.0'),\n",
              " Text(0.6901408450704225, 0.0625, 'squared_error = 0.183\\nsamples = 266\\nvalue = 0.241'),\n",
              " Text(0.7323943661971831, 0.4375, 'age <= 65.5\\nsquared_error = 0.1\\nsamples = 89\\nvalue = 0.112'),\n",
              " Text(0.7183098591549296, 0.3125, 'sysBP_log <= 4.896\\nsquared_error = 0.075\\nsamples = 86\\nvalue = 0.081'),\n",
              " Text(0.704225352112676, 0.1875, 'squared_error = 0.0\\nsamples = 28\\nvalue = 0.0'),\n",
              " Text(0.7323943661971831, 0.1875, 'age <= 58.5\\nsquared_error = 0.106\\nsamples = 58\\nvalue = 0.121'),\n",
              " Text(0.7183098591549296, 0.0625, 'squared_error = 0.165\\nsamples = 24\\nvalue = 0.208'),\n",
              " Text(0.7464788732394366, 0.0625, 'squared_error = 0.055\\nsamples = 34\\nvalue = 0.059'),\n",
              " Text(0.7464788732394366, 0.3125, 'squared_error = 0.0\\nsamples = 3\\nvalue = 1.0'),\n",
              " Text(0.7112676056338029, 0.5625, 'squared_error = 0.0\\nsamples = 2\\nvalue = 1.0'),\n",
              " Text(0.852112676056338, 0.6875, 'sysBP_log <= 5.472\\nsquared_error = 0.233\\nsamples = 330\\nvalue = 0.37'),\n",
              " Text(0.8380281690140845, 0.5625, 'diaBP_log <= 4.256\\nsquared_error = 0.231\\nsamples = 327\\nvalue = 0.364'),\n",
              " Text(0.7887323943661971, 0.4375, 'age <= 63.5\\nsquared_error = 0.16\\nsamples = 5\\nvalue = 0.8'),\n",
              " Text(0.7746478873239436, 0.3125, 'squared_error = 0.0\\nsamples = 4\\nvalue = 1.0'),\n",
              " Text(0.8028169014084507, 0.3125, 'squared_error = 0.0\\nsamples = 1\\nvalue = 0.0'),\n",
              " Text(0.8873239436619719, 0.4375, 'age <= 65.5\\nsquared_error = 0.23\\nsamples = 322\\nvalue = 0.357'),\n",
              " Text(0.8309859154929577, 0.3125, 'diaBP_log <= 4.783\\nsquared_error = 0.226\\nsamples = 285\\nvalue = 0.344'),\n",
              " Text(0.8028169014084507, 0.1875, 'sysBP_log <= 5.321\\nsquared_error = 0.223\\nsamples = 275\\nvalue = 0.335'),\n",
              " Text(0.7887323943661971, 0.0625, 'squared_error = 0.224\\nsamples = 271\\nvalue = 0.339'),\n",
              " Text(0.8169014084507042, 0.0625, 'squared_error = 0.0\\nsamples = 4\\nvalue = 0.0'),\n",
              " Text(0.8591549295774648, 0.1875, 'diaBP_log <= 4.879\\nsquared_error = 0.24\\nsamples = 10\\nvalue = 0.6'),\n",
              " Text(0.8450704225352113, 0.0625, 'squared_error = 0.188\\nsamples = 8\\nvalue = 0.75'),\n",
              " Text(0.8732394366197183, 0.0625, 'squared_error = 0.0\\nsamples = 2\\nvalue = 0.0'),\n",
              " Text(0.9436619718309859, 0.3125, 'diaBP_log <= 4.466\\nsquared_error = 0.248\\nsamples = 37\\nvalue = 0.459'),\n",
              " Text(0.9154929577464789, 0.1875, 'diaBP_log <= 4.33\\nsquared_error = 0.122\\nsamples = 7\\nvalue = 0.143'),\n",
              " Text(0.9014084507042254, 0.0625, 'squared_error = 0.0\\nsamples = 1\\nvalue = 1.0'),\n",
              " Text(0.9295774647887324, 0.0625, 'squared_error = 0.0\\nsamples = 6\\nvalue = 0.0'),\n",
              " Text(0.971830985915493, 0.1875, 'diaBP_log <= 4.483\\nsquared_error = 0.249\\nsamples = 30\\nvalue = 0.533'),\n",
              " Text(0.9577464788732394, 0.0625, 'squared_error = 0.0\\nsamples = 3\\nvalue = 1.0'),\n",
              " Text(0.9859154929577465, 0.0625, 'squared_error = 0.25\\nsamples = 27\\nvalue = 0.481'),\n",
              " Text(0.8661971830985915, 0.5625, 'squared_error = 0.0\\nsamples = 3\\nvalue = 1.0')]"
            ]
          },
          "execution_count": 29,
          "metadata": {},
          "output_type": "execute_result"
        },
        {
          "data": {
            "image/png": "[encoded data removed]",
            "text/plain": [
              "<Figure size 640x480 with 1 Axes>"
            ]
          },
          "metadata": {},
          "output_type": "display_data"
        }
      ],
      "source": [
        "# Trying again\n",
        "\n",
        "# Process data\n",
        "y = tree_data['TenYearCHD']\n",
        "X = tree_data.drop(['TenYearCHD'], axis = 1)\n",
        "y_test = tree_test_data['TenYearCHD']\n",
        "X_test = tree_test_data.drop(['TenYearCHD'], axis = 1)\n",
        "\n",
        "# Fit tree\n",
        "tree = DecisionTreeRegressor(max_depth = 7)\n",
        "tree = tree.fit(X, y)\n",
        "\n",
        "# Make predictions on the test data\n",
        "y_hat = tree.predict(X_test)\n",
        "\n",
        "# Visualize results\n",
        "plot_tree(tree, filled = True, feature_names = tree.feature_names_in_)"
      ]
    },
    {
      "cell_type": "code",
      "execution_count": null,
      "metadata": {
        "colab": {
          "base_uri": "https://localhost:8080/"
        },
        "id": "yFKPYco9FqCN",
        "outputId": "b68a3a1c-b31e-4ebb-ee2f-ab1b862f8b73"
      },
      "outputs": [
        {
          "name": "stdout",
          "output_type": "stream",
          "text": [
            "-0.04547055574846248\n"
          ]
        }
      ],
      "source": [
        "# Statistics for above tree\n",
        "SSE = np.sum((y_test - y_hat) ** 2)\n",
        "TSS  =np.sum((y_test - np.mean(y)) ** 2)\n",
        "rsq = 1 - SSE/TSS\n",
        "print(rsq)"
      ]
    },
    {
      "cell_type": "markdown",
      "metadata": {
        "id": "q5Q0BK8AFscv"
      },
      "source": [
        "### Max Depth - 2"
      ]
    },
    {
      "cell_type": "code",
      "execution_count": null,
      "metadata": {
        "colab": {
          "base_uri": "https://localhost:8080/",
          "height": 627
        },
        "id": "CZhLlxvvFsH0",
        "outputId": "bf5b109c-545d-4e0f-eb76-349d7f0752b5"
      },
      "outputs": [
        {
          "data": {
            "text/plain": [
              "[Text(0.5, 0.8333333333333334, 'age <= 55.5\\nsquared_error = 0.131\\nsamples = 2744\\nvalue = 0.155'),\n",
              " Text(0.25, 0.5, 'age <= 46.5\\nsquared_error = 0.096\\nsamples = 1988\\nvalue = 0.108'),\n",
              " Text(0.125, 0.16666666666666666, 'squared_error = 0.063\\nsamples = 1147\\nvalue = 0.068'),\n",
              " Text(0.375, 0.16666666666666666, 'squared_error = 0.136\\nsamples = 841\\nvalue = 0.162'),\n",
              " Text(0.75, 0.5, 'sysBP_log <= 4.975\\nsquared_error = 0.201\\nsamples = 756\\nvalue = 0.278'),\n",
              " Text(0.625, 0.16666666666666666, 'squared_error = 0.164\\nsamples = 426\\nvalue = 0.207'),\n",
              " Text(0.875, 0.16666666666666666, 'squared_error = 0.233\\nsamples = 330\\nvalue = 0.37')]"
            ]
          },
          "execution_count": 31,
          "metadata": {},
          "output_type": "execute_result"
        },
        {
          "data": {
            "image/png": "[encoded data removed]",
            "text/plain": [
              "<Figure size 640x480 with 1 Axes>"
            ]
          },
          "metadata": {},
          "output_type": "display_data"
        }
      ],
      "source": [
        "# Try making max_depth even lower instead of higher?\n",
        "\n",
        "# Process data\n",
        "y = tree_data['TenYearCHD']\n",
        "X = tree_data.drop(['TenYearCHD'], axis = 1)\n",
        "y_test = tree_test_data['TenYearCHD']\n",
        "X_test = tree_test_data.drop(['TenYearCHD'], axis = 1)\n",
        "\n",
        "# Fit tree\n",
        "tree = DecisionTreeRegressor(max_depth = 2)\n",
        "tree = tree.fit(X, y)\n",
        "\n",
        "# Make predictions on the test data\n",
        "y_hat = tree.predict(X_test)\n",
        "\n",
        "# Visualize results\n",
        "plot_tree(tree, filled = True, feature_names = tree.feature_names_in_)"
      ]
    },
    {
      "cell_type": "code",
      "execution_count": null,
      "metadata": {
        "colab": {
          "base_uri": "https://localhost:8080/"
        },
        "id": "lx5GdOVDFwoV",
        "outputId": "d5ef9220-b9a6-4789-ef88-5324de397a60"
      },
      "outputs": [
        {
          "name": "stdout",
          "output_type": "stream",
          "text": [
            "0.05963970137419505\n"
          ]
        }
      ],
      "source": [
        "# Statistics for above tree\n",
        "SSE = np.sum((y_test - y_hat) ** 2)\n",
        "TSS  =np.sum((y_test - np.mean(y)) ** 2)\n",
        "rsq = 1 - SSE/TSS\n",
        "print(rsq)"
      ]
    },
    {
      "cell_type": "markdown",
      "metadata": {
        "id": "Js53DE6wFykK"
      },
      "source": [
        "### Findings"
      ]
    },
    {
      "cell_type": "markdown",
      "metadata": {
        "id": "lvqtP1EPF1xO"
      },
      "source": [
        "Looks like even if we just focus on the variables with the highest correlations, setting max_depth = 3 had the highest R-squared value, while also showing us a more accurate representation of the relationships between the data than the previous set of decision tree models did."
      ]
    },
    {
      "cell_type": "markdown",
      "source": [
        "# **Conclusion**"
      ],
      "metadata": {
        "id": "ouLkKnyYRVYb"
      }
    },
    {
      "cell_type": "markdown",
      "source": [
        "In this project, we attempted to build a model that predicts whether someone develops coronary heart disease in the next ten years. We built k-nearest neighbors, linear regression, and decision tree models as we thought them best suited for the dataset. Test data and training data were pulled from the same respective files to ensure consistency between models.\n",
        "\n",
        "To identify the variables that had the most prediction on TenYearCHD, the correlation between each variable and the predictor variable was determined. The following highest correlated variables were used in the majority of the tried models: age, prevalentHyp, sysBP, and diaBP. These variables had correlations of 0.236, 0.221, 0.252, and 0.18 to TenYearCHD, respectively. All of these variables were classified as clinical variables as opposed to behavioral variables and had numerical values. In addition to age, prevalentHyp, sysBP and diaBP, totChol (0.024) and glucose (0.129) were also used in one linear regression model.\n",
        "\n",
        "When performing the k-nearest neighbor model, variables age, prevalentHyp, sysBP, and diaBP were used. After trying 1 through 50 clusters, the optimal k came out to be 24. With these variables and k=24, the kNN model had a resulting average accuracy score of 0.095, or 9.5% on the testing data set.\n",
        "\n",
        "The linear regression model used the same four variables as the kNN model, as additional variables caused overfitting. Two different tactics were used for normalization in an attempt to improve model performance: logarithms and a min-max function. This was in addition to running a linear model with no dataset normalization. Surprisingly, the r^2 value for the min-max linear model and the non-normalized model were the same which suggests the data was already fairly normally distributed to start with. However, using a logarithmic function did increase the r^2 value and was the most accurate model with an r^2 value of 0.086 or 8.6%.\n",
        "\n",
        "Finally a decision tree model was created. First, the analysis was done on the entire dataset to get a general idea of the relationships between the data and what the model would look like. Overfitting of the data was observed, so various maximum depth values were tested to determine the most optimal model. In this round of decision tree models, a maximum depth of 3 resulted in the model of best fit, with an R-squared value of about 0.0616. To improve the fit of the model, these same procedures were done again, but only focusing on the 4 variables of highest correlation with the 10-year risk of coronary heart disease. Overfitting of the data was observed again, so the same maximum depth values were tested to determine the most optimal model. In this round of decision tree models, a maximum depth of 3 resulted in the model of best fit again, but with a greater R-squared value of about 0.0691. Thus, the decision tree model had the best fit at a maximum depth of 3, when focusing on the data associated with the key variables of interest.\n",
        "\n",
        "Of all of the models explored in this project, the knn model had the best accuracy with its score being 0.095 followed by the linear regression model using logarithmic normalization at 0.086 and finally the decision tree was the worst with an r^2 value of 0.0691 at a maximum depth of 3. We tried using more variables as input and found that it decreased the model’s accuracy. From this we can conclude that regression models with age, prevalentHyp, sysBP, glucose, diaBP and totChol as variables are the best models we have found to predict the presence of coronary heart disease in a person in the following ten years.\n",
        "\n",
        "While the R squared results were not as high as we would have hoped, the models were optimized by normalizing the data. Rather than using a single model and performing optimizations, a variety of models were used to allow for a more comprehensive analysis of the data and to determine the model of best fit. Several methods were employed to improve the accuracy of the models, but alternative methods outside of the scope of this project could be employed in the future to further improve accuracy. Additionally, other models that were out of the scope of this project could be explored. Because of the robust nature of a random forest, it could be a good next step in this research area. A random forest provides variable importance as an alternative to correlations between TenYearCHD and the rest of the variables. If these important variables differ from the highly correlated variables, they could be used to improve the models.\n",
        "\n",
        "Due to the low accuracy of all generated models, we recommend against using them in a clinical setting. While a false positive isn’t cause for harm, the low accuracy means many false negatives which could be dangerous to patients. Future work includes testing more optimization methods, as well as creating a greater variety of models to improve accuracy before these models are employed in a clinical setting.\n",
        "\n"
      ],
      "metadata": {
        "id": "9nLRiblXRY08"
      }
    }
  ],
  "metadata": {
    "colab": {
      "provenance": []
    },
    "kernelspec": {
      "display_name": "Python 3 (ipykernel)",
      "language": "python",
      "name": "python3"
    },
    "language_info": {
      "codemirror_mode": {
        "name": "ipython",
        "version": 3
      },
      "file_extension": ".py",
      "mimetype": "text/x-python",
      "name": "python",
      "nbconvert_exporter": "python",
      "pygments_lexer": "ipython3",
      "version": "3.11.4"
    }
  },
  "nbformat": 4,
  "nbformat_minor": 0
}