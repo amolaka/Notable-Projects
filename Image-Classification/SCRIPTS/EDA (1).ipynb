{
 "cells": [
  {
   "cell_type": "code",
   "execution_count": null,
   "id": "b2a7cbf7-0307-47fe-804d-cce397ee19bf",
   "metadata": {
    "tags": []
   },
   "outputs": [],
   "source": [
    "%cd /sfs/weka/scratch/axu5pa/DS_4002_Project_3"
   ]
  },
  {
   "cell_type": "code",
   "execution_count": null,
   "id": "e1b09b2c-5a5d-4588-ac7e-4fda49e396fd",
   "metadata": {
    "tags": []
   },
   "outputs": [],
   "source": [
    "pip install openpyxl"
   ]
  },
  {
   "cell_type": "code",
   "execution_count": null,
   "id": "429b7311-1e85-4ea0-8264-d7b63eda138a",
   "metadata": {
    "tags": []
   },
   "outputs": [],
   "source": [
    "import pandas as pd\n",
    "import openpyxl\n",
    "\n",
    "# Load the Excel file into a DataFrame\n",
    "df = pd.read_excel('/sfs/weka/scratch/axu5pa/DS_4002_Project_3/PH2Dataset/PH2_dataset.xlsx', skiprows=12)  # Adjust 'skiprows' based on where your actual data starts\n",
    "\n",
    "# Display the first few rows to verify\n",
    "print(df.head())"
   ]
  },
  {
   "cell_type": "code",
   "execution_count": null,
   "id": "4708e782-68ab-45b3-a7e8-c40be2257b96",
   "metadata": {
    "tags": []
   },
   "outputs": [],
   "source": [
    "from IPython.display import display\n",
    "\n",
    "# Use display instead of print for a cleaner output in Jupyter Notebook\n",
    "display(df)"
   ]
  },
  {
   "cell_type": "code",
   "execution_count": null,
   "id": "e3ed46bb-6e3e-497e-b75b-31e4836828e2",
   "metadata": {
    "tags": []
   },
   "outputs": [],
   "source": [
    "pip install pillow"
   ]
  },
  {
   "cell_type": "code",
   "execution_count": null,
   "id": "69e6cfd4-b738-4689-84df-b10e208bf3cf",
   "metadata": {
    "tags": []
   },
   "outputs": [],
   "source": [
    "import os\n",
    "import pandas as pd\n",
    "from PIL import Image\n",
    "\n",
    "# Load your dataframe (assuming it's already loaded, or you can load it from a CSV)\n",
    "# df = pd.read_csv('your_dataframe.csv')  # Load your dataframe if needed\n",
    "\n",
    "# Define the directory where your .bmp images are stored\n",
    "image_dir = '/sfs/weka/scratch/axu5pa/DS_4002_Project_3/PH2Dataset/Images'\n",
    "\n",
    "# List all .bmp files in the directory\n",
    "image_files = [f for f in os.listdir(image_dir) if f.endswith('.bmp')]\n",
    "\n",
    "# Create a dictionary to map image names (without .bmp) to file paths\n",
    "image_dict = {os.path.splitext(f)[0]: os.path.join(image_dir, f) for f in image_files}\n",
    "\n",
    "# Add a new column to the dataframe for image paths\n",
    "df['Image Path'] = df['Image Name'].map(image_dict)\n",
    "\n",
    "# Define a function to classify based on the 'X' values in the relevant columns\n",
    "def classify_lesion(row):\n",
    "    if row['Common Nevus'] == 'X':\n",
    "        return 'Benign'\n",
    "    elif row['Atypical Nevus'] == 'X':\n",
    "        return 'Benign*'\n",
    "    elif row['Melanoma'] == 'X':\n",
    "        return 'Malignant'\n",
    "    else:\n",
    "        return 'Unknown'  # If none of the columns have an 'X'\n",
    "\n",
    "# Apply the function to each row in the dataframe to create a new 'Class' column\n",
    "df['Class'] = df.apply(classify_lesion, axis=1)\n",
    "\n",
    "# Check if there are any unknown classifications\n",
    "unknown_classifications = df[df['Class'] == 'Unknown']\n",
    "if not unknown_classifications.empty:\n",
    "    print(\"Some images were not classified correctly:\")\n",
    "    print(unknown_classifications)\n",
    "else:\n",
    "    print(\"All images classified successfully.\")\n",
    "\n",
    "# Drop the 'Lesion Type' column if it exists\n",
    "if 'Lesion Type' in df.columns:\n",
    "    df = df.drop(columns=['Lesion Type'])\n",
    "\n",
    "# Check if there are any missing matches\n",
    "missing_images = df[df['Image Path'].isnull()]\n",
    "\n",
    "if not missing_images.empty:\n",
    "    print(\"Some images were not found:\")\n",
    "    print(missing_images)\n",
    "else:\n",
    "    print(\"All images matched successfully.\")\n",
    "\n",
    "# Example: Open and display an image from the dataframe using PIL\n",
    "for index, row in df.iterrows():\n",
    "    img_path = row['Image Path']\n",
    "    if img_path:  # Ensure there's a valid path\n",
    "        img = Image.open(img_path)\n",
    "        display(img)  # Display image in Jupyter Notebook (optional)"
   ]
  },
  {
   "cell_type": "code",
   "execution_count": null,
   "id": "6ef5c3a1-e0d8-4197-99d2-667346ea6b1e",
   "metadata": {
    "tags": []
   },
   "outputs": [],
   "source": [
    "from IPython.display import display\n",
    "\n",
    "# Use display instead of print for a cleaner output in Jupyter Notebook\n",
    "display(df)"
   ]
  },
  {
   "cell_type": "code",
   "execution_count": null,
   "id": "a973ed2d-3d6b-452c-86e6-3dc76f44d422",
   "metadata": {
    "tags": []
   },
   "outputs": [],
   "source": [
    "import pandas as pd\n",
    "\n",
    "# Assuming df already has columns 'Common Nevus', 'Atypical Nevus', and 'Melanoma'\n",
    "\n",
    "# Define a function to classify based on the 'X' values in the relevant columns\n",
    "def classify_lesion(row):\n",
    "    if row['Common Nevus'] == 'X':\n",
    "        return 'Benign'\n",
    "    elif row['Atypical Nevus'] == 'X':\n",
    "        return 'Benign*'\n",
    "    elif row['Melanoma'] == 'X':\n",
    "        return 'Malignant'\n",
    "    else:\n",
    "        return 'Unknown'  # If none of the columns have an 'X'\n",
    "\n",
    "# Apply the function to each row in the dataframe to create a new 'Class' column\n",
    "df['Class'] = df.apply(classify_lesion, axis=1)\n",
    "\n",
    "# Check if there are any unknown classifications\n",
    "unknown_classifications = df[df['Class'] == 'Unknown']\n",
    "if not unknown_classifications.empty:\n",
    "    print(\"Some images were not classified correctly:\")\n",
    "    print(unknown_classifications)\n",
    "else:\n",
    "    print(\"All images classified successfully.\")\n",
    "\n",
    "# Drop the 'Lesion Type' column if it exists\n",
    "if 'Lesion Type' in df.columns:\n",
    "    df = df.drop(columns=['Lesion Type'])\n",
    "\n",
    "# Display the first few rows of the dataframe to verify\n",
    "from IPython.display import display\n",
    "\n",
    "# Use display instead of print for a cleaner output in Jupyter Notebook\n",
    "display(df)"
   ]
  },
  {
   "cell_type": "code",
   "execution_count": null,
   "id": "05deb5b5-a9d0-42bf-b66d-29e8d8024515",
   "metadata": {
    "tags": []
   },
   "outputs": [],
   "source": [
    "import os\n",
    "import pandas as pd\n",
    "import matplotlib.pyplot as plt\n",
    "import seaborn as sns\n",
    "from PIL import Image, ImageStat\n",
    "import numpy as np\n",
    "import cv2\n",
    "\n",
    "# Assuming df is already loaded with the 'Image Path' and 'Class' columns\n",
    "\n",
    "# For reference:\n",
    "benign_classes = ['Common Nevus']\n",
    "benign_star_classes = ['Atypical Nevus']\n",
    "malignant_classes = ['Melanoma']"
   ]
  },
  {
   "cell_type": "code",
   "execution_count": null,
   "id": "6b9dbfb5-1d26-4a02-952e-619c6a6f58a5",
   "metadata": {
    "tags": []
   },
   "outputs": [],
   "source": [
    "# Question 1: Are the classes balanced, or is there class imbalance?\n",
    "# --------------------------------------------------------------\n",
    "import matplotlib.pyplot as plt\n",
    "import seaborn as sns\n",
    "\n",
    "# Plot the distribution of classes ('Benign', 'Benign*', 'Malignant')\n",
    "plt.figure(figsize=(8, 6))\n",
    "sns.countplot(data=df, x='Class', palette='Set2')\n",
    "\n",
    "# Set plot title and labels\n",
    "plt.title('Distribution of Benign, Benign*, and Malignant Lesions')\n",
    "plt.xlabel('Class')\n",
    "plt.ylabel('Count')\n",
    "\n",
    "# Show the plot\n",
    "plt.show()\n",
    "\n",
    "# Print class distribution for severity check (percentage)\n",
    "class_distribution = df['Class'].value_counts(normalize=True) * 100\n",
    "print(\"Class Distribution (%):\\n\", class_distribution)"
   ]
  },
  {
   "cell_type": "code",
   "execution_count": null,
   "id": "d4890d9e-5eb2-4a6d-80ac-af4f167c7b85",
   "metadata": {
    "tags": []
   },
   "outputs": [],
   "source": [
    "# Question 2: Are the images consistent in resolution? Do they have similar aspect ratios?\n",
    "# --------------------------------------------------------------\n",
    "import os\n",
    "import pandas as pd\n",
    "import matplotlib.pyplot as plt\n",
    "import seaborn as sns\n",
    "from PIL import Image\n",
    "\n",
    "# Function to get image dimensions and aspect ratio\n",
    "def get_image_dimensions(image_path):\n",
    "    # Check if the image path is valid and not NaN\n",
    "    if isinstance(image_path, str) and os.path.exists(image_path):\n",
    "        with Image.open(image_path) as img:\n",
    "            width, height = img.size\n",
    "            aspect_ratio = width / height\n",
    "            return width, height, aspect_ratio\n",
    "    else:\n",
    "        return None, None, None  # Return None for invalid paths\n",
    "\n",
    "# Apply function to each row in dataframe and store results in new columns\n",
    "df[['Width', 'Height', 'Aspect Ratio']] = df['Image Path'].apply(lambda x: pd.Series(get_image_dimensions(x)))\n",
    "\n",
    "# Drop rows where dimensions couldn't be calculated (i.e., where Width is None)\n",
    "df_cleaned = df.dropna(subset=['Width'])\n",
    "\n",
    "# Plot histograms of image widths, heights, and aspect ratios\n",
    "fig, axes = plt.subplots(1, 3, figsize=(18, 6))\n",
    "\n",
    "sns.histplot(df_cleaned['Width'], bins=20, ax=axes[0], color='skyblue')\n",
    "axes[0].set_title('Image Width Distribution')\n",
    "\n",
    "sns.histplot(df_cleaned['Height'], bins=20, ax=axes[1], color='lightgreen')\n",
    "axes[1].set_title('Image Height Distribution')\n",
    "\n",
    "sns.histplot(df_cleaned['Aspect Ratio'], bins=20, ax=axes[2], color='salmon')\n",
    "axes[2].set_title('Image Aspect Ratio Distribution')\n",
    "\n",
    "plt.tight_layout()\n",
    "plt.show()"
   ]
  },
  {
   "cell_type": "code",
   "execution_count": null,
   "id": "de57afde-f74f-4df0-9ecb-db816b286fe8",
   "metadata": {
    "tags": []
   },
   "outputs": [],
   "source": [
    "# Calculate the average (mean) of 'Width', 'Height', and 'Aspect Ratio'\n",
    "average_width = df_cleaned['Width'].mean()\n",
    "average_height = df_cleaned['Height'].mean()\n",
    "average_aspect_ratio = df_cleaned['Aspect Ratio'].mean()\n",
    "\n",
    "# Print the results\n",
    "print(f\"Average Width: {average_width:.2f} pixels\")\n",
    "print(f\"Average Height: {average_height:.2f} pixels\")\n",
    "print(f\"Average Aspect Ratio: {average_aspect_ratio:.2f}\")"
   ]
  },
  {
   "cell_type": "code",
   "execution_count": null,
   "id": "d5a2f557-f558-4802-a83c-3b1615a20021",
   "metadata": {
    "tags": []
   },
   "outputs": [],
   "source": [
    "# Question 3: Is there a difference in color distribution across classes?\n",
    "# --------------------------------------------------------------\n",
    "import pandas as pd\n",
    "import matplotlib.pyplot as plt\n",
    "import seaborn as sns\n",
    "\n",
    "# Convert 'X' values in color columns to binary (1 for 'X', 0 for NaN)\n",
    "color_columns = ['White', 'Red', 'Light-Brown', 'Dark-Brown', 'Blue-Gray', 'Black']\n",
    "df[color_columns] = df[color_columns].applymap(lambda x: 1 if x == 'X' else 0)\n",
    "\n",
    "# Melt the dataframe to long format for easier plotting\n",
    "df_melted = df.melt(id_vars='Class', value_vars=color_columns, var_name='Color', value_name='Presence')\n",
    "\n",
    "# Plot the distribution of colors by class\n",
    "plt.figure(figsize=(10, 6))\n",
    "sns.barplot(data=df_melted, x='Color', y='Presence', hue='Class', ci=None, palette='Set2')\n",
    "\n",
    "# Set plot title and labels\n",
    "plt.title('Color Distribution Across Lesion Classes')\n",
    "plt.xlabel('Color')\n",
    "plt.ylabel('Average Presence (1 = Present, 0 = Absent)')\n",
    "\n",
    "# Show the plot\n",
    "plt.tight_layout()\n",
    "plt.show()"
   ]
  },
  {
   "cell_type": "code",
   "execution_count": null,
   "id": "582c0969-c329-4df7-9556-c48935850d5d",
   "metadata": {
    "tags": []
   },
   "outputs": [],
   "source": [
    "# Question 4: Do images differ significantly in brightness or contrast?\n",
    "# --------------------------------------------------------------\n",
    "import pandas as pd\n",
    "from PIL import Image, ImageStat\n",
    "import matplotlib.pyplot as plt\n",
    "import seaborn as sns\n",
    "\n",
    "# Function to calculate brightness and contrast of an image\n",
    "def get_brightness_contrast(image_path):\n",
    "    # Check if the image path is valid and not NaN\n",
    "    if isinstance(image_path, str) and os.path.exists(image_path):\n",
    "        img = Image.open(image_path).convert('L')  # Convert to grayscale for brightness/contrast calculation\n",
    "        stat = ImageStat.Stat(img)\n",
    "\n",
    "        # Brightness: Mean pixel value in grayscale image\n",
    "        brightness = stat.mean[0]\n",
    "\n",
    "        # Contrast: Standard deviation of pixel values (higher std -> higher contrast)\n",
    "        contrast = stat.stddev[0]\n",
    "\n",
    "        return brightness, contrast\n",
    "    else:\n",
    "        return None, None  # Return None for invalid paths\n",
    "\n",
    "# Apply function to each row in dataframe and store results in new columns\n",
    "df[['Brightness', 'Contrast']] = df['Image Path'].apply(lambda x: pd.Series(get_brightness_contrast(x)))\n",
    "\n",
    "# Drop rows where brightness or contrast couldn't be calculated (i.e., where Brightness is None)\n",
    "df_cleaned = df.dropna(subset=['Brightness'])\n",
    "\n",
    "# Plot histograms of brightness and contrast values across images\n",
    "fig, axes = plt.subplots(1, 2, figsize=(12, 6))\n",
    "\n",
    "sns.histplot(df_cleaned['Brightness'], bins=20, ax=axes[0], color='orange')\n",
    "axes[0].set_title('Brightness Distribution')\n",
    "\n",
    "sns.histplot(df_cleaned['Contrast'], bins=20, ax=axes[1], color='purple')\n",
    "axes[1].set_title('Contrast Distribution')\n",
    "\n",
    "plt.tight_layout()\n",
    "plt.show()"
   ]
  },
  {
   "cell_type": "code",
   "execution_count": null,
   "id": "4254f4c7-a998-46b9-8ac9-8cb9ad32c61a",
   "metadata": {
    "tags": []
   },
   "outputs": [],
   "source": [
    "print(df.columns)"
   ]
  }
 ],
 "metadata": {
  "kernelspec": {
   "display_name": "Tensorflow 2.13.0",
   "language": "python",
   "name": "tensorflow-2.13.0"
  },
  "language_info": {
   "codemirror_mode": {
    "name": "ipython",
    "version": 3
   },
   "file_extension": ".py",
   "mimetype": "text/x-python",
   "name": "python",
   "nbconvert_exporter": "python",
   "pygments_lexer": "ipython3",
   "version": "3.10.12"
  }
 },
 "nbformat": 4,
 "nbformat_minor": 5
}
